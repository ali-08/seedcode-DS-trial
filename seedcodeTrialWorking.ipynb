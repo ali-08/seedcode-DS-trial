{
  "nbformat": 4,
  "nbformat_minor": 0,
  "metadata": {
    "colab": {
      "name": "seedcodeTrialWorking.ipynb",
      "provenance": [],
      "collapsed_sections": []
    },
    "kernelspec": {
      "name": "python3",
      "display_name": "Python 3"
    }
  },
  "cells": [
    {
      "cell_type": "code",
      "metadata": {
        "colab": {
          "base_uri": "https://localhost:8080/"
        },
        "id": "AJ-4EBlyS__Z",
        "outputId": "71d17c8a-8381-4d3c-aa3b-5d5b28edb15e"
      },
      "source": [
        "!gdown --id 1JCuim274hkoXCUjMe4RipKSJj8Q4WeOr"
      ],
      "execution_count": 1,
      "outputs": [
        {
          "output_type": "stream",
          "text": [
            "Downloading...\n",
            "From: https://drive.google.com/uc?id=1JCuim274hkoXCUjMe4RipKSJj8Q4WeOr\n",
            "To: /content/dataset.csv\n",
            "\r0.00B [00:00, ?B/s]\r4.22MB [00:00, 66.5MB/s]\n"
          ],
          "name": "stdout"
        }
      ]
    },
    {
      "cell_type": "code",
      "metadata": {
        "id": "Lo2DpvhwTnxC"
      },
      "source": [
        "import numpy as np\r\n",
        "import pandas as pd\r\n",
        "import os\r\n",
        "import sklearn\r\n",
        "\r\n",
        "%matplotlib inline\r\n",
        "import matplotlib as mpl\r\n",
        "import matplotlib.pyplot as plt"
      ],
      "execution_count": 2,
      "outputs": []
    },
    {
      "cell_type": "code",
      "metadata": {
        "id": "_Mtv9Y3NZIMd"
      },
      "source": [
        "df = pd.read_csv(\"dataset.csv\")"
      ],
      "execution_count": 3,
      "outputs": []
    },
    {
      "cell_type": "code",
      "metadata": {
        "colab": {
          "base_uri": "https://localhost:8080/",
          "height": 244
        },
        "id": "nwvzYiY8ZL5j",
        "outputId": "e9dbf159-edbb-4621-a40d-1c34ada4c980"
      },
      "source": [
        "df.head()"
      ],
      "execution_count": 4,
      "outputs": [
        {
          "output_type": "execute_result",
          "data": {
            "text/html": [
              "<div>\n",
              "<style scoped>\n",
              "    .dataframe tbody tr th:only-of-type {\n",
              "        vertical-align: middle;\n",
              "    }\n",
              "\n",
              "    .dataframe tbody tr th {\n",
              "        vertical-align: top;\n",
              "    }\n",
              "\n",
              "    .dataframe thead th {\n",
              "        text-align: right;\n",
              "    }\n",
              "</style>\n",
              "<table border=\"1\" class=\"dataframe\">\n",
              "  <thead>\n",
              "    <tr style=\"text-align: right;\">\n",
              "      <th></th>\n",
              "      <th>var1</th>\n",
              "      <th>var2</th>\n",
              "      <th>var3</th>\n",
              "      <th>var4</th>\n",
              "      <th>var5</th>\n",
              "      <th>var6</th>\n",
              "      <th>var7</th>\n",
              "      <th>var8</th>\n",
              "      <th>var9</th>\n",
              "      <th>var10</th>\n",
              "      <th>var11</th>\n",
              "      <th>var12</th>\n",
              "      <th>var13</th>\n",
              "      <th>var14</th>\n",
              "      <th>var15</th>\n",
              "      <th>var16</th>\n",
              "      <th>var17</th>\n",
              "      <th>var18</th>\n",
              "      <th>var19</th>\n",
              "      <th>var20</th>\n",
              "      <th>var21</th>\n",
              "      <th>var22</th>\n",
              "      <th>var23</th>\n",
              "      <th>var24</th>\n",
              "      <th>var25</th>\n",
              "      <th>var26</th>\n",
              "      <th>var27</th>\n",
              "      <th>var28</th>\n",
              "      <th>var29</th>\n",
              "      <th>var30</th>\n",
              "      <th>var31</th>\n",
              "      <th>var32</th>\n",
              "      <th>var33</th>\n",
              "      <th>var34</th>\n",
              "      <th>var35</th>\n",
              "      <th>var36</th>\n",
              "      <th>var37</th>\n",
              "      <th>var38</th>\n",
              "      <th>var39</th>\n",
              "      <th>var40</th>\n",
              "      <th>...</th>\n",
              "      <th>var96</th>\n",
              "      <th>var97</th>\n",
              "      <th>var98</th>\n",
              "      <th>var99</th>\n",
              "      <th>var100</th>\n",
              "      <th>var101</th>\n",
              "      <th>var102</th>\n",
              "      <th>var103</th>\n",
              "      <th>trialOutcomes</th>\n",
              "      <th>var104</th>\n",
              "      <th>var105</th>\n",
              "      <th>var106</th>\n",
              "      <th>var107</th>\n",
              "      <th>var108</th>\n",
              "      <th>var109</th>\n",
              "      <th>var110</th>\n",
              "      <th>var111</th>\n",
              "      <th>var112</th>\n",
              "      <th>var113</th>\n",
              "      <th>var114</th>\n",
              "      <th>var115</th>\n",
              "      <th>var116</th>\n",
              "      <th>var117</th>\n",
              "      <th>var118</th>\n",
              "      <th>var119</th>\n",
              "      <th>var120</th>\n",
              "      <th>var121</th>\n",
              "      <th>var122</th>\n",
              "      <th>var123</th>\n",
              "      <th>var124</th>\n",
              "      <th>var125</th>\n",
              "      <th>var126</th>\n",
              "      <th>var127</th>\n",
              "      <th>var128</th>\n",
              "      <th>var129</th>\n",
              "      <th>var130</th>\n",
              "      <th>var131</th>\n",
              "      <th>var132</th>\n",
              "      <th>var133</th>\n",
              "      <th>var134</th>\n",
              "    </tr>\n",
              "  </thead>\n",
              "  <tbody>\n",
              "    <tr>\n",
              "      <th>0</th>\n",
              "      <td>818.0</td>\n",
              "      <td>1006.0</td>\n",
              "      <td>33.0</td>\n",
              "      <td>0.0</td>\n",
              "      <td>0.0</td>\n",
              "      <td>0.0</td>\n",
              "      <td>0.0</td>\n",
              "      <td>0.0</td>\n",
              "      <td>0.0</td>\n",
              "      <td>0.0</td>\n",
              "      <td>0.0</td>\n",
              "      <td>0.0</td>\n",
              "      <td>0.0</td>\n",
              "      <td>0.0</td>\n",
              "      <td>0.0</td>\n",
              "      <td>0.0</td>\n",
              "      <td>0.0</td>\n",
              "      <td>0.0</td>\n",
              "      <td>0.0</td>\n",
              "      <td>0.0</td>\n",
              "      <td>0.0</td>\n",
              "      <td>0.0</td>\n",
              "      <td>0.0</td>\n",
              "      <td>0.0</td>\n",
              "      <td>0.0</td>\n",
              "      <td>0.0</td>\n",
              "      <td>0.0</td>\n",
              "      <td>0.0</td>\n",
              "      <td>0.0</td>\n",
              "      <td>0.0</td>\n",
              "      <td>0.0</td>\n",
              "      <td>0.0</td>\n",
              "      <td>0.0</td>\n",
              "      <td>0.0</td>\n",
              "      <td>0.0</td>\n",
              "      <td>0.0</td>\n",
              "      <td>0.0</td>\n",
              "      <td>0.0</td>\n",
              "      <td>0.0</td>\n",
              "      <td>0</td>\n",
              "      <td>...</td>\n",
              "      <td>51</td>\n",
              "      <td>2</td>\n",
              "      <td>92</td>\n",
              "      <td>1</td>\n",
              "      <td>0</td>\n",
              "      <td>0</td>\n",
              "      <td>637</td>\n",
              "      <td>219</td>\n",
              "      <td>0</td>\n",
              "      <td>51.35</td>\n",
              "      <td>NaN</td>\n",
              "      <td>NaN</td>\n",
              "      <td>NaN</td>\n",
              "      <td>NaN</td>\n",
              "      <td>NaN</td>\n",
              "      <td>NaN</td>\n",
              "      <td>NaN</td>\n",
              "      <td>NaN</td>\n",
              "      <td>NaN</td>\n",
              "      <td>NaN</td>\n",
              "      <td>NaN</td>\n",
              "      <td>NaN</td>\n",
              "      <td>NaN</td>\n",
              "      <td>NaN</td>\n",
              "      <td>NaN</td>\n",
              "      <td>NaN</td>\n",
              "      <td>NaN</td>\n",
              "      <td>NaN</td>\n",
              "      <td>NaN</td>\n",
              "      <td>NaN</td>\n",
              "      <td>NaN</td>\n",
              "      <td>NaN</td>\n",
              "      <td>NaN</td>\n",
              "      <td>NaN</td>\n",
              "      <td>NaN</td>\n",
              "      <td>NaN</td>\n",
              "      <td>NaN</td>\n",
              "      <td>NaN</td>\n",
              "      <td>NaN</td>\n",
              "      <td>0</td>\n",
              "    </tr>\n",
              "    <tr>\n",
              "      <th>1</th>\n",
              "      <td>NaN</td>\n",
              "      <td>20.0</td>\n",
              "      <td>6.0</td>\n",
              "      <td>0.0</td>\n",
              "      <td>0.0</td>\n",
              "      <td>0.0</td>\n",
              "      <td>0.0</td>\n",
              "      <td>0.0</td>\n",
              "      <td>0.0</td>\n",
              "      <td>0.0</td>\n",
              "      <td>0.0</td>\n",
              "      <td>0.0</td>\n",
              "      <td>0.0</td>\n",
              "      <td>0.0</td>\n",
              "      <td>0.0</td>\n",
              "      <td>0.0</td>\n",
              "      <td>0.0</td>\n",
              "      <td>0.0</td>\n",
              "      <td>0.0</td>\n",
              "      <td>0.0</td>\n",
              "      <td>1.0</td>\n",
              "      <td>0.0</td>\n",
              "      <td>0.0</td>\n",
              "      <td>0.0</td>\n",
              "      <td>0.0</td>\n",
              "      <td>0.0</td>\n",
              "      <td>0.0</td>\n",
              "      <td>0.0</td>\n",
              "      <td>0.0</td>\n",
              "      <td>0.0</td>\n",
              "      <td>0.0</td>\n",
              "      <td>0.0</td>\n",
              "      <td>0.0</td>\n",
              "      <td>0.0</td>\n",
              "      <td>0.0</td>\n",
              "      <td>0.0</td>\n",
              "      <td>0.0</td>\n",
              "      <td>0.0</td>\n",
              "      <td>0.0</td>\n",
              "      <td>0</td>\n",
              "      <td>...</td>\n",
              "      <td>1</td>\n",
              "      <td>0</td>\n",
              "      <td>0</td>\n",
              "      <td>0</td>\n",
              "      <td>10</td>\n",
              "      <td>20</td>\n",
              "      <td>20</td>\n",
              "      <td>13</td>\n",
              "      <td>0</td>\n",
              "      <td>19.94</td>\n",
              "      <td>0.0</td>\n",
              "      <td>0.0</td>\n",
              "      <td>1.0</td>\n",
              "      <td>NaN</td>\n",
              "      <td>NaN</td>\n",
              "      <td>NaN</td>\n",
              "      <td>NaN</td>\n",
              "      <td>NaN</td>\n",
              "      <td>0.0</td>\n",
              "      <td>0.0</td>\n",
              "      <td>0.0</td>\n",
              "      <td>0.0</td>\n",
              "      <td>NaN</td>\n",
              "      <td>NaN</td>\n",
              "      <td>NaN</td>\n",
              "      <td>NaN</td>\n",
              "      <td>NaN</td>\n",
              "      <td>NaN</td>\n",
              "      <td>0.0</td>\n",
              "      <td>0.0</td>\n",
              "      <td>0.0</td>\n",
              "      <td>0.0</td>\n",
              "      <td>0.0</td>\n",
              "      <td>0.0</td>\n",
              "      <td>0.0</td>\n",
              "      <td>0.0</td>\n",
              "      <td>0.0</td>\n",
              "      <td>0.0</td>\n",
              "      <td>0.0</td>\n",
              "      <td>0</td>\n",
              "    </tr>\n",
              "    <tr>\n",
              "      <th>2</th>\n",
              "      <td>NaN</td>\n",
              "      <td>600.0</td>\n",
              "      <td>18.0</td>\n",
              "      <td>0.0</td>\n",
              "      <td>0.0</td>\n",
              "      <td>0.0</td>\n",
              "      <td>0.0</td>\n",
              "      <td>0.0</td>\n",
              "      <td>0.0</td>\n",
              "      <td>0.0</td>\n",
              "      <td>0.0</td>\n",
              "      <td>0.0</td>\n",
              "      <td>0.0</td>\n",
              "      <td>0.0</td>\n",
              "      <td>0.0</td>\n",
              "      <td>0.0</td>\n",
              "      <td>0.0</td>\n",
              "      <td>0.0</td>\n",
              "      <td>0.0</td>\n",
              "      <td>0.0</td>\n",
              "      <td>0.0</td>\n",
              "      <td>0.0</td>\n",
              "      <td>0.0</td>\n",
              "      <td>0.0</td>\n",
              "      <td>0.0</td>\n",
              "      <td>0.0</td>\n",
              "      <td>0.0</td>\n",
              "      <td>0.0</td>\n",
              "      <td>0.0</td>\n",
              "      <td>0.0</td>\n",
              "      <td>0.0</td>\n",
              "      <td>0.0</td>\n",
              "      <td>0.0</td>\n",
              "      <td>0.0</td>\n",
              "      <td>0.0</td>\n",
              "      <td>0.0</td>\n",
              "      <td>0.0</td>\n",
              "      <td>1.0</td>\n",
              "      <td>0.0</td>\n",
              "      <td>0</td>\n",
              "      <td>...</td>\n",
              "      <td>12</td>\n",
              "      <td>3</td>\n",
              "      <td>6</td>\n",
              "      <td>2</td>\n",
              "      <td>0</td>\n",
              "      <td>4</td>\n",
              "      <td>622</td>\n",
              "      <td>251</td>\n",
              "      <td>0</td>\n",
              "      <td>99.00</td>\n",
              "      <td>0.0</td>\n",
              "      <td>0.0</td>\n",
              "      <td>0.0</td>\n",
              "      <td>NaN</td>\n",
              "      <td>NaN</td>\n",
              "      <td>NaN</td>\n",
              "      <td>NaN</td>\n",
              "      <td>NaN</td>\n",
              "      <td>0.0</td>\n",
              "      <td>0.0</td>\n",
              "      <td>1.0</td>\n",
              "      <td>0.0</td>\n",
              "      <td>NaN</td>\n",
              "      <td>NaN</td>\n",
              "      <td>NaN</td>\n",
              "      <td>NaN</td>\n",
              "      <td>NaN</td>\n",
              "      <td>NaN</td>\n",
              "      <td>0.0</td>\n",
              "      <td>1.0</td>\n",
              "      <td>0.0</td>\n",
              "      <td>0.0</td>\n",
              "      <td>0.0</td>\n",
              "      <td>0.0</td>\n",
              "      <td>0.0</td>\n",
              "      <td>0.0</td>\n",
              "      <td>0.0</td>\n",
              "      <td>0.0</td>\n",
              "      <td>0.0</td>\n",
              "      <td>0</td>\n",
              "    </tr>\n",
              "    <tr>\n",
              "      <th>3</th>\n",
              "      <td>NaN</td>\n",
              "      <td>710.0</td>\n",
              "      <td>26.0</td>\n",
              "      <td>0.0</td>\n",
              "      <td>0.0</td>\n",
              "      <td>0.0</td>\n",
              "      <td>0.0</td>\n",
              "      <td>0.0</td>\n",
              "      <td>0.0</td>\n",
              "      <td>0.0</td>\n",
              "      <td>0.0</td>\n",
              "      <td>0.0</td>\n",
              "      <td>0.0</td>\n",
              "      <td>0.0</td>\n",
              "      <td>0.0</td>\n",
              "      <td>0.0</td>\n",
              "      <td>0.0</td>\n",
              "      <td>0.0</td>\n",
              "      <td>0.0</td>\n",
              "      <td>0.0</td>\n",
              "      <td>0.0</td>\n",
              "      <td>0.0</td>\n",
              "      <td>0.0</td>\n",
              "      <td>0.0</td>\n",
              "      <td>0.0</td>\n",
              "      <td>0.0</td>\n",
              "      <td>0.0</td>\n",
              "      <td>0.0</td>\n",
              "      <td>0.0</td>\n",
              "      <td>0.0</td>\n",
              "      <td>0.0</td>\n",
              "      <td>0.0</td>\n",
              "      <td>0.0</td>\n",
              "      <td>0.0</td>\n",
              "      <td>0.0</td>\n",
              "      <td>0.0</td>\n",
              "      <td>0.0</td>\n",
              "      <td>1.0</td>\n",
              "      <td>0.0</td>\n",
              "      <td>0</td>\n",
              "      <td>...</td>\n",
              "      <td>7</td>\n",
              "      <td>2</td>\n",
              "      <td>0</td>\n",
              "      <td>0</td>\n",
              "      <td>5429</td>\n",
              "      <td>6468</td>\n",
              "      <td>95</td>\n",
              "      <td>146</td>\n",
              "      <td>0</td>\n",
              "      <td>62.57</td>\n",
              "      <td>0.0</td>\n",
              "      <td>0.0</td>\n",
              "      <td>1.0</td>\n",
              "      <td>0.0</td>\n",
              "      <td>1.0</td>\n",
              "      <td>0.0</td>\n",
              "      <td>1.0</td>\n",
              "      <td>0.0</td>\n",
              "      <td>0.0</td>\n",
              "      <td>1.0</td>\n",
              "      <td>1.0</td>\n",
              "      <td>0.0</td>\n",
              "      <td>NaN</td>\n",
              "      <td>NaN</td>\n",
              "      <td>NaN</td>\n",
              "      <td>NaN</td>\n",
              "      <td>NaN</td>\n",
              "      <td>NaN</td>\n",
              "      <td>0.0</td>\n",
              "      <td>1.0</td>\n",
              "      <td>0.0</td>\n",
              "      <td>0.0</td>\n",
              "      <td>0.0</td>\n",
              "      <td>0.0</td>\n",
              "      <td>0.0</td>\n",
              "      <td>0.0</td>\n",
              "      <td>0.0</td>\n",
              "      <td>0.0</td>\n",
              "      <td>0.0</td>\n",
              "      <td>0</td>\n",
              "    </tr>\n",
              "    <tr>\n",
              "      <th>4</th>\n",
              "      <td>NaN</td>\n",
              "      <td>1270.0</td>\n",
              "      <td>1.0</td>\n",
              "      <td>0.0</td>\n",
              "      <td>0.0</td>\n",
              "      <td>0.0</td>\n",
              "      <td>0.0</td>\n",
              "      <td>0.0</td>\n",
              "      <td>0.0</td>\n",
              "      <td>0.0</td>\n",
              "      <td>0.0</td>\n",
              "      <td>0.0</td>\n",
              "      <td>0.0</td>\n",
              "      <td>0.0</td>\n",
              "      <td>0.0</td>\n",
              "      <td>0.0</td>\n",
              "      <td>0.0</td>\n",
              "      <td>0.0</td>\n",
              "      <td>0.0</td>\n",
              "      <td>0.0</td>\n",
              "      <td>0.0</td>\n",
              "      <td>0.0</td>\n",
              "      <td>0.0</td>\n",
              "      <td>0.0</td>\n",
              "      <td>0.0</td>\n",
              "      <td>0.0</td>\n",
              "      <td>0.0</td>\n",
              "      <td>0.0</td>\n",
              "      <td>0.0</td>\n",
              "      <td>0.0</td>\n",
              "      <td>0.0</td>\n",
              "      <td>0.0</td>\n",
              "      <td>0.0</td>\n",
              "      <td>0.0</td>\n",
              "      <td>0.0</td>\n",
              "      <td>0.0</td>\n",
              "      <td>0.0</td>\n",
              "      <td>1.0</td>\n",
              "      <td>0.0</td>\n",
              "      <td>0</td>\n",
              "      <td>...</td>\n",
              "      <td>8</td>\n",
              "      <td>3</td>\n",
              "      <td>1</td>\n",
              "      <td>1</td>\n",
              "      <td>6119</td>\n",
              "      <td>7220</td>\n",
              "      <td>104</td>\n",
              "      <td>278</td>\n",
              "      <td>0</td>\n",
              "      <td>34.51</td>\n",
              "      <td>0.0</td>\n",
              "      <td>0.0</td>\n",
              "      <td>1.0</td>\n",
              "      <td>0.0</td>\n",
              "      <td>1.0</td>\n",
              "      <td>0.0</td>\n",
              "      <td>1.0</td>\n",
              "      <td>0.0</td>\n",
              "      <td>0.0</td>\n",
              "      <td>1.0</td>\n",
              "      <td>1.0</td>\n",
              "      <td>0.0</td>\n",
              "      <td>NaN</td>\n",
              "      <td>NaN</td>\n",
              "      <td>NaN</td>\n",
              "      <td>NaN</td>\n",
              "      <td>NaN</td>\n",
              "      <td>NaN</td>\n",
              "      <td>0.0</td>\n",
              "      <td>1.0</td>\n",
              "      <td>0.0</td>\n",
              "      <td>0.0</td>\n",
              "      <td>0.0</td>\n",
              "      <td>0.0</td>\n",
              "      <td>0.0</td>\n",
              "      <td>0.0</td>\n",
              "      <td>0.0</td>\n",
              "      <td>0.0</td>\n",
              "      <td>0.0</td>\n",
              "      <td>0</td>\n",
              "    </tr>\n",
              "  </tbody>\n",
              "</table>\n",
              "<p>5 rows × 135 columns</p>\n",
              "</div>"
            ],
            "text/plain": [
              "    var1    var2  var3  var4  var5  ...  var130  var131  var132  var133  var134\n",
              "0  818.0  1006.0  33.0   0.0   0.0  ...     NaN     NaN     NaN     NaN       0\n",
              "1    NaN    20.0   6.0   0.0   0.0  ...     0.0     0.0     0.0     0.0       0\n",
              "2    NaN   600.0  18.0   0.0   0.0  ...     0.0     0.0     0.0     0.0       0\n",
              "3    NaN   710.0  26.0   0.0   0.0  ...     0.0     0.0     0.0     0.0       0\n",
              "4    NaN  1270.0   1.0   0.0   0.0  ...     0.0     0.0     0.0     0.0       0\n",
              "\n",
              "[5 rows x 135 columns]"
            ]
          },
          "metadata": {
            "tags": []
          },
          "execution_count": 4
        }
      ]
    },
    {
      "cell_type": "markdown",
      "metadata": {
        "id": "uySdIH7_uL5h"
      },
      "source": [
        "numerical cols: var1-var3, var70-var-103, var104  \r\n",
        "categorical cols: var4-69, var105-134"
      ]
    },
    {
      "cell_type": "markdown",
      "metadata": {
        "id": "4o20pBZ-A2Iw"
      },
      "source": [
        "# Data PreProcessing"
      ]
    },
    {
      "cell_type": "markdown",
      "metadata": {
        "id": "uNJHPJsr4gpV"
      },
      "source": [
        "**Numerical Data**"
      ]
    },
    {
      "cell_type": "code",
      "metadata": {
        "id": "itIO_Or0Z_5B"
      },
      "source": [
        "# creating new df\r\n",
        "df1 = pd.DataFrame()\r\n",
        "# place numerical cols then categorical cols\r\n",
        "df1 = df1.append(df.loc[:, \"var1\":\"var3\"])\r\n",
        "df1 = df1.join(df.loc[:, 'var70':'var103'])\r\n",
        "df1 = df1.join(df.loc[:, 'var104'])"
      ],
      "execution_count": 5,
      "outputs": []
    },
    {
      "cell_type": "code",
      "metadata": {
        "id": "64zW6MQAADbJ"
      },
      "source": [
        "from sklearn.preprocessing import StandardScaler\r\n",
        "\r\n",
        "scaler = StandardScaler()\r\n",
        "X = scaler.fit_transform(df1)\r\n",
        "df1 = pd.DataFrame(X, columns = df1.columns)"
      ],
      "execution_count": 6,
      "outputs": []
    },
    {
      "cell_type": "code",
      "metadata": {
        "colab": {
          "base_uri": "https://localhost:8080/",
          "height": 215
        },
        "id": "pA1nwEi2aFcy",
        "outputId": "c21c574e-f045-4579-f701-8fc01e8fea9f"
      },
      "source": [
        "df1.head()"
      ],
      "execution_count": 7,
      "outputs": [
        {
          "output_type": "execute_result",
          "data": {
            "text/html": [
              "<div>\n",
              "<style scoped>\n",
              "    .dataframe tbody tr th:only-of-type {\n",
              "        vertical-align: middle;\n",
              "    }\n",
              "\n",
              "    .dataframe tbody tr th {\n",
              "        vertical-align: top;\n",
              "    }\n",
              "\n",
              "    .dataframe thead th {\n",
              "        text-align: right;\n",
              "    }\n",
              "</style>\n",
              "<table border=\"1\" class=\"dataframe\">\n",
              "  <thead>\n",
              "    <tr style=\"text-align: right;\">\n",
              "      <th></th>\n",
              "      <th>var1</th>\n",
              "      <th>var2</th>\n",
              "      <th>var3</th>\n",
              "      <th>var70</th>\n",
              "      <th>var71</th>\n",
              "      <th>var72</th>\n",
              "      <th>var73</th>\n",
              "      <th>var74</th>\n",
              "      <th>var75</th>\n",
              "      <th>var76</th>\n",
              "      <th>var77</th>\n",
              "      <th>var78</th>\n",
              "      <th>var79</th>\n",
              "      <th>var80</th>\n",
              "      <th>var81</th>\n",
              "      <th>var82</th>\n",
              "      <th>var83</th>\n",
              "      <th>var84</th>\n",
              "      <th>var85</th>\n",
              "      <th>var86</th>\n",
              "      <th>var87</th>\n",
              "      <th>var88</th>\n",
              "      <th>var89</th>\n",
              "      <th>var90</th>\n",
              "      <th>var91</th>\n",
              "      <th>var92</th>\n",
              "      <th>var93</th>\n",
              "      <th>var94</th>\n",
              "      <th>var95</th>\n",
              "      <th>var96</th>\n",
              "      <th>var97</th>\n",
              "      <th>var98</th>\n",
              "      <th>var99</th>\n",
              "      <th>var100</th>\n",
              "      <th>var101</th>\n",
              "      <th>var102</th>\n",
              "      <th>var103</th>\n",
              "      <th>var104</th>\n",
              "    </tr>\n",
              "  </thead>\n",
              "  <tbody>\n",
              "    <tr>\n",
              "      <th>0</th>\n",
              "      <td>0.114228</td>\n",
              "      <td>0.183307</td>\n",
              "      <td>-0.107873</td>\n",
              "      <td>-0.643105</td>\n",
              "      <td>-0.510162</td>\n",
              "      <td>-0.640607</td>\n",
              "      <td>-0.642935</td>\n",
              "      <td>-0.584722</td>\n",
              "      <td>-0.486209</td>\n",
              "      <td>-0.578184</td>\n",
              "      <td>-0.647959</td>\n",
              "      <td>-0.586700</td>\n",
              "      <td>-0.654772</td>\n",
              "      <td>-0.583149</td>\n",
              "      <td>-0.539764</td>\n",
              "      <td>-0.451279</td>\n",
              "      <td>-0.633804</td>\n",
              "      <td>-0.636443</td>\n",
              "      <td>-0.212174</td>\n",
              "      <td>-0.182356</td>\n",
              "      <td>-0.136688</td>\n",
              "      <td>-0.197000</td>\n",
              "      <td>-0.263431</td>\n",
              "      <td>-0.176648</td>\n",
              "      <td>-0.194250</td>\n",
              "      <td>-0.155718</td>\n",
              "      <td>-0.082468</td>\n",
              "      <td>-0.202874</td>\n",
              "      <td>-0.241785</td>\n",
              "      <td>-0.174476</td>\n",
              "      <td>-0.178162</td>\n",
              "      <td>-0.105192</td>\n",
              "      <td>-0.203223</td>\n",
              "      <td>-0.826306</td>\n",
              "      <td>-0.860621</td>\n",
              "      <td>0.284345</td>\n",
              "      <td>-0.228838</td>\n",
              "      <td>1.007141</td>\n",
              "    </tr>\n",
              "    <tr>\n",
              "      <th>1</th>\n",
              "      <td>NaN</td>\n",
              "      <td>-0.345216</td>\n",
              "      <td>-0.381245</td>\n",
              "      <td>-0.645411</td>\n",
              "      <td>-0.507011</td>\n",
              "      <td>-0.608767</td>\n",
              "      <td>-0.645401</td>\n",
              "      <td>-0.584722</td>\n",
              "      <td>-0.484399</td>\n",
              "      <td>-0.567695</td>\n",
              "      <td>-0.605029</td>\n",
              "      <td>-0.586700</td>\n",
              "      <td>-0.657494</td>\n",
              "      <td>-0.583149</td>\n",
              "      <td>-0.535218</td>\n",
              "      <td>-0.451279</td>\n",
              "      <td>-0.596195</td>\n",
              "      <td>-0.636443</td>\n",
              "      <td>-0.283800</td>\n",
              "      <td>-0.267994</td>\n",
              "      <td>-0.283250</td>\n",
              "      <td>-0.284053</td>\n",
              "      <td>-0.263431</td>\n",
              "      <td>-0.258441</td>\n",
              "      <td>-0.289546</td>\n",
              "      <td>-0.268585</td>\n",
              "      <td>-0.282236</td>\n",
              "      <td>-0.293213</td>\n",
              "      <td>-0.241785</td>\n",
              "      <td>-0.286640</td>\n",
              "      <td>-0.192815</td>\n",
              "      <td>-0.297114</td>\n",
              "      <td>-0.211003</td>\n",
              "      <td>-0.822622</td>\n",
              "      <td>-0.854381</td>\n",
              "      <td>-0.709438</td>\n",
              "      <td>-0.502493</td>\n",
              "      <td>-0.324492</td>\n",
              "    </tr>\n",
              "    <tr>\n",
              "      <th>2</th>\n",
              "      <td>NaN</td>\n",
              "      <td>-0.034320</td>\n",
              "      <td>-0.259747</td>\n",
              "      <td>0.795786</td>\n",
              "      <td>1.681509</td>\n",
              "      <td>-0.070376</td>\n",
              "      <td>0.876273</td>\n",
              "      <td>-0.327700</td>\n",
              "      <td>1.978620</td>\n",
              "      <td>-0.273994</td>\n",
              "      <td>0.105278</td>\n",
              "      <td>-0.544254</td>\n",
              "      <td>0.823321</td>\n",
              "      <td>0.881420</td>\n",
              "      <td>1.853393</td>\n",
              "      <td>1.704732</td>\n",
              "      <td>-0.172241</td>\n",
              "      <td>0.612212</td>\n",
              "      <td>-0.283800</td>\n",
              "      <td>-0.244938</td>\n",
              "      <td>-0.270643</td>\n",
              "      <td>-0.284053</td>\n",
              "      <td>-0.263431</td>\n",
              "      <td>-0.226982</td>\n",
              "      <td>-0.296876</td>\n",
              "      <td>-0.250526</td>\n",
              "      <td>-0.282236</td>\n",
              "      <td>-0.293213</td>\n",
              "      <td>-0.241785</td>\n",
              "      <td>-0.261964</td>\n",
              "      <td>-0.170836</td>\n",
              "      <td>-0.284597</td>\n",
              "      <td>-0.195444</td>\n",
              "      <td>-0.826306</td>\n",
              "      <td>-0.859373</td>\n",
              "      <td>0.260185</td>\n",
              "      <td>-0.186328</td>\n",
              "      <td>3.027272</td>\n",
              "    </tr>\n",
              "    <tr>\n",
              "      <th>3</th>\n",
              "      <td>NaN</td>\n",
              "      <td>0.024643</td>\n",
              "      <td>-0.178748</td>\n",
              "      <td>-0.636187</td>\n",
              "      <td>-0.508587</td>\n",
              "      <td>-0.640607</td>\n",
              "      <td>-0.635536</td>\n",
              "      <td>-0.584722</td>\n",
              "      <td>-0.482589</td>\n",
              "      <td>-0.588674</td>\n",
              "      <td>-0.647959</td>\n",
              "      <td>-0.586700</td>\n",
              "      <td>-0.649328</td>\n",
              "      <td>-0.565068</td>\n",
              "      <td>-0.537491</td>\n",
              "      <td>-0.451279</td>\n",
              "      <td>-0.633804</td>\n",
              "      <td>-0.636443</td>\n",
              "      <td>-0.140548</td>\n",
              "      <td>-0.254819</td>\n",
              "      <td>-0.283250</td>\n",
              "      <td>-0.109948</td>\n",
              "      <td>-0.263431</td>\n",
              "      <td>-0.239566</td>\n",
              "      <td>-0.296876</td>\n",
              "      <td>-0.268585</td>\n",
              "      <td>-0.282236</td>\n",
              "      <td>-0.127591</td>\n",
              "      <td>-0.134227</td>\n",
              "      <td>-0.273180</td>\n",
              "      <td>-0.178162</td>\n",
              "      <td>-0.297114</td>\n",
              "      <td>-0.211003</td>\n",
              "      <td>1.173910</td>\n",
              "      <td>1.157461</td>\n",
              "      <td>-0.588638</td>\n",
              "      <td>-0.325813</td>\n",
              "      <td>1.482815</td>\n",
              "    </tr>\n",
              "    <tr>\n",
              "      <th>4</th>\n",
              "      <td>NaN</td>\n",
              "      <td>0.324818</td>\n",
              "      <td>-0.431870</td>\n",
              "      <td>0.754280</td>\n",
              "      <td>1.528675</td>\n",
              "      <td>-0.125373</td>\n",
              "      <td>0.836813</td>\n",
              "      <td>-0.391955</td>\n",
              "      <td>1.808507</td>\n",
              "      <td>-0.305462</td>\n",
              "      <td>0.031125</td>\n",
              "      <td>-0.544254</td>\n",
              "      <td>0.782490</td>\n",
              "      <td>0.827176</td>\n",
              "      <td>1.737485</td>\n",
              "      <td>1.411310</td>\n",
              "      <td>-0.213269</td>\n",
              "      <td>0.471235</td>\n",
              "      <td>0.002704</td>\n",
              "      <td>-0.251525</td>\n",
              "      <td>-0.280098</td>\n",
              "      <td>0.049648</td>\n",
              "      <td>-0.200641</td>\n",
              "      <td>-0.235371</td>\n",
              "      <td>-0.296876</td>\n",
              "      <td>-0.264070</td>\n",
              "      <td>-0.282236</td>\n",
              "      <td>0.022973</td>\n",
              "      <td>0.080889</td>\n",
              "      <td>-0.270937</td>\n",
              "      <td>-0.170836</td>\n",
              "      <td>-0.295028</td>\n",
              "      <td>-0.203223</td>\n",
              "      <td>1.428128</td>\n",
              "      <td>1.392093</td>\n",
              "      <td>-0.574142</td>\n",
              "      <td>-0.150461</td>\n",
              "      <td>0.293206</td>\n",
              "    </tr>\n",
              "  </tbody>\n",
              "</table>\n",
              "</div>"
            ],
            "text/plain": [
              "       var1      var2      var3  ...    var102    var103    var104\n",
              "0  0.114228  0.183307 -0.107873  ...  0.284345 -0.228838  1.007141\n",
              "1       NaN -0.345216 -0.381245  ... -0.709438 -0.502493 -0.324492\n",
              "2       NaN -0.034320 -0.259747  ...  0.260185 -0.186328  3.027272\n",
              "3       NaN  0.024643 -0.178748  ... -0.588638 -0.325813  1.482815\n",
              "4       NaN  0.324818 -0.431870  ... -0.574142 -0.150461  0.293206\n",
              "\n",
              "[5 rows x 38 columns]"
            ]
          },
          "metadata": {
            "tags": []
          },
          "execution_count": 7
        }
      ]
    },
    {
      "cell_type": "code",
      "metadata": {
        "colab": {
          "base_uri": "https://localhost:8080/"
        },
        "id": "zTQluS1QaIhb",
        "outputId": "450e87af-5b41-4729-c356-600d3201f692"
      },
      "source": [
        "df1.shape"
      ],
      "execution_count": 8,
      "outputs": [
        {
          "output_type": "execute_result",
          "data": {
            "text/plain": [
              "(14043, 38)"
            ]
          },
          "metadata": {
            "tags": []
          },
          "execution_count": 8
        }
      ]
    },
    {
      "cell_type": "code",
      "metadata": {
        "colab": {
          "base_uri": "https://localhost:8080/"
        },
        "id": "KpBt0GdNVbOp",
        "outputId": "794a7eb3-6c5c-434e-c727-01177c93966c"
      },
      "source": [
        "df1.isnull().sum()"
      ],
      "execution_count": 9,
      "outputs": [
        {
          "output_type": "execute_result",
          "data": {
            "text/plain": [
              "var1      1403\n",
              "var2      1067\n",
              "var3      1469\n",
              "var70        0\n",
              "var71        0\n",
              "var72        0\n",
              "var73        0\n",
              "var74        0\n",
              "var75        0\n",
              "var76        0\n",
              "var77        0\n",
              "var78        0\n",
              "var79        0\n",
              "var80        0\n",
              "var81        0\n",
              "var82        0\n",
              "var83        0\n",
              "var84        0\n",
              "var85        0\n",
              "var86        0\n",
              "var87        0\n",
              "var88        0\n",
              "var89        0\n",
              "var90        0\n",
              "var91        0\n",
              "var92        0\n",
              "var93        0\n",
              "var94        0\n",
              "var95        0\n",
              "var96        0\n",
              "var97        0\n",
              "var98        0\n",
              "var99        0\n",
              "var100       0\n",
              "var101       0\n",
              "var102       0\n",
              "var103       0\n",
              "var104       0\n",
              "dtype: int64"
            ]
          },
          "metadata": {
            "tags": []
          },
          "execution_count": 9
        }
      ]
    },
    {
      "cell_type": "code",
      "metadata": {
        "id": "YOnPGINzXdQm"
      },
      "source": [
        "# Precision(PPV) decreases\r\n",
        "# del df1['var1']\r\n",
        "# del df1['var2']\r\n",
        "# del df1['var3']"
      ],
      "execution_count": 10,
      "outputs": []
    },
    {
      "cell_type": "code",
      "metadata": {
        "id": "JLeGygypqdcM"
      },
      "source": [
        "# handling missing values for continuous features\r\n",
        "# replacing them with mean\r\n",
        "for i in range(0, len(list(df1))):\r\n",
        "  df1.iloc[:,i] = df1.iloc[:,i].replace(np.NaN, df1.iloc[:,i].mean())"
      ],
      "execution_count": 11,
      "outputs": []
    },
    {
      "cell_type": "code",
      "metadata": {
        "colab": {
          "base_uri": "https://localhost:8080/",
          "height": 299
        },
        "id": "cdxTOdUBs-Lr",
        "outputId": "42e19f91-4e9f-45ea-81b5-b45c3fc89567"
      },
      "source": [
        "df1.head()"
      ],
      "execution_count": 12,
      "outputs": [
        {
          "output_type": "execute_result",
          "data": {
            "text/html": [
              "<div>\n",
              "<style scoped>\n",
              "    .dataframe tbody tr th:only-of-type {\n",
              "        vertical-align: middle;\n",
              "    }\n",
              "\n",
              "    .dataframe tbody tr th {\n",
              "        vertical-align: top;\n",
              "    }\n",
              "\n",
              "    .dataframe thead th {\n",
              "        text-align: right;\n",
              "    }\n",
              "</style>\n",
              "<table border=\"1\" class=\"dataframe\">\n",
              "  <thead>\n",
              "    <tr style=\"text-align: right;\">\n",
              "      <th></th>\n",
              "      <th>var1</th>\n",
              "      <th>var2</th>\n",
              "      <th>var3</th>\n",
              "      <th>var70</th>\n",
              "      <th>var71</th>\n",
              "      <th>var72</th>\n",
              "      <th>var73</th>\n",
              "      <th>var74</th>\n",
              "      <th>var75</th>\n",
              "      <th>var76</th>\n",
              "      <th>var77</th>\n",
              "      <th>var78</th>\n",
              "      <th>var79</th>\n",
              "      <th>var80</th>\n",
              "      <th>var81</th>\n",
              "      <th>var82</th>\n",
              "      <th>var83</th>\n",
              "      <th>var84</th>\n",
              "      <th>var85</th>\n",
              "      <th>var86</th>\n",
              "      <th>var87</th>\n",
              "      <th>var88</th>\n",
              "      <th>var89</th>\n",
              "      <th>var90</th>\n",
              "      <th>var91</th>\n",
              "      <th>var92</th>\n",
              "      <th>var93</th>\n",
              "      <th>var94</th>\n",
              "      <th>var95</th>\n",
              "      <th>var96</th>\n",
              "      <th>var97</th>\n",
              "      <th>var98</th>\n",
              "      <th>var99</th>\n",
              "      <th>var100</th>\n",
              "      <th>var101</th>\n",
              "      <th>var102</th>\n",
              "      <th>var103</th>\n",
              "      <th>var104</th>\n",
              "    </tr>\n",
              "  </thead>\n",
              "  <tbody>\n",
              "    <tr>\n",
              "      <th>0</th>\n",
              "      <td>1.142280e-01</td>\n",
              "      <td>0.183307</td>\n",
              "      <td>-0.107873</td>\n",
              "      <td>-0.643105</td>\n",
              "      <td>-0.510162</td>\n",
              "      <td>-0.640607</td>\n",
              "      <td>-0.642935</td>\n",
              "      <td>-0.584722</td>\n",
              "      <td>-0.486209</td>\n",
              "      <td>-0.578184</td>\n",
              "      <td>-0.647959</td>\n",
              "      <td>-0.586700</td>\n",
              "      <td>-0.654772</td>\n",
              "      <td>-0.583149</td>\n",
              "      <td>-0.539764</td>\n",
              "      <td>-0.451279</td>\n",
              "      <td>-0.633804</td>\n",
              "      <td>-0.636443</td>\n",
              "      <td>-0.212174</td>\n",
              "      <td>-0.182356</td>\n",
              "      <td>-0.136688</td>\n",
              "      <td>-0.197000</td>\n",
              "      <td>-0.263431</td>\n",
              "      <td>-0.176648</td>\n",
              "      <td>-0.194250</td>\n",
              "      <td>-0.155718</td>\n",
              "      <td>-0.082468</td>\n",
              "      <td>-0.202874</td>\n",
              "      <td>-0.241785</td>\n",
              "      <td>-0.174476</td>\n",
              "      <td>-0.178162</td>\n",
              "      <td>-0.105192</td>\n",
              "      <td>-0.203223</td>\n",
              "      <td>-0.826306</td>\n",
              "      <td>-0.860621</td>\n",
              "      <td>0.284345</td>\n",
              "      <td>-0.228838</td>\n",
              "      <td>1.007141</td>\n",
              "    </tr>\n",
              "    <tr>\n",
              "      <th>1</th>\n",
              "      <td>1.160288e-16</td>\n",
              "      <td>-0.345216</td>\n",
              "      <td>-0.381245</td>\n",
              "      <td>-0.645411</td>\n",
              "      <td>-0.507011</td>\n",
              "      <td>-0.608767</td>\n",
              "      <td>-0.645401</td>\n",
              "      <td>-0.584722</td>\n",
              "      <td>-0.484399</td>\n",
              "      <td>-0.567695</td>\n",
              "      <td>-0.605029</td>\n",
              "      <td>-0.586700</td>\n",
              "      <td>-0.657494</td>\n",
              "      <td>-0.583149</td>\n",
              "      <td>-0.535218</td>\n",
              "      <td>-0.451279</td>\n",
              "      <td>-0.596195</td>\n",
              "      <td>-0.636443</td>\n",
              "      <td>-0.283800</td>\n",
              "      <td>-0.267994</td>\n",
              "      <td>-0.283250</td>\n",
              "      <td>-0.284053</td>\n",
              "      <td>-0.263431</td>\n",
              "      <td>-0.258441</td>\n",
              "      <td>-0.289546</td>\n",
              "      <td>-0.268585</td>\n",
              "      <td>-0.282236</td>\n",
              "      <td>-0.293213</td>\n",
              "      <td>-0.241785</td>\n",
              "      <td>-0.286640</td>\n",
              "      <td>-0.192815</td>\n",
              "      <td>-0.297114</td>\n",
              "      <td>-0.211003</td>\n",
              "      <td>-0.822622</td>\n",
              "      <td>-0.854381</td>\n",
              "      <td>-0.709438</td>\n",
              "      <td>-0.502493</td>\n",
              "      <td>-0.324492</td>\n",
              "    </tr>\n",
              "    <tr>\n",
              "      <th>2</th>\n",
              "      <td>1.160288e-16</td>\n",
              "      <td>-0.034320</td>\n",
              "      <td>-0.259747</td>\n",
              "      <td>0.795786</td>\n",
              "      <td>1.681509</td>\n",
              "      <td>-0.070376</td>\n",
              "      <td>0.876273</td>\n",
              "      <td>-0.327700</td>\n",
              "      <td>1.978620</td>\n",
              "      <td>-0.273994</td>\n",
              "      <td>0.105278</td>\n",
              "      <td>-0.544254</td>\n",
              "      <td>0.823321</td>\n",
              "      <td>0.881420</td>\n",
              "      <td>1.853393</td>\n",
              "      <td>1.704732</td>\n",
              "      <td>-0.172241</td>\n",
              "      <td>0.612212</td>\n",
              "      <td>-0.283800</td>\n",
              "      <td>-0.244938</td>\n",
              "      <td>-0.270643</td>\n",
              "      <td>-0.284053</td>\n",
              "      <td>-0.263431</td>\n",
              "      <td>-0.226982</td>\n",
              "      <td>-0.296876</td>\n",
              "      <td>-0.250526</td>\n",
              "      <td>-0.282236</td>\n",
              "      <td>-0.293213</td>\n",
              "      <td>-0.241785</td>\n",
              "      <td>-0.261964</td>\n",
              "      <td>-0.170836</td>\n",
              "      <td>-0.284597</td>\n",
              "      <td>-0.195444</td>\n",
              "      <td>-0.826306</td>\n",
              "      <td>-0.859373</td>\n",
              "      <td>0.260185</td>\n",
              "      <td>-0.186328</td>\n",
              "      <td>3.027272</td>\n",
              "    </tr>\n",
              "    <tr>\n",
              "      <th>3</th>\n",
              "      <td>1.160288e-16</td>\n",
              "      <td>0.024643</td>\n",
              "      <td>-0.178748</td>\n",
              "      <td>-0.636187</td>\n",
              "      <td>-0.508587</td>\n",
              "      <td>-0.640607</td>\n",
              "      <td>-0.635536</td>\n",
              "      <td>-0.584722</td>\n",
              "      <td>-0.482589</td>\n",
              "      <td>-0.588674</td>\n",
              "      <td>-0.647959</td>\n",
              "      <td>-0.586700</td>\n",
              "      <td>-0.649328</td>\n",
              "      <td>-0.565068</td>\n",
              "      <td>-0.537491</td>\n",
              "      <td>-0.451279</td>\n",
              "      <td>-0.633804</td>\n",
              "      <td>-0.636443</td>\n",
              "      <td>-0.140548</td>\n",
              "      <td>-0.254819</td>\n",
              "      <td>-0.283250</td>\n",
              "      <td>-0.109948</td>\n",
              "      <td>-0.263431</td>\n",
              "      <td>-0.239566</td>\n",
              "      <td>-0.296876</td>\n",
              "      <td>-0.268585</td>\n",
              "      <td>-0.282236</td>\n",
              "      <td>-0.127591</td>\n",
              "      <td>-0.134227</td>\n",
              "      <td>-0.273180</td>\n",
              "      <td>-0.178162</td>\n",
              "      <td>-0.297114</td>\n",
              "      <td>-0.211003</td>\n",
              "      <td>1.173910</td>\n",
              "      <td>1.157461</td>\n",
              "      <td>-0.588638</td>\n",
              "      <td>-0.325813</td>\n",
              "      <td>1.482815</td>\n",
              "    </tr>\n",
              "    <tr>\n",
              "      <th>4</th>\n",
              "      <td>1.160288e-16</td>\n",
              "      <td>0.324818</td>\n",
              "      <td>-0.431870</td>\n",
              "      <td>0.754280</td>\n",
              "      <td>1.528675</td>\n",
              "      <td>-0.125373</td>\n",
              "      <td>0.836813</td>\n",
              "      <td>-0.391955</td>\n",
              "      <td>1.808507</td>\n",
              "      <td>-0.305462</td>\n",
              "      <td>0.031125</td>\n",
              "      <td>-0.544254</td>\n",
              "      <td>0.782490</td>\n",
              "      <td>0.827176</td>\n",
              "      <td>1.737485</td>\n",
              "      <td>1.411310</td>\n",
              "      <td>-0.213269</td>\n",
              "      <td>0.471235</td>\n",
              "      <td>0.002704</td>\n",
              "      <td>-0.251525</td>\n",
              "      <td>-0.280098</td>\n",
              "      <td>0.049648</td>\n",
              "      <td>-0.200641</td>\n",
              "      <td>-0.235371</td>\n",
              "      <td>-0.296876</td>\n",
              "      <td>-0.264070</td>\n",
              "      <td>-0.282236</td>\n",
              "      <td>0.022973</td>\n",
              "      <td>0.080889</td>\n",
              "      <td>-0.270937</td>\n",
              "      <td>-0.170836</td>\n",
              "      <td>-0.295028</td>\n",
              "      <td>-0.203223</td>\n",
              "      <td>1.428128</td>\n",
              "      <td>1.392093</td>\n",
              "      <td>-0.574142</td>\n",
              "      <td>-0.150461</td>\n",
              "      <td>0.293206</td>\n",
              "    </tr>\n",
              "  </tbody>\n",
              "</table>\n",
              "</div>"
            ],
            "text/plain": [
              "           var1      var2      var3  ...    var102    var103    var104\n",
              "0  1.142280e-01  0.183307 -0.107873  ...  0.284345 -0.228838  1.007141\n",
              "1  1.160288e-16 -0.345216 -0.381245  ... -0.709438 -0.502493 -0.324492\n",
              "2  1.160288e-16 -0.034320 -0.259747  ...  0.260185 -0.186328  3.027272\n",
              "3  1.160288e-16  0.024643 -0.178748  ... -0.588638 -0.325813  1.482815\n",
              "4  1.160288e-16  0.324818 -0.431870  ... -0.574142 -0.150461  0.293206\n",
              "\n",
              "[5 rows x 38 columns]"
            ]
          },
          "metadata": {
            "tags": []
          },
          "execution_count": 12
        }
      ]
    },
    {
      "cell_type": "code",
      "metadata": {
        "id": "TUJrA1Lz6hym"
      },
      "source": [
        "# df1.info()"
      ],
      "execution_count": 13,
      "outputs": []
    },
    {
      "cell_type": "markdown",
      "metadata": {
        "id": "TD7LaLf4YyVo"
      },
      "source": [
        "**Checking correlation of numerical variables**"
      ]
    },
    {
      "cell_type": "code",
      "metadata": {
        "id": "TQv42Wm-Yx5u"
      },
      "source": [
        "df1_corr = df1.copy()"
      ],
      "execution_count": 14,
      "outputs": []
    },
    {
      "cell_type": "code",
      "metadata": {
        "id": "I5UkC6_lYx2R"
      },
      "source": [
        "df1_corr['trialOutcomes'] = df['trialOutcomes'].values"
      ],
      "execution_count": 15,
      "outputs": []
    },
    {
      "cell_type": "code",
      "metadata": {
        "colab": {
          "base_uri": "https://localhost:8080/"
        },
        "id": "EgtRHSxyYxzB",
        "outputId": "33dc322f-b1c0-4f6b-86ec-a3177916bff4"
      },
      "source": [
        "df1_corr.shape"
      ],
      "execution_count": 16,
      "outputs": [
        {
          "output_type": "execute_result",
          "data": {
            "text/plain": [
              "(14043, 39)"
            ]
          },
          "metadata": {
            "tags": []
          },
          "execution_count": 16
        }
      ]
    },
    {
      "cell_type": "code",
      "metadata": {
        "id": "jC5PG4DKaV5K"
      },
      "source": [
        "corr_matrix = df1_corr.corr()"
      ],
      "execution_count": 17,
      "outputs": []
    },
    {
      "cell_type": "code",
      "metadata": {
        "colab": {
          "base_uri": "https://localhost:8080/"
        },
        "id": "Ea1vFatyaV1y",
        "outputId": "8b55720f-c434-44fb-80db-b0fde1e26f45"
      },
      "source": [
        "corr_matrix['trialOutcomes'].sort_values(ascending=False)"
      ],
      "execution_count": 18,
      "outputs": [
        {
          "output_type": "execute_result",
          "data": {
            "text/plain": [
              "trialOutcomes    1.000000\n",
              "var102           0.139761\n",
              "var101           0.138778\n",
              "var78            0.133901\n",
              "var100           0.133762\n",
              "var93            0.119849\n",
              "var83            0.115892\n",
              "var72            0.114303\n",
              "var74            0.112233\n",
              "var79            0.111771\n",
              "var70            0.106974\n",
              "var73            0.105796\n",
              "var77            0.104869\n",
              "var76            0.103344\n",
              "var98            0.092133\n",
              "var84            0.089156\n",
              "var87            0.076473\n",
              "var80            0.075856\n",
              "var103           0.068614\n",
              "var91            0.066107\n",
              "var81            0.051347\n",
              "var92            0.051305\n",
              "var71            0.049083\n",
              "var89            0.048058\n",
              "var96            0.040311\n",
              "var75            0.038546\n",
              "var94            0.036806\n",
              "var85            0.036570\n",
              "var1             0.035023\n",
              "var82            0.033978\n",
              "var88            0.033342\n",
              "var86            0.032176\n",
              "var90            0.022062\n",
              "var2             0.018932\n",
              "var3             0.018822\n",
              "var99            0.015509\n",
              "var95            0.013031\n",
              "var97           -0.003024\n",
              "var104          -0.124731\n",
              "Name: trialOutcomes, dtype: float64"
            ]
          },
          "metadata": {
            "tags": []
          },
          "execution_count": 18
        }
      ]
    },
    {
      "cell_type": "code",
      "metadata": {
        "id": "qc_FVbtcaVzj"
      },
      "source": [
        "from sklearn.feature_selection import SelectKBest\r\n",
        "from sklearn.feature_selection import f_classif, chi2, mutual_info_classif\r\n",
        "\r\n",
        "fs = SelectKBest(score_func=mutual_info_classif, k=10)\r\n",
        "X_selected = fs.fit_transform(df1, df['trialOutcomes'].values.ravel())"
      ],
      "execution_count": 19,
      "outputs": []
    },
    {
      "cell_type": "code",
      "metadata": {
        "colab": {
          "base_uri": "https://localhost:8080/"
        },
        "id": "4lD_v3XPaVxH",
        "outputId": "7197b6d7-0a51-4dd9-9cd5-250ab482fa07"
      },
      "source": [
        "X_selected.shape"
      ],
      "execution_count": 20,
      "outputs": [
        {
          "output_type": "execute_result",
          "data": {
            "text/plain": [
              "(14043, 10)"
            ]
          },
          "metadata": {
            "tags": []
          },
          "execution_count": 20
        }
      ]
    },
    {
      "cell_type": "code",
      "metadata": {
        "colab": {
          "base_uri": "https://localhost:8080/"
        },
        "id": "kP1E5DbIqrzT",
        "outputId": "0ab58ef0-2adf-43aa-aa48-fc2914a41d74"
      },
      "source": [
        "X_selected"
      ],
      "execution_count": 21,
      "outputs": [
        {
          "output_type": "execute_result",
          "data": {
            "text/plain": [
              "array([[ 1.14228031e-01, -1.82356079e-01, -1.36688168e-01, ...,\n",
              "        -8.60621104e-01,  2.84345198e-01,  1.00714082e+00],\n",
              "       [ 1.16028846e-16, -2.67994295e-01, -2.83250324e-01, ...,\n",
              "        -8.54380900e-01, -7.09438417e-01, -3.24492318e-01],\n",
              "       [ 1.16028846e-16, -2.44937852e-01, -2.70642827e-01, ...,\n",
              "        -8.59373063e-01,  2.60185142e-01,  3.02727195e+00],\n",
              "       ...,\n",
              "       [-3.03934266e-01, -2.69641184e-01, -2.83250324e-01, ...,\n",
              "        -8.60621104e-01, -7.41651825e-01,  1.16061143e+00],\n",
              "       [-2.42374564e-01, -2.69641184e-01, -2.83250324e-01, ...,\n",
              "        -8.60621104e-01, -7.41651825e-01, -9.54060993e-01],\n",
              "       [-3.36655188e-01, -1.92237411e-01, -2.50155644e-01, ...,\n",
              "        -8.60621104e-01, -2.06909264e-01, -7.12832322e-01]])"
            ]
          },
          "metadata": {
            "tags": []
          },
          "execution_count": 21
        }
      ]
    },
    {
      "cell_type": "code",
      "metadata": {
        "id": "q1Wi61w9aVuw"
      },
      "source": [
        "df1 = pd.DataFrame(X_selected)"
      ],
      "execution_count": 22,
      "outputs": []
    },
    {
      "cell_type": "code",
      "metadata": {
        "colab": {
          "base_uri": "https://localhost:8080/"
        },
        "id": "AuD1l_fIqt7s",
        "outputId": "9ce55bb3-fefd-4641-ac1a-35e7c552d31e"
      },
      "source": [
        "df1.shape"
      ],
      "execution_count": 23,
      "outputs": [
        {
          "output_type": "execute_result",
          "data": {
            "text/plain": [
              "(14043, 10)"
            ]
          },
          "metadata": {
            "tags": []
          },
          "execution_count": 23
        }
      ]
    },
    {
      "cell_type": "code",
      "metadata": {
        "colab": {
          "base_uri": "https://localhost:8080/",
          "height": 195
        },
        "id": "ARMqjkuDqk8s",
        "outputId": "972adfe3-513b-44e7-85fe-f0fe24c1df67"
      },
      "source": [
        "df1.head()"
      ],
      "execution_count": 24,
      "outputs": [
        {
          "output_type": "execute_result",
          "data": {
            "text/html": [
              "<div>\n",
              "<style scoped>\n",
              "    .dataframe tbody tr th:only-of-type {\n",
              "        vertical-align: middle;\n",
              "    }\n",
              "\n",
              "    .dataframe tbody tr th {\n",
              "        vertical-align: top;\n",
              "    }\n",
              "\n",
              "    .dataframe thead th {\n",
              "        text-align: right;\n",
              "    }\n",
              "</style>\n",
              "<table border=\"1\" class=\"dataframe\">\n",
              "  <thead>\n",
              "    <tr style=\"text-align: right;\">\n",
              "      <th></th>\n",
              "      <th>0</th>\n",
              "      <th>1</th>\n",
              "      <th>2</th>\n",
              "      <th>3</th>\n",
              "      <th>4</th>\n",
              "      <th>5</th>\n",
              "      <th>6</th>\n",
              "      <th>7</th>\n",
              "      <th>8</th>\n",
              "      <th>9</th>\n",
              "    </tr>\n",
              "  </thead>\n",
              "  <tbody>\n",
              "    <tr>\n",
              "      <th>0</th>\n",
              "      <td>1.142280e-01</td>\n",
              "      <td>-0.182356</td>\n",
              "      <td>-0.136688</td>\n",
              "      <td>-0.082468</td>\n",
              "      <td>-0.174476</td>\n",
              "      <td>-0.105192</td>\n",
              "      <td>-0.826306</td>\n",
              "      <td>-0.860621</td>\n",
              "      <td>0.284345</td>\n",
              "      <td>1.007141</td>\n",
              "    </tr>\n",
              "    <tr>\n",
              "      <th>1</th>\n",
              "      <td>1.160288e-16</td>\n",
              "      <td>-0.267994</td>\n",
              "      <td>-0.283250</td>\n",
              "      <td>-0.282236</td>\n",
              "      <td>-0.286640</td>\n",
              "      <td>-0.297114</td>\n",
              "      <td>-0.822622</td>\n",
              "      <td>-0.854381</td>\n",
              "      <td>-0.709438</td>\n",
              "      <td>-0.324492</td>\n",
              "    </tr>\n",
              "    <tr>\n",
              "      <th>2</th>\n",
              "      <td>1.160288e-16</td>\n",
              "      <td>-0.244938</td>\n",
              "      <td>-0.270643</td>\n",
              "      <td>-0.282236</td>\n",
              "      <td>-0.261964</td>\n",
              "      <td>-0.284597</td>\n",
              "      <td>-0.826306</td>\n",
              "      <td>-0.859373</td>\n",
              "      <td>0.260185</td>\n",
              "      <td>3.027272</td>\n",
              "    </tr>\n",
              "    <tr>\n",
              "      <th>3</th>\n",
              "      <td>1.160288e-16</td>\n",
              "      <td>-0.254819</td>\n",
              "      <td>-0.283250</td>\n",
              "      <td>-0.282236</td>\n",
              "      <td>-0.273180</td>\n",
              "      <td>-0.297114</td>\n",
              "      <td>1.173910</td>\n",
              "      <td>1.157461</td>\n",
              "      <td>-0.588638</td>\n",
              "      <td>1.482815</td>\n",
              "    </tr>\n",
              "    <tr>\n",
              "      <th>4</th>\n",
              "      <td>1.160288e-16</td>\n",
              "      <td>-0.251525</td>\n",
              "      <td>-0.280098</td>\n",
              "      <td>-0.282236</td>\n",
              "      <td>-0.270937</td>\n",
              "      <td>-0.295028</td>\n",
              "      <td>1.428128</td>\n",
              "      <td>1.392093</td>\n",
              "      <td>-0.574142</td>\n",
              "      <td>0.293206</td>\n",
              "    </tr>\n",
              "  </tbody>\n",
              "</table>\n",
              "</div>"
            ],
            "text/plain": [
              "              0         1         2  ...         7         8         9\n",
              "0  1.142280e-01 -0.182356 -0.136688  ... -0.860621  0.284345  1.007141\n",
              "1  1.160288e-16 -0.267994 -0.283250  ... -0.854381 -0.709438 -0.324492\n",
              "2  1.160288e-16 -0.244938 -0.270643  ... -0.859373  0.260185  3.027272\n",
              "3  1.160288e-16 -0.254819 -0.283250  ...  1.157461 -0.588638  1.482815\n",
              "4  1.160288e-16 -0.251525 -0.280098  ...  1.392093 -0.574142  0.293206\n",
              "\n",
              "[5 rows x 10 columns]"
            ]
          },
          "metadata": {
            "tags": []
          },
          "execution_count": 24
        }
      ]
    },
    {
      "cell_type": "markdown",
      "metadata": {
        "id": "VbRqVw_i4o92"
      },
      "source": [
        "**Apply PCA**"
      ]
    },
    {
      "cell_type": "code",
      "metadata": {
        "id": "0aCJUW0z4omy"
      },
      "source": [
        "# from sklearn.decomposition import PCA\r\n",
        "\r\n",
        "# pca = PCA(.95)\r\n",
        "# pca.fit(df1)"
      ],
      "execution_count": 25,
      "outputs": []
    },
    {
      "cell_type": "code",
      "metadata": {
        "id": "HcGwIcHr4oQx"
      },
      "source": [
        "# X = pca.transform(df1)"
      ],
      "execution_count": 26,
      "outputs": []
    },
    {
      "cell_type": "code",
      "metadata": {
        "id": "zLE0yqJl4oD4"
      },
      "source": [
        "# pca.explained_variance_ratio_"
      ],
      "execution_count": 27,
      "outputs": []
    },
    {
      "cell_type": "code",
      "metadata": {
        "id": "u4Fp84V54n_5"
      },
      "source": [
        "# X.shape"
      ],
      "execution_count": 28,
      "outputs": []
    },
    {
      "cell_type": "code",
      "metadata": {
        "id": "1LnFRiB77xf6"
      },
      "source": [
        "# X[:,:2].shape"
      ],
      "execution_count": 29,
      "outputs": []
    },
    {
      "cell_type": "code",
      "metadata": {
        "id": "Pd6MHSCd7hAz"
      },
      "source": [
        "# df1 = pd.DataFrame(X[:,:2], columns = ['principalComponent1', 'principalComponent2'])"
      ],
      "execution_count": 30,
      "outputs": []
    },
    {
      "cell_type": "code",
      "metadata": {
        "id": "MR6ystap8BfS"
      },
      "source": [
        "# df1.head()"
      ],
      "execution_count": 31,
      "outputs": []
    },
    {
      "cell_type": "markdown",
      "metadata": {
        "id": "NOODgUYj4sgv"
      },
      "source": [
        "**Cheking sklearn imputer for handling missing values of numerical data**"
      ]
    },
    {
      "cell_type": "code",
      "metadata": {
        "id": "eFmUnYVj21Jy"
      },
      "source": [
        "# creating new df\r\n",
        "df1_copy = pd.DataFrame()\r\n",
        "# place numerical cols then categorical cols\r\n",
        "df1_copy = df1_copy.append(df.loc[:, \"var1\":\"var3\"])\r\n",
        "df1_copy = df1_copy.join(df.loc[:, 'var70':'var103'])\r\n",
        "df1_copy = df1_copy.join(df.loc[:, 'var104'])"
      ],
      "execution_count": 32,
      "outputs": []
    },
    {
      "cell_type": "code",
      "metadata": {
        "id": "DAI108iH2U9D"
      },
      "source": [
        "from sklearn.impute import SimpleImputer\r\n",
        "\r\n",
        "imp_mean = SimpleImputer(missing_values=np.nan, strategy='mean')\r\n",
        "imp_mean.fit(df1_copy)\r\n",
        "X = imp_mean.transform(df1_copy)"
      ],
      "execution_count": 33,
      "outputs": []
    },
    {
      "cell_type": "code",
      "metadata": {
        "id": "HGRXZTXa4d1E"
      },
      "source": [
        "df1_copy = pd.DataFrame(X, columns = df1_copy.columns)"
      ],
      "execution_count": 34,
      "outputs": []
    },
    {
      "cell_type": "code",
      "metadata": {
        "colab": {
          "base_uri": "https://localhost:8080/",
          "height": 215
        },
        "id": "FLSxwm-f2UGC",
        "outputId": "a36d0c9d-6573-4abb-836e-782d6822eefa"
      },
      "source": [
        "df1_copy.tail()"
      ],
      "execution_count": 35,
      "outputs": [
        {
          "output_type": "execute_result",
          "data": {
            "text/html": [
              "<div>\n",
              "<style scoped>\n",
              "    .dataframe tbody tr th:only-of-type {\n",
              "        vertical-align: middle;\n",
              "    }\n",
              "\n",
              "    .dataframe tbody tr th {\n",
              "        vertical-align: top;\n",
              "    }\n",
              "\n",
              "    .dataframe thead th {\n",
              "        text-align: right;\n",
              "    }\n",
              "</style>\n",
              "<table border=\"1\" class=\"dataframe\">\n",
              "  <thead>\n",
              "    <tr style=\"text-align: right;\">\n",
              "      <th></th>\n",
              "      <th>var1</th>\n",
              "      <th>var2</th>\n",
              "      <th>var3</th>\n",
              "      <th>var70</th>\n",
              "      <th>var71</th>\n",
              "      <th>var72</th>\n",
              "      <th>var73</th>\n",
              "      <th>var74</th>\n",
              "      <th>var75</th>\n",
              "      <th>var76</th>\n",
              "      <th>var77</th>\n",
              "      <th>var78</th>\n",
              "      <th>var79</th>\n",
              "      <th>var80</th>\n",
              "      <th>var81</th>\n",
              "      <th>var82</th>\n",
              "      <th>var83</th>\n",
              "      <th>var84</th>\n",
              "      <th>var85</th>\n",
              "      <th>var86</th>\n",
              "      <th>var87</th>\n",
              "      <th>var88</th>\n",
              "      <th>var89</th>\n",
              "      <th>var90</th>\n",
              "      <th>var91</th>\n",
              "      <th>var92</th>\n",
              "      <th>var93</th>\n",
              "      <th>var94</th>\n",
              "      <th>var95</th>\n",
              "      <th>var96</th>\n",
              "      <th>var97</th>\n",
              "      <th>var98</th>\n",
              "      <th>var99</th>\n",
              "      <th>var100</th>\n",
              "      <th>var101</th>\n",
              "      <th>var102</th>\n",
              "      <th>var103</th>\n",
              "      <th>var104</th>\n",
              "    </tr>\n",
              "  </thead>\n",
              "  <tbody>\n",
              "    <tr>\n",
              "      <th>14038</th>\n",
              "      <td>612.032278</td>\n",
              "      <td>60.000000</td>\n",
              "      <td>1.000000</td>\n",
              "      <td>0.0</td>\n",
              "      <td>0.0</td>\n",
              "      <td>0.0</td>\n",
              "      <td>0.0</td>\n",
              "      <td>0.0</td>\n",
              "      <td>0.0</td>\n",
              "      <td>0.0</td>\n",
              "      <td>0.0</td>\n",
              "      <td>0.0</td>\n",
              "      <td>0.0</td>\n",
              "      <td>0.0</td>\n",
              "      <td>0.0</td>\n",
              "      <td>0.0</td>\n",
              "      <td>0.0</td>\n",
              "      <td>0.0</td>\n",
              "      <td>1.0</td>\n",
              "      <td>1.0</td>\n",
              "      <td>0.0</td>\n",
              "      <td>1.0</td>\n",
              "      <td>0.0</td>\n",
              "      <td>1.0</td>\n",
              "      <td>0.0</td>\n",
              "      <td>0.0</td>\n",
              "      <td>0.0</td>\n",
              "      <td>1.0</td>\n",
              "      <td>0.0</td>\n",
              "      <td>1.0</td>\n",
              "      <td>0.0</td>\n",
              "      <td>0.0</td>\n",
              "      <td>0.0</td>\n",
              "      <td>0.0</td>\n",
              "      <td>0.0</td>\n",
              "      <td>28.0</td>\n",
              "      <td>7.0</td>\n",
              "      <td>7.03</td>\n",
              "    </tr>\n",
              "    <tr>\n",
              "      <th>14039</th>\n",
              "      <td>41.000000</td>\n",
              "      <td>41.000000</td>\n",
              "      <td>43.654287</td>\n",
              "      <td>0.0</td>\n",
              "      <td>0.0</td>\n",
              "      <td>0.0</td>\n",
              "      <td>0.0</td>\n",
              "      <td>0.0</td>\n",
              "      <td>0.0</td>\n",
              "      <td>0.0</td>\n",
              "      <td>0.0</td>\n",
              "      <td>0.0</td>\n",
              "      <td>0.0</td>\n",
              "      <td>0.0</td>\n",
              "      <td>0.0</td>\n",
              "      <td>0.0</td>\n",
              "      <td>0.0</td>\n",
              "      <td>0.0</td>\n",
              "      <td>0.0</td>\n",
              "      <td>0.0</td>\n",
              "      <td>0.0</td>\n",
              "      <td>0.0</td>\n",
              "      <td>0.0</td>\n",
              "      <td>0.0</td>\n",
              "      <td>0.0</td>\n",
              "      <td>0.0</td>\n",
              "      <td>0.0</td>\n",
              "      <td>0.0</td>\n",
              "      <td>0.0</td>\n",
              "      <td>0.0</td>\n",
              "      <td>0.0</td>\n",
              "      <td>0.0</td>\n",
              "      <td>0.0</td>\n",
              "      <td>0.0</td>\n",
              "      <td>0.0</td>\n",
              "      <td>0.0</td>\n",
              "      <td>0.0</td>\n",
              "      <td>4.70</td>\n",
              "    </tr>\n",
              "    <tr>\n",
              "      <th>14040</th>\n",
              "      <td>64.000000</td>\n",
              "      <td>664.026896</td>\n",
              "      <td>43.654287</td>\n",
              "      <td>0.0</td>\n",
              "      <td>0.0</td>\n",
              "      <td>0.0</td>\n",
              "      <td>0.0</td>\n",
              "      <td>0.0</td>\n",
              "      <td>0.0</td>\n",
              "      <td>0.0</td>\n",
              "      <td>0.0</td>\n",
              "      <td>0.0</td>\n",
              "      <td>0.0</td>\n",
              "      <td>0.0</td>\n",
              "      <td>0.0</td>\n",
              "      <td>0.0</td>\n",
              "      <td>0.0</td>\n",
              "      <td>0.0</td>\n",
              "      <td>0.0</td>\n",
              "      <td>0.0</td>\n",
              "      <td>0.0</td>\n",
              "      <td>0.0</td>\n",
              "      <td>0.0</td>\n",
              "      <td>0.0</td>\n",
              "      <td>0.0</td>\n",
              "      <td>0.0</td>\n",
              "      <td>0.0</td>\n",
              "      <td>0.0</td>\n",
              "      <td>0.0</td>\n",
              "      <td>0.0</td>\n",
              "      <td>0.0</td>\n",
              "      <td>0.0</td>\n",
              "      <td>0.0</td>\n",
              "      <td>0.0</td>\n",
              "      <td>0.0</td>\n",
              "      <td>0.0</td>\n",
              "      <td>0.0</td>\n",
              "      <td>54.97</td>\n",
              "    </tr>\n",
              "    <tr>\n",
              "      <th>14041</th>\n",
              "      <td>175.000000</td>\n",
              "      <td>175.000000</td>\n",
              "      <td>1.000000</td>\n",
              "      <td>0.0</td>\n",
              "      <td>0.0</td>\n",
              "      <td>0.0</td>\n",
              "      <td>0.0</td>\n",
              "      <td>0.0</td>\n",
              "      <td>0.0</td>\n",
              "      <td>0.0</td>\n",
              "      <td>0.0</td>\n",
              "      <td>0.0</td>\n",
              "      <td>0.0</td>\n",
              "      <td>0.0</td>\n",
              "      <td>0.0</td>\n",
              "      <td>0.0</td>\n",
              "      <td>0.0</td>\n",
              "      <td>0.0</td>\n",
              "      <td>0.0</td>\n",
              "      <td>0.0</td>\n",
              "      <td>0.0</td>\n",
              "      <td>0.0</td>\n",
              "      <td>0.0</td>\n",
              "      <td>0.0</td>\n",
              "      <td>0.0</td>\n",
              "      <td>0.0</td>\n",
              "      <td>0.0</td>\n",
              "      <td>0.0</td>\n",
              "      <td>0.0</td>\n",
              "      <td>0.0</td>\n",
              "      <td>0.0</td>\n",
              "      <td>0.0</td>\n",
              "      <td>0.0</td>\n",
              "      <td>0.0</td>\n",
              "      <td>0.0</td>\n",
              "      <td>0.0</td>\n",
              "      <td>0.0</td>\n",
              "      <td>5.09</td>\n",
              "    </tr>\n",
              "    <tr>\n",
              "      <th>14042</th>\n",
              "      <td>5.000000</td>\n",
              "      <td>664.026896</td>\n",
              "      <td>8.000000</td>\n",
              "      <td>0.0</td>\n",
              "      <td>0.0</td>\n",
              "      <td>0.0</td>\n",
              "      <td>0.0</td>\n",
              "      <td>0.0</td>\n",
              "      <td>0.0</td>\n",
              "      <td>0.0</td>\n",
              "      <td>0.0</td>\n",
              "      <td>0.0</td>\n",
              "      <td>0.0</td>\n",
              "      <td>0.0</td>\n",
              "      <td>0.0</td>\n",
              "      <td>0.0</td>\n",
              "      <td>0.0</td>\n",
              "      <td>0.0</td>\n",
              "      <td>7.0</td>\n",
              "      <td>47.0</td>\n",
              "      <td>21.0</td>\n",
              "      <td>6.0</td>\n",
              "      <td>1.0</td>\n",
              "      <td>39.0</td>\n",
              "      <td>8.0</td>\n",
              "      <td>17.0</td>\n",
              "      <td>4.0</td>\n",
              "      <td>6.0</td>\n",
              "      <td>0.0</td>\n",
              "      <td>28.0</td>\n",
              "      <td>12.0</td>\n",
              "      <td>13.0</td>\n",
              "      <td>5.0</td>\n",
              "      <td>0.0</td>\n",
              "      <td>0.0</td>\n",
              "      <td>332.0</td>\n",
              "      <td>234.0</td>\n",
              "      <td>10.78</td>\n",
              "    </tr>\n",
              "  </tbody>\n",
              "</table>\n",
              "</div>"
            ],
            "text/plain": [
              "             var1        var2       var3  var70  ...  var101  var102  var103  var104\n",
              "14038  612.032278   60.000000   1.000000    0.0  ...     0.0    28.0     7.0    7.03\n",
              "14039   41.000000   41.000000  43.654287    0.0  ...     0.0     0.0     0.0    4.70\n",
              "14040   64.000000  664.026896  43.654287    0.0  ...     0.0     0.0     0.0   54.97\n",
              "14041  175.000000  175.000000   1.000000    0.0  ...     0.0     0.0     0.0    5.09\n",
              "14042    5.000000  664.026896   8.000000    0.0  ...     0.0   332.0   234.0   10.78\n",
              "\n",
              "[5 rows x 38 columns]"
            ]
          },
          "metadata": {
            "tags": []
          },
          "execution_count": 35
        }
      ]
    },
    {
      "cell_type": "code",
      "metadata": {
        "id": "FRAqnfSI2Tew"
      },
      "source": [
        ""
      ],
      "execution_count": 35,
      "outputs": []
    },
    {
      "cell_type": "markdown",
      "metadata": {
        "id": "F_QOmxV-40F-"
      },
      "source": [
        "**Categorical data**"
      ]
    },
    {
      "cell_type": "code",
      "metadata": {
        "id": "qE7qotnqtOK7"
      },
      "source": [
        "df2 = pd.DataFrame()\r\n",
        "# place numerical cols then categorical cols\r\n",
        "df2 = df2.append(df.loc[:, \"var4\":\"var69\"])\r\n",
        "df2 = df2.join(df.loc[:, 'var105':'var134'])"
      ],
      "execution_count": 36,
      "outputs": []
    },
    {
      "cell_type": "code",
      "metadata": {
        "colab": {
          "base_uri": "https://localhost:8080/"
        },
        "id": "gKBGn8l_9qdm",
        "outputId": "97ef5585-e8df-4f45-909b-0bc6703df22d"
      },
      "source": [
        "df2.shape"
      ],
      "execution_count": 37,
      "outputs": [
        {
          "output_type": "execute_result",
          "data": {
            "text/plain": [
              "(14043, 96)"
            ]
          },
          "metadata": {
            "tags": []
          },
          "execution_count": 37
        }
      ]
    },
    {
      "cell_type": "code",
      "metadata": {
        "colab": {
          "base_uri": "https://localhost:8080/",
          "height": 244
        },
        "id": "FlPfIRoausOs",
        "outputId": "d3278ba6-e632-4d45-f697-ed613376cdf2"
      },
      "source": [
        "df2.head()"
      ],
      "execution_count": 38,
      "outputs": [
        {
          "output_type": "execute_result",
          "data": {
            "text/html": [
              "<div>\n",
              "<style scoped>\n",
              "    .dataframe tbody tr th:only-of-type {\n",
              "        vertical-align: middle;\n",
              "    }\n",
              "\n",
              "    .dataframe tbody tr th {\n",
              "        vertical-align: top;\n",
              "    }\n",
              "\n",
              "    .dataframe thead th {\n",
              "        text-align: right;\n",
              "    }\n",
              "</style>\n",
              "<table border=\"1\" class=\"dataframe\">\n",
              "  <thead>\n",
              "    <tr style=\"text-align: right;\">\n",
              "      <th></th>\n",
              "      <th>var4</th>\n",
              "      <th>var5</th>\n",
              "      <th>var6</th>\n",
              "      <th>var7</th>\n",
              "      <th>var8</th>\n",
              "      <th>var9</th>\n",
              "      <th>var10</th>\n",
              "      <th>var11</th>\n",
              "      <th>var12</th>\n",
              "      <th>var13</th>\n",
              "      <th>var14</th>\n",
              "      <th>var15</th>\n",
              "      <th>var16</th>\n",
              "      <th>var17</th>\n",
              "      <th>var18</th>\n",
              "      <th>var19</th>\n",
              "      <th>var20</th>\n",
              "      <th>var21</th>\n",
              "      <th>var22</th>\n",
              "      <th>var23</th>\n",
              "      <th>var24</th>\n",
              "      <th>var25</th>\n",
              "      <th>var26</th>\n",
              "      <th>var27</th>\n",
              "      <th>var28</th>\n",
              "      <th>var29</th>\n",
              "      <th>var30</th>\n",
              "      <th>var31</th>\n",
              "      <th>var32</th>\n",
              "      <th>var33</th>\n",
              "      <th>var34</th>\n",
              "      <th>var35</th>\n",
              "      <th>var36</th>\n",
              "      <th>var37</th>\n",
              "      <th>var38</th>\n",
              "      <th>var39</th>\n",
              "      <th>var40</th>\n",
              "      <th>var41</th>\n",
              "      <th>var42</th>\n",
              "      <th>var43</th>\n",
              "      <th>...</th>\n",
              "      <th>var60</th>\n",
              "      <th>var61</th>\n",
              "      <th>var62</th>\n",
              "      <th>var63</th>\n",
              "      <th>var64</th>\n",
              "      <th>var65</th>\n",
              "      <th>var66</th>\n",
              "      <th>var67</th>\n",
              "      <th>var68</th>\n",
              "      <th>var69</th>\n",
              "      <th>var105</th>\n",
              "      <th>var106</th>\n",
              "      <th>var107</th>\n",
              "      <th>var108</th>\n",
              "      <th>var109</th>\n",
              "      <th>var110</th>\n",
              "      <th>var111</th>\n",
              "      <th>var112</th>\n",
              "      <th>var113</th>\n",
              "      <th>var114</th>\n",
              "      <th>var115</th>\n",
              "      <th>var116</th>\n",
              "      <th>var117</th>\n",
              "      <th>var118</th>\n",
              "      <th>var119</th>\n",
              "      <th>var120</th>\n",
              "      <th>var121</th>\n",
              "      <th>var122</th>\n",
              "      <th>var123</th>\n",
              "      <th>var124</th>\n",
              "      <th>var125</th>\n",
              "      <th>var126</th>\n",
              "      <th>var127</th>\n",
              "      <th>var128</th>\n",
              "      <th>var129</th>\n",
              "      <th>var130</th>\n",
              "      <th>var131</th>\n",
              "      <th>var132</th>\n",
              "      <th>var133</th>\n",
              "      <th>var134</th>\n",
              "    </tr>\n",
              "  </thead>\n",
              "  <tbody>\n",
              "    <tr>\n",
              "      <th>0</th>\n",
              "      <td>0.0</td>\n",
              "      <td>0.0</td>\n",
              "      <td>0.0</td>\n",
              "      <td>0.0</td>\n",
              "      <td>0.0</td>\n",
              "      <td>0.0</td>\n",
              "      <td>0.0</td>\n",
              "      <td>0.0</td>\n",
              "      <td>0.0</td>\n",
              "      <td>0.0</td>\n",
              "      <td>0.0</td>\n",
              "      <td>0.0</td>\n",
              "      <td>0.0</td>\n",
              "      <td>0.0</td>\n",
              "      <td>0.0</td>\n",
              "      <td>0.0</td>\n",
              "      <td>0.0</td>\n",
              "      <td>0.0</td>\n",
              "      <td>0.0</td>\n",
              "      <td>0.0</td>\n",
              "      <td>0.0</td>\n",
              "      <td>0.0</td>\n",
              "      <td>0.0</td>\n",
              "      <td>0.0</td>\n",
              "      <td>0.0</td>\n",
              "      <td>0.0</td>\n",
              "      <td>0.0</td>\n",
              "      <td>0.0</td>\n",
              "      <td>0.0</td>\n",
              "      <td>0.0</td>\n",
              "      <td>0.0</td>\n",
              "      <td>0.0</td>\n",
              "      <td>0.0</td>\n",
              "      <td>0.0</td>\n",
              "      <td>0.0</td>\n",
              "      <td>0.0</td>\n",
              "      <td>0</td>\n",
              "      <td>0</td>\n",
              "      <td>1</td>\n",
              "      <td>0</td>\n",
              "      <td>...</td>\n",
              "      <td>0.0</td>\n",
              "      <td>1.0</td>\n",
              "      <td>1.0</td>\n",
              "      <td>1.0</td>\n",
              "      <td>0.0</td>\n",
              "      <td>1.0</td>\n",
              "      <td>0.0</td>\n",
              "      <td>0.0</td>\n",
              "      <td>0.0</td>\n",
              "      <td>0.0</td>\n",
              "      <td>NaN</td>\n",
              "      <td>NaN</td>\n",
              "      <td>NaN</td>\n",
              "      <td>NaN</td>\n",
              "      <td>NaN</td>\n",
              "      <td>NaN</td>\n",
              "      <td>NaN</td>\n",
              "      <td>NaN</td>\n",
              "      <td>NaN</td>\n",
              "      <td>NaN</td>\n",
              "      <td>NaN</td>\n",
              "      <td>NaN</td>\n",
              "      <td>NaN</td>\n",
              "      <td>NaN</td>\n",
              "      <td>NaN</td>\n",
              "      <td>NaN</td>\n",
              "      <td>NaN</td>\n",
              "      <td>NaN</td>\n",
              "      <td>NaN</td>\n",
              "      <td>NaN</td>\n",
              "      <td>NaN</td>\n",
              "      <td>NaN</td>\n",
              "      <td>NaN</td>\n",
              "      <td>NaN</td>\n",
              "      <td>NaN</td>\n",
              "      <td>NaN</td>\n",
              "      <td>NaN</td>\n",
              "      <td>NaN</td>\n",
              "      <td>NaN</td>\n",
              "      <td>0</td>\n",
              "    </tr>\n",
              "    <tr>\n",
              "      <th>1</th>\n",
              "      <td>0.0</td>\n",
              "      <td>0.0</td>\n",
              "      <td>0.0</td>\n",
              "      <td>0.0</td>\n",
              "      <td>0.0</td>\n",
              "      <td>0.0</td>\n",
              "      <td>0.0</td>\n",
              "      <td>0.0</td>\n",
              "      <td>0.0</td>\n",
              "      <td>0.0</td>\n",
              "      <td>0.0</td>\n",
              "      <td>0.0</td>\n",
              "      <td>0.0</td>\n",
              "      <td>0.0</td>\n",
              "      <td>0.0</td>\n",
              "      <td>0.0</td>\n",
              "      <td>0.0</td>\n",
              "      <td>1.0</td>\n",
              "      <td>0.0</td>\n",
              "      <td>0.0</td>\n",
              "      <td>0.0</td>\n",
              "      <td>0.0</td>\n",
              "      <td>0.0</td>\n",
              "      <td>0.0</td>\n",
              "      <td>0.0</td>\n",
              "      <td>0.0</td>\n",
              "      <td>0.0</td>\n",
              "      <td>0.0</td>\n",
              "      <td>0.0</td>\n",
              "      <td>0.0</td>\n",
              "      <td>0.0</td>\n",
              "      <td>0.0</td>\n",
              "      <td>0.0</td>\n",
              "      <td>0.0</td>\n",
              "      <td>0.0</td>\n",
              "      <td>0.0</td>\n",
              "      <td>0</td>\n",
              "      <td>0</td>\n",
              "      <td>1</td>\n",
              "      <td>0</td>\n",
              "      <td>...</td>\n",
              "      <td>0.0</td>\n",
              "      <td>1.0</td>\n",
              "      <td>1.0</td>\n",
              "      <td>1.0</td>\n",
              "      <td>0.0</td>\n",
              "      <td>NaN</td>\n",
              "      <td>NaN</td>\n",
              "      <td>NaN</td>\n",
              "      <td>NaN</td>\n",
              "      <td>NaN</td>\n",
              "      <td>0.0</td>\n",
              "      <td>0.0</td>\n",
              "      <td>1.0</td>\n",
              "      <td>NaN</td>\n",
              "      <td>NaN</td>\n",
              "      <td>NaN</td>\n",
              "      <td>NaN</td>\n",
              "      <td>NaN</td>\n",
              "      <td>0.0</td>\n",
              "      <td>0.0</td>\n",
              "      <td>0.0</td>\n",
              "      <td>0.0</td>\n",
              "      <td>NaN</td>\n",
              "      <td>NaN</td>\n",
              "      <td>NaN</td>\n",
              "      <td>NaN</td>\n",
              "      <td>NaN</td>\n",
              "      <td>NaN</td>\n",
              "      <td>0.0</td>\n",
              "      <td>0.0</td>\n",
              "      <td>0.0</td>\n",
              "      <td>0.0</td>\n",
              "      <td>0.0</td>\n",
              "      <td>0.0</td>\n",
              "      <td>0.0</td>\n",
              "      <td>0.0</td>\n",
              "      <td>0.0</td>\n",
              "      <td>0.0</td>\n",
              "      <td>0.0</td>\n",
              "      <td>0</td>\n",
              "    </tr>\n",
              "    <tr>\n",
              "      <th>2</th>\n",
              "      <td>0.0</td>\n",
              "      <td>0.0</td>\n",
              "      <td>0.0</td>\n",
              "      <td>0.0</td>\n",
              "      <td>0.0</td>\n",
              "      <td>0.0</td>\n",
              "      <td>0.0</td>\n",
              "      <td>0.0</td>\n",
              "      <td>0.0</td>\n",
              "      <td>0.0</td>\n",
              "      <td>0.0</td>\n",
              "      <td>0.0</td>\n",
              "      <td>0.0</td>\n",
              "      <td>0.0</td>\n",
              "      <td>0.0</td>\n",
              "      <td>0.0</td>\n",
              "      <td>0.0</td>\n",
              "      <td>0.0</td>\n",
              "      <td>0.0</td>\n",
              "      <td>0.0</td>\n",
              "      <td>0.0</td>\n",
              "      <td>0.0</td>\n",
              "      <td>0.0</td>\n",
              "      <td>0.0</td>\n",
              "      <td>0.0</td>\n",
              "      <td>0.0</td>\n",
              "      <td>0.0</td>\n",
              "      <td>0.0</td>\n",
              "      <td>0.0</td>\n",
              "      <td>0.0</td>\n",
              "      <td>0.0</td>\n",
              "      <td>0.0</td>\n",
              "      <td>0.0</td>\n",
              "      <td>0.0</td>\n",
              "      <td>1.0</td>\n",
              "      <td>0.0</td>\n",
              "      <td>0</td>\n",
              "      <td>0</td>\n",
              "      <td>0</td>\n",
              "      <td>0</td>\n",
              "      <td>...</td>\n",
              "      <td>0.0</td>\n",
              "      <td>1.0</td>\n",
              "      <td>1.0</td>\n",
              "      <td>0.0</td>\n",
              "      <td>0.0</td>\n",
              "      <td>NaN</td>\n",
              "      <td>NaN</td>\n",
              "      <td>NaN</td>\n",
              "      <td>NaN</td>\n",
              "      <td>NaN</td>\n",
              "      <td>0.0</td>\n",
              "      <td>0.0</td>\n",
              "      <td>0.0</td>\n",
              "      <td>NaN</td>\n",
              "      <td>NaN</td>\n",
              "      <td>NaN</td>\n",
              "      <td>NaN</td>\n",
              "      <td>NaN</td>\n",
              "      <td>0.0</td>\n",
              "      <td>0.0</td>\n",
              "      <td>1.0</td>\n",
              "      <td>0.0</td>\n",
              "      <td>NaN</td>\n",
              "      <td>NaN</td>\n",
              "      <td>NaN</td>\n",
              "      <td>NaN</td>\n",
              "      <td>NaN</td>\n",
              "      <td>NaN</td>\n",
              "      <td>0.0</td>\n",
              "      <td>1.0</td>\n",
              "      <td>0.0</td>\n",
              "      <td>0.0</td>\n",
              "      <td>0.0</td>\n",
              "      <td>0.0</td>\n",
              "      <td>0.0</td>\n",
              "      <td>0.0</td>\n",
              "      <td>0.0</td>\n",
              "      <td>0.0</td>\n",
              "      <td>0.0</td>\n",
              "      <td>0</td>\n",
              "    </tr>\n",
              "    <tr>\n",
              "      <th>3</th>\n",
              "      <td>0.0</td>\n",
              "      <td>0.0</td>\n",
              "      <td>0.0</td>\n",
              "      <td>0.0</td>\n",
              "      <td>0.0</td>\n",
              "      <td>0.0</td>\n",
              "      <td>0.0</td>\n",
              "      <td>0.0</td>\n",
              "      <td>0.0</td>\n",
              "      <td>0.0</td>\n",
              "      <td>0.0</td>\n",
              "      <td>0.0</td>\n",
              "      <td>0.0</td>\n",
              "      <td>0.0</td>\n",
              "      <td>0.0</td>\n",
              "      <td>0.0</td>\n",
              "      <td>0.0</td>\n",
              "      <td>0.0</td>\n",
              "      <td>0.0</td>\n",
              "      <td>0.0</td>\n",
              "      <td>0.0</td>\n",
              "      <td>0.0</td>\n",
              "      <td>0.0</td>\n",
              "      <td>0.0</td>\n",
              "      <td>0.0</td>\n",
              "      <td>0.0</td>\n",
              "      <td>0.0</td>\n",
              "      <td>0.0</td>\n",
              "      <td>0.0</td>\n",
              "      <td>0.0</td>\n",
              "      <td>0.0</td>\n",
              "      <td>0.0</td>\n",
              "      <td>0.0</td>\n",
              "      <td>0.0</td>\n",
              "      <td>1.0</td>\n",
              "      <td>0.0</td>\n",
              "      <td>0</td>\n",
              "      <td>0</td>\n",
              "      <td>0</td>\n",
              "      <td>0</td>\n",
              "      <td>...</td>\n",
              "      <td>0.0</td>\n",
              "      <td>0.0</td>\n",
              "      <td>1.0</td>\n",
              "      <td>0.0</td>\n",
              "      <td>0.0</td>\n",
              "      <td>1.0</td>\n",
              "      <td>0.0</td>\n",
              "      <td>1.0</td>\n",
              "      <td>0.0</td>\n",
              "      <td>0.0</td>\n",
              "      <td>0.0</td>\n",
              "      <td>0.0</td>\n",
              "      <td>1.0</td>\n",
              "      <td>0.0</td>\n",
              "      <td>1.0</td>\n",
              "      <td>0.0</td>\n",
              "      <td>1.0</td>\n",
              "      <td>0.0</td>\n",
              "      <td>0.0</td>\n",
              "      <td>1.0</td>\n",
              "      <td>1.0</td>\n",
              "      <td>0.0</td>\n",
              "      <td>NaN</td>\n",
              "      <td>NaN</td>\n",
              "      <td>NaN</td>\n",
              "      <td>NaN</td>\n",
              "      <td>NaN</td>\n",
              "      <td>NaN</td>\n",
              "      <td>0.0</td>\n",
              "      <td>1.0</td>\n",
              "      <td>0.0</td>\n",
              "      <td>0.0</td>\n",
              "      <td>0.0</td>\n",
              "      <td>0.0</td>\n",
              "      <td>0.0</td>\n",
              "      <td>0.0</td>\n",
              "      <td>0.0</td>\n",
              "      <td>0.0</td>\n",
              "      <td>0.0</td>\n",
              "      <td>0</td>\n",
              "    </tr>\n",
              "    <tr>\n",
              "      <th>4</th>\n",
              "      <td>0.0</td>\n",
              "      <td>0.0</td>\n",
              "      <td>0.0</td>\n",
              "      <td>0.0</td>\n",
              "      <td>0.0</td>\n",
              "      <td>0.0</td>\n",
              "      <td>0.0</td>\n",
              "      <td>0.0</td>\n",
              "      <td>0.0</td>\n",
              "      <td>0.0</td>\n",
              "      <td>0.0</td>\n",
              "      <td>0.0</td>\n",
              "      <td>0.0</td>\n",
              "      <td>0.0</td>\n",
              "      <td>0.0</td>\n",
              "      <td>0.0</td>\n",
              "      <td>0.0</td>\n",
              "      <td>0.0</td>\n",
              "      <td>0.0</td>\n",
              "      <td>0.0</td>\n",
              "      <td>0.0</td>\n",
              "      <td>0.0</td>\n",
              "      <td>0.0</td>\n",
              "      <td>0.0</td>\n",
              "      <td>0.0</td>\n",
              "      <td>0.0</td>\n",
              "      <td>0.0</td>\n",
              "      <td>0.0</td>\n",
              "      <td>0.0</td>\n",
              "      <td>0.0</td>\n",
              "      <td>0.0</td>\n",
              "      <td>0.0</td>\n",
              "      <td>0.0</td>\n",
              "      <td>0.0</td>\n",
              "      <td>1.0</td>\n",
              "      <td>0.0</td>\n",
              "      <td>0</td>\n",
              "      <td>0</td>\n",
              "      <td>0</td>\n",
              "      <td>0</td>\n",
              "      <td>...</td>\n",
              "      <td>0.0</td>\n",
              "      <td>0.0</td>\n",
              "      <td>1.0</td>\n",
              "      <td>0.0</td>\n",
              "      <td>0.0</td>\n",
              "      <td>NaN</td>\n",
              "      <td>NaN</td>\n",
              "      <td>NaN</td>\n",
              "      <td>NaN</td>\n",
              "      <td>NaN</td>\n",
              "      <td>0.0</td>\n",
              "      <td>0.0</td>\n",
              "      <td>1.0</td>\n",
              "      <td>0.0</td>\n",
              "      <td>1.0</td>\n",
              "      <td>0.0</td>\n",
              "      <td>1.0</td>\n",
              "      <td>0.0</td>\n",
              "      <td>0.0</td>\n",
              "      <td>1.0</td>\n",
              "      <td>1.0</td>\n",
              "      <td>0.0</td>\n",
              "      <td>NaN</td>\n",
              "      <td>NaN</td>\n",
              "      <td>NaN</td>\n",
              "      <td>NaN</td>\n",
              "      <td>NaN</td>\n",
              "      <td>NaN</td>\n",
              "      <td>0.0</td>\n",
              "      <td>1.0</td>\n",
              "      <td>0.0</td>\n",
              "      <td>0.0</td>\n",
              "      <td>0.0</td>\n",
              "      <td>0.0</td>\n",
              "      <td>0.0</td>\n",
              "      <td>0.0</td>\n",
              "      <td>0.0</td>\n",
              "      <td>0.0</td>\n",
              "      <td>0.0</td>\n",
              "      <td>0</td>\n",
              "    </tr>\n",
              "  </tbody>\n",
              "</table>\n",
              "<p>5 rows × 96 columns</p>\n",
              "</div>"
            ],
            "text/plain": [
              "   var4  var5  var6  var7  var8  ...  var130  var131  var132  var133  var134\n",
              "0   0.0   0.0   0.0   0.0   0.0  ...     NaN     NaN     NaN     NaN       0\n",
              "1   0.0   0.0   0.0   0.0   0.0  ...     0.0     0.0     0.0     0.0       0\n",
              "2   0.0   0.0   0.0   0.0   0.0  ...     0.0     0.0     0.0     0.0       0\n",
              "3   0.0   0.0   0.0   0.0   0.0  ...     0.0     0.0     0.0     0.0       0\n",
              "4   0.0   0.0   0.0   0.0   0.0  ...     0.0     0.0     0.0     0.0       0\n",
              "\n",
              "[5 rows x 96 columns]"
            ]
          },
          "metadata": {
            "tags": []
          },
          "execution_count": 38
        }
      ]
    },
    {
      "cell_type": "code",
      "metadata": {
        "id": "7Eus5ZLvutSP"
      },
      "source": [
        "#dropping rows with missing values\r\n",
        "# df2.dropna(inplace=True)"
      ],
      "execution_count": 39,
      "outputs": []
    },
    {
      "cell_type": "code",
      "metadata": {
        "colab": {
          "base_uri": "https://localhost:8080/"
        },
        "id": "Wy9gSQ_O9tTE",
        "outputId": "6a28b2e8-f039-432c-f29e-225179b4282c"
      },
      "source": [
        "df2.shape"
      ],
      "execution_count": 40,
      "outputs": [
        {
          "output_type": "execute_result",
          "data": {
            "text/plain": [
              "(14043, 96)"
            ]
          },
          "metadata": {
            "tags": []
          },
          "execution_count": 40
        }
      ]
    },
    {
      "cell_type": "markdown",
      "metadata": {
        "id": "RUxBSWqw9_st"
      },
      "source": [
        "problem arises at the time of joining with numerical data  \r\n",
        "so we join it with df1 first then we drop the categorical missing value rows"
      ]
    },
    {
      "cell_type": "markdown",
      "metadata": {
        "id": "DQE-UG0olTlK"
      },
      "source": [
        "Merging df2 with df1"
      ]
    },
    {
      "cell_type": "code",
      "metadata": {
        "id": "-aPd19XX9wk4"
      },
      "source": [
        "df1 = df1.join(df2)\r\n",
        "df1 = df1.join(df[['trialOutcomes']])"
      ],
      "execution_count": 41,
      "outputs": []
    },
    {
      "cell_type": "code",
      "metadata": {
        "colab": {
          "base_uri": "https://localhost:8080/",
          "height": 328
        },
        "id": "gFg4-hc7A-6o",
        "outputId": "78405a79-907b-4591-8c0d-20f9ab936e0c"
      },
      "source": [
        "df1.head()"
      ],
      "execution_count": 42,
      "outputs": [
        {
          "output_type": "execute_result",
          "data": {
            "text/html": [
              "<div>\n",
              "<style scoped>\n",
              "    .dataframe tbody tr th:only-of-type {\n",
              "        vertical-align: middle;\n",
              "    }\n",
              "\n",
              "    .dataframe tbody tr th {\n",
              "        vertical-align: top;\n",
              "    }\n",
              "\n",
              "    .dataframe thead th {\n",
              "        text-align: right;\n",
              "    }\n",
              "</style>\n",
              "<table border=\"1\" class=\"dataframe\">\n",
              "  <thead>\n",
              "    <tr style=\"text-align: right;\">\n",
              "      <th></th>\n",
              "      <th>0</th>\n",
              "      <th>1</th>\n",
              "      <th>2</th>\n",
              "      <th>3</th>\n",
              "      <th>4</th>\n",
              "      <th>5</th>\n",
              "      <th>6</th>\n",
              "      <th>7</th>\n",
              "      <th>8</th>\n",
              "      <th>9</th>\n",
              "      <th>var4</th>\n",
              "      <th>var5</th>\n",
              "      <th>var6</th>\n",
              "      <th>var7</th>\n",
              "      <th>var8</th>\n",
              "      <th>var9</th>\n",
              "      <th>var10</th>\n",
              "      <th>var11</th>\n",
              "      <th>var12</th>\n",
              "      <th>var13</th>\n",
              "      <th>var14</th>\n",
              "      <th>var15</th>\n",
              "      <th>var16</th>\n",
              "      <th>var17</th>\n",
              "      <th>var18</th>\n",
              "      <th>var19</th>\n",
              "      <th>var20</th>\n",
              "      <th>var21</th>\n",
              "      <th>var22</th>\n",
              "      <th>var23</th>\n",
              "      <th>var24</th>\n",
              "      <th>var25</th>\n",
              "      <th>var26</th>\n",
              "      <th>var27</th>\n",
              "      <th>var28</th>\n",
              "      <th>var29</th>\n",
              "      <th>var30</th>\n",
              "      <th>var31</th>\n",
              "      <th>var32</th>\n",
              "      <th>var33</th>\n",
              "      <th>...</th>\n",
              "      <th>var61</th>\n",
              "      <th>var62</th>\n",
              "      <th>var63</th>\n",
              "      <th>var64</th>\n",
              "      <th>var65</th>\n",
              "      <th>var66</th>\n",
              "      <th>var67</th>\n",
              "      <th>var68</th>\n",
              "      <th>var69</th>\n",
              "      <th>var105</th>\n",
              "      <th>var106</th>\n",
              "      <th>var107</th>\n",
              "      <th>var108</th>\n",
              "      <th>var109</th>\n",
              "      <th>var110</th>\n",
              "      <th>var111</th>\n",
              "      <th>var112</th>\n",
              "      <th>var113</th>\n",
              "      <th>var114</th>\n",
              "      <th>var115</th>\n",
              "      <th>var116</th>\n",
              "      <th>var117</th>\n",
              "      <th>var118</th>\n",
              "      <th>var119</th>\n",
              "      <th>var120</th>\n",
              "      <th>var121</th>\n",
              "      <th>var122</th>\n",
              "      <th>var123</th>\n",
              "      <th>var124</th>\n",
              "      <th>var125</th>\n",
              "      <th>var126</th>\n",
              "      <th>var127</th>\n",
              "      <th>var128</th>\n",
              "      <th>var129</th>\n",
              "      <th>var130</th>\n",
              "      <th>var131</th>\n",
              "      <th>var132</th>\n",
              "      <th>var133</th>\n",
              "      <th>var134</th>\n",
              "      <th>trialOutcomes</th>\n",
              "    </tr>\n",
              "  </thead>\n",
              "  <tbody>\n",
              "    <tr>\n",
              "      <th>0</th>\n",
              "      <td>1.142280e-01</td>\n",
              "      <td>-0.182356</td>\n",
              "      <td>-0.136688</td>\n",
              "      <td>-0.082468</td>\n",
              "      <td>-0.174476</td>\n",
              "      <td>-0.105192</td>\n",
              "      <td>-0.826306</td>\n",
              "      <td>-0.860621</td>\n",
              "      <td>0.284345</td>\n",
              "      <td>1.007141</td>\n",
              "      <td>0.0</td>\n",
              "      <td>0.0</td>\n",
              "      <td>0.0</td>\n",
              "      <td>0.0</td>\n",
              "      <td>0.0</td>\n",
              "      <td>0.0</td>\n",
              "      <td>0.0</td>\n",
              "      <td>0.0</td>\n",
              "      <td>0.0</td>\n",
              "      <td>0.0</td>\n",
              "      <td>0.0</td>\n",
              "      <td>0.0</td>\n",
              "      <td>0.0</td>\n",
              "      <td>0.0</td>\n",
              "      <td>0.0</td>\n",
              "      <td>0.0</td>\n",
              "      <td>0.0</td>\n",
              "      <td>0.0</td>\n",
              "      <td>0.0</td>\n",
              "      <td>0.0</td>\n",
              "      <td>0.0</td>\n",
              "      <td>0.0</td>\n",
              "      <td>0.0</td>\n",
              "      <td>0.0</td>\n",
              "      <td>0.0</td>\n",
              "      <td>0.0</td>\n",
              "      <td>0.0</td>\n",
              "      <td>0.0</td>\n",
              "      <td>0.0</td>\n",
              "      <td>0.0</td>\n",
              "      <td>...</td>\n",
              "      <td>1.0</td>\n",
              "      <td>1.0</td>\n",
              "      <td>1.0</td>\n",
              "      <td>0.0</td>\n",
              "      <td>1.0</td>\n",
              "      <td>0.0</td>\n",
              "      <td>0.0</td>\n",
              "      <td>0.0</td>\n",
              "      <td>0.0</td>\n",
              "      <td>NaN</td>\n",
              "      <td>NaN</td>\n",
              "      <td>NaN</td>\n",
              "      <td>NaN</td>\n",
              "      <td>NaN</td>\n",
              "      <td>NaN</td>\n",
              "      <td>NaN</td>\n",
              "      <td>NaN</td>\n",
              "      <td>NaN</td>\n",
              "      <td>NaN</td>\n",
              "      <td>NaN</td>\n",
              "      <td>NaN</td>\n",
              "      <td>NaN</td>\n",
              "      <td>NaN</td>\n",
              "      <td>NaN</td>\n",
              "      <td>NaN</td>\n",
              "      <td>NaN</td>\n",
              "      <td>NaN</td>\n",
              "      <td>NaN</td>\n",
              "      <td>NaN</td>\n",
              "      <td>NaN</td>\n",
              "      <td>NaN</td>\n",
              "      <td>NaN</td>\n",
              "      <td>NaN</td>\n",
              "      <td>NaN</td>\n",
              "      <td>NaN</td>\n",
              "      <td>NaN</td>\n",
              "      <td>NaN</td>\n",
              "      <td>NaN</td>\n",
              "      <td>0</td>\n",
              "      <td>0</td>\n",
              "    </tr>\n",
              "    <tr>\n",
              "      <th>1</th>\n",
              "      <td>1.160288e-16</td>\n",
              "      <td>-0.267994</td>\n",
              "      <td>-0.283250</td>\n",
              "      <td>-0.282236</td>\n",
              "      <td>-0.286640</td>\n",
              "      <td>-0.297114</td>\n",
              "      <td>-0.822622</td>\n",
              "      <td>-0.854381</td>\n",
              "      <td>-0.709438</td>\n",
              "      <td>-0.324492</td>\n",
              "      <td>0.0</td>\n",
              "      <td>0.0</td>\n",
              "      <td>0.0</td>\n",
              "      <td>0.0</td>\n",
              "      <td>0.0</td>\n",
              "      <td>0.0</td>\n",
              "      <td>0.0</td>\n",
              "      <td>0.0</td>\n",
              "      <td>0.0</td>\n",
              "      <td>0.0</td>\n",
              "      <td>0.0</td>\n",
              "      <td>0.0</td>\n",
              "      <td>0.0</td>\n",
              "      <td>0.0</td>\n",
              "      <td>0.0</td>\n",
              "      <td>0.0</td>\n",
              "      <td>0.0</td>\n",
              "      <td>1.0</td>\n",
              "      <td>0.0</td>\n",
              "      <td>0.0</td>\n",
              "      <td>0.0</td>\n",
              "      <td>0.0</td>\n",
              "      <td>0.0</td>\n",
              "      <td>0.0</td>\n",
              "      <td>0.0</td>\n",
              "      <td>0.0</td>\n",
              "      <td>0.0</td>\n",
              "      <td>0.0</td>\n",
              "      <td>0.0</td>\n",
              "      <td>0.0</td>\n",
              "      <td>...</td>\n",
              "      <td>1.0</td>\n",
              "      <td>1.0</td>\n",
              "      <td>1.0</td>\n",
              "      <td>0.0</td>\n",
              "      <td>NaN</td>\n",
              "      <td>NaN</td>\n",
              "      <td>NaN</td>\n",
              "      <td>NaN</td>\n",
              "      <td>NaN</td>\n",
              "      <td>0.0</td>\n",
              "      <td>0.0</td>\n",
              "      <td>1.0</td>\n",
              "      <td>NaN</td>\n",
              "      <td>NaN</td>\n",
              "      <td>NaN</td>\n",
              "      <td>NaN</td>\n",
              "      <td>NaN</td>\n",
              "      <td>0.0</td>\n",
              "      <td>0.0</td>\n",
              "      <td>0.0</td>\n",
              "      <td>0.0</td>\n",
              "      <td>NaN</td>\n",
              "      <td>NaN</td>\n",
              "      <td>NaN</td>\n",
              "      <td>NaN</td>\n",
              "      <td>NaN</td>\n",
              "      <td>NaN</td>\n",
              "      <td>0.0</td>\n",
              "      <td>0.0</td>\n",
              "      <td>0.0</td>\n",
              "      <td>0.0</td>\n",
              "      <td>0.0</td>\n",
              "      <td>0.0</td>\n",
              "      <td>0.0</td>\n",
              "      <td>0.0</td>\n",
              "      <td>0.0</td>\n",
              "      <td>0.0</td>\n",
              "      <td>0.0</td>\n",
              "      <td>0</td>\n",
              "      <td>0</td>\n",
              "    </tr>\n",
              "    <tr>\n",
              "      <th>2</th>\n",
              "      <td>1.160288e-16</td>\n",
              "      <td>-0.244938</td>\n",
              "      <td>-0.270643</td>\n",
              "      <td>-0.282236</td>\n",
              "      <td>-0.261964</td>\n",
              "      <td>-0.284597</td>\n",
              "      <td>-0.826306</td>\n",
              "      <td>-0.859373</td>\n",
              "      <td>0.260185</td>\n",
              "      <td>3.027272</td>\n",
              "      <td>0.0</td>\n",
              "      <td>0.0</td>\n",
              "      <td>0.0</td>\n",
              "      <td>0.0</td>\n",
              "      <td>0.0</td>\n",
              "      <td>0.0</td>\n",
              "      <td>0.0</td>\n",
              "      <td>0.0</td>\n",
              "      <td>0.0</td>\n",
              "      <td>0.0</td>\n",
              "      <td>0.0</td>\n",
              "      <td>0.0</td>\n",
              "      <td>0.0</td>\n",
              "      <td>0.0</td>\n",
              "      <td>0.0</td>\n",
              "      <td>0.0</td>\n",
              "      <td>0.0</td>\n",
              "      <td>0.0</td>\n",
              "      <td>0.0</td>\n",
              "      <td>0.0</td>\n",
              "      <td>0.0</td>\n",
              "      <td>0.0</td>\n",
              "      <td>0.0</td>\n",
              "      <td>0.0</td>\n",
              "      <td>0.0</td>\n",
              "      <td>0.0</td>\n",
              "      <td>0.0</td>\n",
              "      <td>0.0</td>\n",
              "      <td>0.0</td>\n",
              "      <td>0.0</td>\n",
              "      <td>...</td>\n",
              "      <td>1.0</td>\n",
              "      <td>1.0</td>\n",
              "      <td>0.0</td>\n",
              "      <td>0.0</td>\n",
              "      <td>NaN</td>\n",
              "      <td>NaN</td>\n",
              "      <td>NaN</td>\n",
              "      <td>NaN</td>\n",
              "      <td>NaN</td>\n",
              "      <td>0.0</td>\n",
              "      <td>0.0</td>\n",
              "      <td>0.0</td>\n",
              "      <td>NaN</td>\n",
              "      <td>NaN</td>\n",
              "      <td>NaN</td>\n",
              "      <td>NaN</td>\n",
              "      <td>NaN</td>\n",
              "      <td>0.0</td>\n",
              "      <td>0.0</td>\n",
              "      <td>1.0</td>\n",
              "      <td>0.0</td>\n",
              "      <td>NaN</td>\n",
              "      <td>NaN</td>\n",
              "      <td>NaN</td>\n",
              "      <td>NaN</td>\n",
              "      <td>NaN</td>\n",
              "      <td>NaN</td>\n",
              "      <td>0.0</td>\n",
              "      <td>1.0</td>\n",
              "      <td>0.0</td>\n",
              "      <td>0.0</td>\n",
              "      <td>0.0</td>\n",
              "      <td>0.0</td>\n",
              "      <td>0.0</td>\n",
              "      <td>0.0</td>\n",
              "      <td>0.0</td>\n",
              "      <td>0.0</td>\n",
              "      <td>0.0</td>\n",
              "      <td>0</td>\n",
              "      <td>0</td>\n",
              "    </tr>\n",
              "    <tr>\n",
              "      <th>3</th>\n",
              "      <td>1.160288e-16</td>\n",
              "      <td>-0.254819</td>\n",
              "      <td>-0.283250</td>\n",
              "      <td>-0.282236</td>\n",
              "      <td>-0.273180</td>\n",
              "      <td>-0.297114</td>\n",
              "      <td>1.173910</td>\n",
              "      <td>1.157461</td>\n",
              "      <td>-0.588638</td>\n",
              "      <td>1.482815</td>\n",
              "      <td>0.0</td>\n",
              "      <td>0.0</td>\n",
              "      <td>0.0</td>\n",
              "      <td>0.0</td>\n",
              "      <td>0.0</td>\n",
              "      <td>0.0</td>\n",
              "      <td>0.0</td>\n",
              "      <td>0.0</td>\n",
              "      <td>0.0</td>\n",
              "      <td>0.0</td>\n",
              "      <td>0.0</td>\n",
              "      <td>0.0</td>\n",
              "      <td>0.0</td>\n",
              "      <td>0.0</td>\n",
              "      <td>0.0</td>\n",
              "      <td>0.0</td>\n",
              "      <td>0.0</td>\n",
              "      <td>0.0</td>\n",
              "      <td>0.0</td>\n",
              "      <td>0.0</td>\n",
              "      <td>0.0</td>\n",
              "      <td>0.0</td>\n",
              "      <td>0.0</td>\n",
              "      <td>0.0</td>\n",
              "      <td>0.0</td>\n",
              "      <td>0.0</td>\n",
              "      <td>0.0</td>\n",
              "      <td>0.0</td>\n",
              "      <td>0.0</td>\n",
              "      <td>0.0</td>\n",
              "      <td>...</td>\n",
              "      <td>0.0</td>\n",
              "      <td>1.0</td>\n",
              "      <td>0.0</td>\n",
              "      <td>0.0</td>\n",
              "      <td>1.0</td>\n",
              "      <td>0.0</td>\n",
              "      <td>1.0</td>\n",
              "      <td>0.0</td>\n",
              "      <td>0.0</td>\n",
              "      <td>0.0</td>\n",
              "      <td>0.0</td>\n",
              "      <td>1.0</td>\n",
              "      <td>0.0</td>\n",
              "      <td>1.0</td>\n",
              "      <td>0.0</td>\n",
              "      <td>1.0</td>\n",
              "      <td>0.0</td>\n",
              "      <td>0.0</td>\n",
              "      <td>1.0</td>\n",
              "      <td>1.0</td>\n",
              "      <td>0.0</td>\n",
              "      <td>NaN</td>\n",
              "      <td>NaN</td>\n",
              "      <td>NaN</td>\n",
              "      <td>NaN</td>\n",
              "      <td>NaN</td>\n",
              "      <td>NaN</td>\n",
              "      <td>0.0</td>\n",
              "      <td>1.0</td>\n",
              "      <td>0.0</td>\n",
              "      <td>0.0</td>\n",
              "      <td>0.0</td>\n",
              "      <td>0.0</td>\n",
              "      <td>0.0</td>\n",
              "      <td>0.0</td>\n",
              "      <td>0.0</td>\n",
              "      <td>0.0</td>\n",
              "      <td>0.0</td>\n",
              "      <td>0</td>\n",
              "      <td>0</td>\n",
              "    </tr>\n",
              "    <tr>\n",
              "      <th>4</th>\n",
              "      <td>1.160288e-16</td>\n",
              "      <td>-0.251525</td>\n",
              "      <td>-0.280098</td>\n",
              "      <td>-0.282236</td>\n",
              "      <td>-0.270937</td>\n",
              "      <td>-0.295028</td>\n",
              "      <td>1.428128</td>\n",
              "      <td>1.392093</td>\n",
              "      <td>-0.574142</td>\n",
              "      <td>0.293206</td>\n",
              "      <td>0.0</td>\n",
              "      <td>0.0</td>\n",
              "      <td>0.0</td>\n",
              "      <td>0.0</td>\n",
              "      <td>0.0</td>\n",
              "      <td>0.0</td>\n",
              "      <td>0.0</td>\n",
              "      <td>0.0</td>\n",
              "      <td>0.0</td>\n",
              "      <td>0.0</td>\n",
              "      <td>0.0</td>\n",
              "      <td>0.0</td>\n",
              "      <td>0.0</td>\n",
              "      <td>0.0</td>\n",
              "      <td>0.0</td>\n",
              "      <td>0.0</td>\n",
              "      <td>0.0</td>\n",
              "      <td>0.0</td>\n",
              "      <td>0.0</td>\n",
              "      <td>0.0</td>\n",
              "      <td>0.0</td>\n",
              "      <td>0.0</td>\n",
              "      <td>0.0</td>\n",
              "      <td>0.0</td>\n",
              "      <td>0.0</td>\n",
              "      <td>0.0</td>\n",
              "      <td>0.0</td>\n",
              "      <td>0.0</td>\n",
              "      <td>0.0</td>\n",
              "      <td>0.0</td>\n",
              "      <td>...</td>\n",
              "      <td>0.0</td>\n",
              "      <td>1.0</td>\n",
              "      <td>0.0</td>\n",
              "      <td>0.0</td>\n",
              "      <td>NaN</td>\n",
              "      <td>NaN</td>\n",
              "      <td>NaN</td>\n",
              "      <td>NaN</td>\n",
              "      <td>NaN</td>\n",
              "      <td>0.0</td>\n",
              "      <td>0.0</td>\n",
              "      <td>1.0</td>\n",
              "      <td>0.0</td>\n",
              "      <td>1.0</td>\n",
              "      <td>0.0</td>\n",
              "      <td>1.0</td>\n",
              "      <td>0.0</td>\n",
              "      <td>0.0</td>\n",
              "      <td>1.0</td>\n",
              "      <td>1.0</td>\n",
              "      <td>0.0</td>\n",
              "      <td>NaN</td>\n",
              "      <td>NaN</td>\n",
              "      <td>NaN</td>\n",
              "      <td>NaN</td>\n",
              "      <td>NaN</td>\n",
              "      <td>NaN</td>\n",
              "      <td>0.0</td>\n",
              "      <td>1.0</td>\n",
              "      <td>0.0</td>\n",
              "      <td>0.0</td>\n",
              "      <td>0.0</td>\n",
              "      <td>0.0</td>\n",
              "      <td>0.0</td>\n",
              "      <td>0.0</td>\n",
              "      <td>0.0</td>\n",
              "      <td>0.0</td>\n",
              "      <td>0.0</td>\n",
              "      <td>0</td>\n",
              "      <td>0</td>\n",
              "    </tr>\n",
              "  </tbody>\n",
              "</table>\n",
              "<p>5 rows × 107 columns</p>\n",
              "</div>"
            ],
            "text/plain": [
              "              0         1         2  ...  var133  var134  trialOutcomes\n",
              "0  1.142280e-01 -0.182356 -0.136688  ...     NaN       0              0\n",
              "1  1.160288e-16 -0.267994 -0.283250  ...     0.0       0              0\n",
              "2  1.160288e-16 -0.244938 -0.270643  ...     0.0       0              0\n",
              "3  1.160288e-16 -0.254819 -0.283250  ...     0.0       0              0\n",
              "4  1.160288e-16 -0.251525 -0.280098  ...     0.0       0              0\n",
              "\n",
              "[5 rows x 107 columns]"
            ]
          },
          "metadata": {
            "tags": []
          },
          "execution_count": 42
        }
      ]
    },
    {
      "cell_type": "code",
      "metadata": {
        "id": "GWHAoiQT-Qh8"
      },
      "source": [
        "# we drop the rows of missing categorical data\r\n",
        "df_dropped = df1.dropna(axis=0)"
      ],
      "execution_count": 43,
      "outputs": []
    },
    {
      "cell_type": "code",
      "metadata": {
        "colab": {
          "base_uri": "https://localhost:8080/"
        },
        "id": "3F7VLDcX-hrX",
        "outputId": "f32be71f-f039-45c0-e04d-9ebf801a9993"
      },
      "source": [
        "df1.shape"
      ],
      "execution_count": 44,
      "outputs": [
        {
          "output_type": "execute_result",
          "data": {
            "text/plain": [
              "(14043, 107)"
            ]
          },
          "metadata": {
            "tags": []
          },
          "execution_count": 44
        }
      ]
    },
    {
      "cell_type": "code",
      "metadata": {
        "colab": {
          "base_uri": "https://localhost:8080/"
        },
        "id": "pJxWQULW-jIW",
        "outputId": "c39981b0-f5a5-41b6-ca3d-e00305f2fbb2"
      },
      "source": [
        "df_dropped.shape"
      ],
      "execution_count": 45,
      "outputs": [
        {
          "output_type": "execute_result",
          "data": {
            "text/plain": [
              "(4192, 107)"
            ]
          },
          "metadata": {
            "tags": []
          },
          "execution_count": 45
        }
      ]
    },
    {
      "cell_type": "markdown",
      "metadata": {
        "id": "DkaAijPb_L2v"
      },
      "source": [
        "**Replacing categorical missing values with mode**"
      ]
    },
    {
      "cell_type": "code",
      "metadata": {
        "id": "y0FYP0Fj_RcP"
      },
      "source": [
        "# Not worthy, poor results\r\n",
        "from sklearn.impute import SimpleImputer\r\n",
        "\r\n",
        "imp_mean = SimpleImputer(missing_values=np.nan, strategy='most_frequent')\r\n",
        "imp_mean.fit(df1)\r\n",
        "X = imp_mean.transform(df1)"
      ],
      "execution_count": 46,
      "outputs": []
    },
    {
      "cell_type": "code",
      "metadata": {
        "id": "d9TDXfod_RZa"
      },
      "source": [
        "df1_catMode = pd.DataFrame(X, columns = df1.columns)"
      ],
      "execution_count": 47,
      "outputs": []
    },
    {
      "cell_type": "code",
      "metadata": {
        "colab": {
          "base_uri": "https://localhost:8080/"
        },
        "id": "VYt9KRz3_RVP",
        "outputId": "49a66497-32a4-4d70-daa4-ce0f8e70688f"
      },
      "source": [
        "df1_catMode.shape"
      ],
      "execution_count": 48,
      "outputs": [
        {
          "output_type": "execute_result",
          "data": {
            "text/plain": [
              "(14043, 107)"
            ]
          },
          "metadata": {
            "tags": []
          },
          "execution_count": 48
        }
      ]
    },
    {
      "cell_type": "code",
      "metadata": {
        "id": "8NH2Thnb_RRE"
      },
      "source": [
        ""
      ],
      "execution_count": 48,
      "outputs": []
    },
    {
      "cell_type": "markdown",
      "metadata": {
        "id": "pXz1gw2cxt51"
      },
      "source": [
        "## TrainTestSplit\r\n",
        "The Continuous missing  values are replaced by mean whereas the categorical missing values are dropped"
      ]
    },
    {
      "cell_type": "code",
      "metadata": {
        "id": "zfXQ4wECBTmQ"
      },
      "source": [
        "from sklearn.model_selection import StratifiedShuffleSplit\r\n",
        "\r\n",
        "split = StratifiedShuffleSplit(n_splits=1, test_size=0.2, random_state=42)\r\n",
        "for train_index, test_index in split.split(df_dropped, df_dropped['trialOutcomes']):\r\n",
        "    strat_train_set = df_dropped.iloc[train_index]\r\n",
        "    strat_test_set = df_dropped.iloc[test_index]"
      ],
      "execution_count": 49,
      "outputs": []
    },
    {
      "cell_type": "code",
      "metadata": {
        "colab": {
          "base_uri": "https://localhost:8080/",
          "height": 590
        },
        "id": "1IZScJu7C6-2",
        "outputId": "b1c544e6-38c5-41d3-f310-aceac0024138"
      },
      "source": [
        "strat_train_set"
      ],
      "execution_count": 50,
      "outputs": [
        {
          "output_type": "execute_result",
          "data": {
            "text/html": [
              "<div>\n",
              "<style scoped>\n",
              "    .dataframe tbody tr th:only-of-type {\n",
              "        vertical-align: middle;\n",
              "    }\n",
              "\n",
              "    .dataframe tbody tr th {\n",
              "        vertical-align: top;\n",
              "    }\n",
              "\n",
              "    .dataframe thead th {\n",
              "        text-align: right;\n",
              "    }\n",
              "</style>\n",
              "<table border=\"1\" class=\"dataframe\">\n",
              "  <thead>\n",
              "    <tr style=\"text-align: right;\">\n",
              "      <th></th>\n",
              "      <th>0</th>\n",
              "      <th>1</th>\n",
              "      <th>2</th>\n",
              "      <th>3</th>\n",
              "      <th>4</th>\n",
              "      <th>5</th>\n",
              "      <th>6</th>\n",
              "      <th>7</th>\n",
              "      <th>8</th>\n",
              "      <th>9</th>\n",
              "      <th>var4</th>\n",
              "      <th>var5</th>\n",
              "      <th>var6</th>\n",
              "      <th>var7</th>\n",
              "      <th>var8</th>\n",
              "      <th>var9</th>\n",
              "      <th>var10</th>\n",
              "      <th>var11</th>\n",
              "      <th>var12</th>\n",
              "      <th>var13</th>\n",
              "      <th>var14</th>\n",
              "      <th>var15</th>\n",
              "      <th>var16</th>\n",
              "      <th>var17</th>\n",
              "      <th>var18</th>\n",
              "      <th>var19</th>\n",
              "      <th>var20</th>\n",
              "      <th>var21</th>\n",
              "      <th>var22</th>\n",
              "      <th>var23</th>\n",
              "      <th>var24</th>\n",
              "      <th>var25</th>\n",
              "      <th>var26</th>\n",
              "      <th>var27</th>\n",
              "      <th>var28</th>\n",
              "      <th>var29</th>\n",
              "      <th>var30</th>\n",
              "      <th>var31</th>\n",
              "      <th>var32</th>\n",
              "      <th>var33</th>\n",
              "      <th>...</th>\n",
              "      <th>var61</th>\n",
              "      <th>var62</th>\n",
              "      <th>var63</th>\n",
              "      <th>var64</th>\n",
              "      <th>var65</th>\n",
              "      <th>var66</th>\n",
              "      <th>var67</th>\n",
              "      <th>var68</th>\n",
              "      <th>var69</th>\n",
              "      <th>var105</th>\n",
              "      <th>var106</th>\n",
              "      <th>var107</th>\n",
              "      <th>var108</th>\n",
              "      <th>var109</th>\n",
              "      <th>var110</th>\n",
              "      <th>var111</th>\n",
              "      <th>var112</th>\n",
              "      <th>var113</th>\n",
              "      <th>var114</th>\n",
              "      <th>var115</th>\n",
              "      <th>var116</th>\n",
              "      <th>var117</th>\n",
              "      <th>var118</th>\n",
              "      <th>var119</th>\n",
              "      <th>var120</th>\n",
              "      <th>var121</th>\n",
              "      <th>var122</th>\n",
              "      <th>var123</th>\n",
              "      <th>var124</th>\n",
              "      <th>var125</th>\n",
              "      <th>var126</th>\n",
              "      <th>var127</th>\n",
              "      <th>var128</th>\n",
              "      <th>var129</th>\n",
              "      <th>var130</th>\n",
              "      <th>var131</th>\n",
              "      <th>var132</th>\n",
              "      <th>var133</th>\n",
              "      <th>var134</th>\n",
              "      <th>trialOutcomes</th>\n",
              "    </tr>\n",
              "  </thead>\n",
              "  <tbody>\n",
              "    <tr>\n",
              "      <th>4097</th>\n",
              "      <td>1.160288e-16</td>\n",
              "      <td>-0.235057</td>\n",
              "      <td>-0.245428</td>\n",
              "      <td>-0.254362</td>\n",
              "      <td>-0.248504</td>\n",
              "      <td>-0.253306</td>\n",
              "      <td>-0.569141</td>\n",
              "      <td>-0.602277</td>\n",
              "      <td>-0.253619</td>\n",
              "      <td>-0.578016</td>\n",
              "      <td>0.0</td>\n",
              "      <td>0.0</td>\n",
              "      <td>0.0</td>\n",
              "      <td>0.0</td>\n",
              "      <td>0.0</td>\n",
              "      <td>0.0</td>\n",
              "      <td>0.0</td>\n",
              "      <td>0.0</td>\n",
              "      <td>0.0</td>\n",
              "      <td>0.0</td>\n",
              "      <td>0.0</td>\n",
              "      <td>0.0</td>\n",
              "      <td>0.0</td>\n",
              "      <td>0.0</td>\n",
              "      <td>0.0</td>\n",
              "      <td>0.0</td>\n",
              "      <td>0.0</td>\n",
              "      <td>0.0</td>\n",
              "      <td>0.0</td>\n",
              "      <td>0.0</td>\n",
              "      <td>0.0</td>\n",
              "      <td>0.0</td>\n",
              "      <td>1.0</td>\n",
              "      <td>0.0</td>\n",
              "      <td>0.0</td>\n",
              "      <td>0.0</td>\n",
              "      <td>0.0</td>\n",
              "      <td>0.0</td>\n",
              "      <td>0.0</td>\n",
              "      <td>0.0</td>\n",
              "      <td>...</td>\n",
              "      <td>0.0</td>\n",
              "      <td>1.0</td>\n",
              "      <td>1.0</td>\n",
              "      <td>0.0</td>\n",
              "      <td>0.0</td>\n",
              "      <td>0.0</td>\n",
              "      <td>0.0</td>\n",
              "      <td>0.0</td>\n",
              "      <td>0.0</td>\n",
              "      <td>0.0</td>\n",
              "      <td>0.0</td>\n",
              "      <td>1.0</td>\n",
              "      <td>0.0</td>\n",
              "      <td>1.0</td>\n",
              "      <td>0.0</td>\n",
              "      <td>0.0</td>\n",
              "      <td>1.0</td>\n",
              "      <td>0.0</td>\n",
              "      <td>0.0</td>\n",
              "      <td>1.0</td>\n",
              "      <td>0.0</td>\n",
              "      <td>1.0</td>\n",
              "      <td>0.0</td>\n",
              "      <td>0.0</td>\n",
              "      <td>0.0</td>\n",
              "      <td>0.0</td>\n",
              "      <td>0.0</td>\n",
              "      <td>0.0</td>\n",
              "      <td>0.0</td>\n",
              "      <td>0.0</td>\n",
              "      <td>0.0</td>\n",
              "      <td>0.0</td>\n",
              "      <td>0.0</td>\n",
              "      <td>0.0</td>\n",
              "      <td>0.0</td>\n",
              "      <td>0.0</td>\n",
              "      <td>0.0</td>\n",
              "      <td>0.0</td>\n",
              "      <td>0</td>\n",
              "      <td>0</td>\n",
              "    </tr>\n",
              "    <tr>\n",
              "      <th>13224</th>\n",
              "      <td>4.586296e-01</td>\n",
              "      <td>-0.146125</td>\n",
              "      <td>0.109158</td>\n",
              "      <td>0.437858</td>\n",
              "      <td>-0.149800</td>\n",
              "      <td>0.159743</td>\n",
              "      <td>1.634450</td>\n",
              "      <td>1.449814</td>\n",
              "      <td>-0.226237</td>\n",
              "      <td>-0.442775</td>\n",
              "      <td>1.0</td>\n",
              "      <td>0.0</td>\n",
              "      <td>0.0</td>\n",
              "      <td>0.0</td>\n",
              "      <td>1.0</td>\n",
              "      <td>1.0</td>\n",
              "      <td>0.0</td>\n",
              "      <td>1.0</td>\n",
              "      <td>1.0</td>\n",
              "      <td>0.0</td>\n",
              "      <td>0.0</td>\n",
              "      <td>0.0</td>\n",
              "      <td>1.0</td>\n",
              "      <td>1.0</td>\n",
              "      <td>1.0</td>\n",
              "      <td>1.0</td>\n",
              "      <td>1.0</td>\n",
              "      <td>1.0</td>\n",
              "      <td>1.0</td>\n",
              "      <td>0.0</td>\n",
              "      <td>0.0</td>\n",
              "      <td>1.0</td>\n",
              "      <td>1.0</td>\n",
              "      <td>1.0</td>\n",
              "      <td>1.0</td>\n",
              "      <td>1.0</td>\n",
              "      <td>1.0</td>\n",
              "      <td>1.0</td>\n",
              "      <td>1.0</td>\n",
              "      <td>1.0</td>\n",
              "      <td>...</td>\n",
              "      <td>0.0</td>\n",
              "      <td>1.0</td>\n",
              "      <td>1.0</td>\n",
              "      <td>0.0</td>\n",
              "      <td>0.0</td>\n",
              "      <td>0.0</td>\n",
              "      <td>0.0</td>\n",
              "      <td>0.0</td>\n",
              "      <td>0.0</td>\n",
              "      <td>0.0</td>\n",
              "      <td>0.0</td>\n",
              "      <td>1.0</td>\n",
              "      <td>0.0</td>\n",
              "      <td>0.0</td>\n",
              "      <td>0.0</td>\n",
              "      <td>1.0</td>\n",
              "      <td>0.0</td>\n",
              "      <td>1.0</td>\n",
              "      <td>0.0</td>\n",
              "      <td>0.0</td>\n",
              "      <td>0.0</td>\n",
              "      <td>1.0</td>\n",
              "      <td>0.0</td>\n",
              "      <td>1.0</td>\n",
              "      <td>0.0</td>\n",
              "      <td>0.0</td>\n",
              "      <td>0.0</td>\n",
              "      <td>0.0</td>\n",
              "      <td>0.0</td>\n",
              "      <td>0.0</td>\n",
              "      <td>0.0</td>\n",
              "      <td>0.0</td>\n",
              "      <td>0.0</td>\n",
              "      <td>0.0</td>\n",
              "      <td>0.0</td>\n",
              "      <td>1.0</td>\n",
              "      <td>0.0</td>\n",
              "      <td>0.0</td>\n",
              "      <td>0</td>\n",
              "      <td>0</td>\n",
              "    </tr>\n",
              "    <tr>\n",
              "      <th>1359</th>\n",
              "      <td>1.160288e-16</td>\n",
              "      <td>-0.267994</td>\n",
              "      <td>-0.281674</td>\n",
              "      <td>-0.282236</td>\n",
              "      <td>-0.286640</td>\n",
              "      <td>-0.295028</td>\n",
              "      <td>0.298884</td>\n",
              "      <td>0.125019</td>\n",
              "      <td>-0.516158</td>\n",
              "      <td>-0.847649</td>\n",
              "      <td>0.0</td>\n",
              "      <td>0.0</td>\n",
              "      <td>0.0</td>\n",
              "      <td>0.0</td>\n",
              "      <td>0.0</td>\n",
              "      <td>0.0</td>\n",
              "      <td>0.0</td>\n",
              "      <td>0.0</td>\n",
              "      <td>0.0</td>\n",
              "      <td>0.0</td>\n",
              "      <td>0.0</td>\n",
              "      <td>0.0</td>\n",
              "      <td>0.0</td>\n",
              "      <td>0.0</td>\n",
              "      <td>0.0</td>\n",
              "      <td>0.0</td>\n",
              "      <td>0.0</td>\n",
              "      <td>0.0</td>\n",
              "      <td>0.0</td>\n",
              "      <td>0.0</td>\n",
              "      <td>0.0</td>\n",
              "      <td>0.0</td>\n",
              "      <td>0.0</td>\n",
              "      <td>0.0</td>\n",
              "      <td>0.0</td>\n",
              "      <td>0.0</td>\n",
              "      <td>0.0</td>\n",
              "      <td>0.0</td>\n",
              "      <td>0.0</td>\n",
              "      <td>0.0</td>\n",
              "      <td>...</td>\n",
              "      <td>1.0</td>\n",
              "      <td>1.0</td>\n",
              "      <td>0.0</td>\n",
              "      <td>0.0</td>\n",
              "      <td>1.0</td>\n",
              "      <td>0.0</td>\n",
              "      <td>1.0</td>\n",
              "      <td>0.0</td>\n",
              "      <td>0.0</td>\n",
              "      <td>0.0</td>\n",
              "      <td>0.0</td>\n",
              "      <td>1.0</td>\n",
              "      <td>0.0</td>\n",
              "      <td>0.0</td>\n",
              "      <td>0.0</td>\n",
              "      <td>1.0</td>\n",
              "      <td>0.0</td>\n",
              "      <td>0.0</td>\n",
              "      <td>1.0</td>\n",
              "      <td>1.0</td>\n",
              "      <td>0.0</td>\n",
              "      <td>0.0</td>\n",
              "      <td>0.0</td>\n",
              "      <td>0.0</td>\n",
              "      <td>0.0</td>\n",
              "      <td>0.0</td>\n",
              "      <td>1.0</td>\n",
              "      <td>0.0</td>\n",
              "      <td>0.0</td>\n",
              "      <td>0.0</td>\n",
              "      <td>0.0</td>\n",
              "      <td>0.0</td>\n",
              "      <td>0.0</td>\n",
              "      <td>0.0</td>\n",
              "      <td>0.0</td>\n",
              "      <td>0.0</td>\n",
              "      <td>0.0</td>\n",
              "      <td>0.0</td>\n",
              "      <td>0</td>\n",
              "      <td>0</td>\n",
              "    </tr>\n",
              "    <tr>\n",
              "      <th>9655</th>\n",
              "      <td>-2.701042e-01</td>\n",
              "      <td>-0.123068</td>\n",
              "      <td>0.161164</td>\n",
              "      <td>0.247381</td>\n",
              "      <td>-0.122881</td>\n",
              "      <td>0.201465</td>\n",
              "      <td>-0.811569</td>\n",
              "      <td>-0.855317</td>\n",
              "      <td>0.411588</td>\n",
              "      <td>0.143551</td>\n",
              "      <td>0.0</td>\n",
              "      <td>0.0</td>\n",
              "      <td>0.0</td>\n",
              "      <td>0.0</td>\n",
              "      <td>0.0</td>\n",
              "      <td>0.0</td>\n",
              "      <td>0.0</td>\n",
              "      <td>0.0</td>\n",
              "      <td>0.0</td>\n",
              "      <td>0.0</td>\n",
              "      <td>1.0</td>\n",
              "      <td>1.0</td>\n",
              "      <td>0.0</td>\n",
              "      <td>0.0</td>\n",
              "      <td>0.0</td>\n",
              "      <td>0.0</td>\n",
              "      <td>0.0</td>\n",
              "      <td>0.0</td>\n",
              "      <td>0.0</td>\n",
              "      <td>1.0</td>\n",
              "      <td>0.0</td>\n",
              "      <td>0.0</td>\n",
              "      <td>0.0</td>\n",
              "      <td>0.0</td>\n",
              "      <td>0.0</td>\n",
              "      <td>0.0</td>\n",
              "      <td>0.0</td>\n",
              "      <td>0.0</td>\n",
              "      <td>0.0</td>\n",
              "      <td>0.0</td>\n",
              "      <td>...</td>\n",
              "      <td>1.0</td>\n",
              "      <td>1.0</td>\n",
              "      <td>1.0</td>\n",
              "      <td>0.0</td>\n",
              "      <td>0.0</td>\n",
              "      <td>0.0</td>\n",
              "      <td>0.0</td>\n",
              "      <td>0.0</td>\n",
              "      <td>0.0</td>\n",
              "      <td>0.0</td>\n",
              "      <td>0.0</td>\n",
              "      <td>1.0</td>\n",
              "      <td>0.0</td>\n",
              "      <td>0.0</td>\n",
              "      <td>0.0</td>\n",
              "      <td>1.0</td>\n",
              "      <td>0.0</td>\n",
              "      <td>0.0</td>\n",
              "      <td>0.0</td>\n",
              "      <td>1.0</td>\n",
              "      <td>0.0</td>\n",
              "      <td>0.0</td>\n",
              "      <td>0.0</td>\n",
              "      <td>0.0</td>\n",
              "      <td>0.0</td>\n",
              "      <td>0.0</td>\n",
              "      <td>1.0</td>\n",
              "      <td>0.0</td>\n",
              "      <td>0.0</td>\n",
              "      <td>0.0</td>\n",
              "      <td>0.0</td>\n",
              "      <td>0.0</td>\n",
              "      <td>0.0</td>\n",
              "      <td>0.0</td>\n",
              "      <td>0.0</td>\n",
              "      <td>0.0</td>\n",
              "      <td>0.0</td>\n",
              "      <td>0.0</td>\n",
              "      <td>0</td>\n",
              "      <td>1</td>\n",
              "    </tr>\n",
              "    <tr>\n",
              "      <th>4740</th>\n",
              "      <td>-2.956154e-01</td>\n",
              "      <td>-0.261407</td>\n",
              "      <td>-0.283250</td>\n",
              "      <td>-0.282236</td>\n",
              "      <td>-0.277667</td>\n",
              "      <td>-0.297114</td>\n",
              "      <td>-0.826306</td>\n",
              "      <td>-0.860621</td>\n",
              "      <td>-0.607966</td>\n",
              "      <td>-0.335515</td>\n",
              "      <td>0.0</td>\n",
              "      <td>0.0</td>\n",
              "      <td>0.0</td>\n",
              "      <td>0.0</td>\n",
              "      <td>0.0</td>\n",
              "      <td>0.0</td>\n",
              "      <td>0.0</td>\n",
              "      <td>0.0</td>\n",
              "      <td>0.0</td>\n",
              "      <td>1.0</td>\n",
              "      <td>0.0</td>\n",
              "      <td>0.0</td>\n",
              "      <td>0.0</td>\n",
              "      <td>0.0</td>\n",
              "      <td>0.0</td>\n",
              "      <td>0.0</td>\n",
              "      <td>0.0</td>\n",
              "      <td>0.0</td>\n",
              "      <td>0.0</td>\n",
              "      <td>1.0</td>\n",
              "      <td>0.0</td>\n",
              "      <td>0.0</td>\n",
              "      <td>0.0</td>\n",
              "      <td>0.0</td>\n",
              "      <td>0.0</td>\n",
              "      <td>0.0</td>\n",
              "      <td>0.0</td>\n",
              "      <td>0.0</td>\n",
              "      <td>0.0</td>\n",
              "      <td>0.0</td>\n",
              "      <td>...</td>\n",
              "      <td>1.0</td>\n",
              "      <td>1.0</td>\n",
              "      <td>0.0</td>\n",
              "      <td>0.0</td>\n",
              "      <td>0.0</td>\n",
              "      <td>0.0</td>\n",
              "      <td>0.0</td>\n",
              "      <td>0.0</td>\n",
              "      <td>0.0</td>\n",
              "      <td>0.0</td>\n",
              "      <td>0.0</td>\n",
              "      <td>1.0</td>\n",
              "      <td>0.0</td>\n",
              "      <td>0.0</td>\n",
              "      <td>1.0</td>\n",
              "      <td>0.0</td>\n",
              "      <td>0.0</td>\n",
              "      <td>0.0</td>\n",
              "      <td>0.0</td>\n",
              "      <td>1.0</td>\n",
              "      <td>0.0</td>\n",
              "      <td>1.0</td>\n",
              "      <td>1.0</td>\n",
              "      <td>0.0</td>\n",
              "      <td>1.0</td>\n",
              "      <td>0.0</td>\n",
              "      <td>0.0</td>\n",
              "      <td>0.0</td>\n",
              "      <td>0.0</td>\n",
              "      <td>0.0</td>\n",
              "      <td>0.0</td>\n",
              "      <td>0.0</td>\n",
              "      <td>0.0</td>\n",
              "      <td>0.0</td>\n",
              "      <td>0.0</td>\n",
              "      <td>0.0</td>\n",
              "      <td>0.0</td>\n",
              "      <td>0.0</td>\n",
              "      <td>0</td>\n",
              "      <td>1</td>\n",
              "    </tr>\n",
              "    <tr>\n",
              "      <th>...</th>\n",
              "      <td>...</td>\n",
              "      <td>...</td>\n",
              "      <td>...</td>\n",
              "      <td>...</td>\n",
              "      <td>...</td>\n",
              "      <td>...</td>\n",
              "      <td>...</td>\n",
              "      <td>...</td>\n",
              "      <td>...</td>\n",
              "      <td>...</td>\n",
              "      <td>...</td>\n",
              "      <td>...</td>\n",
              "      <td>...</td>\n",
              "      <td>...</td>\n",
              "      <td>...</td>\n",
              "      <td>...</td>\n",
              "      <td>...</td>\n",
              "      <td>...</td>\n",
              "      <td>...</td>\n",
              "      <td>...</td>\n",
              "      <td>...</td>\n",
              "      <td>...</td>\n",
              "      <td>...</td>\n",
              "      <td>...</td>\n",
              "      <td>...</td>\n",
              "      <td>...</td>\n",
              "      <td>...</td>\n",
              "      <td>...</td>\n",
              "      <td>...</td>\n",
              "      <td>...</td>\n",
              "      <td>...</td>\n",
              "      <td>...</td>\n",
              "      <td>...</td>\n",
              "      <td>...</td>\n",
              "      <td>...</td>\n",
              "      <td>...</td>\n",
              "      <td>...</td>\n",
              "      <td>...</td>\n",
              "      <td>...</td>\n",
              "      <td>...</td>\n",
              "      <td>...</td>\n",
              "      <td>...</td>\n",
              "      <td>...</td>\n",
              "      <td>...</td>\n",
              "      <td>...</td>\n",
              "      <td>...</td>\n",
              "      <td>...</td>\n",
              "      <td>...</td>\n",
              "      <td>...</td>\n",
              "      <td>...</td>\n",
              "      <td>...</td>\n",
              "      <td>...</td>\n",
              "      <td>...</td>\n",
              "      <td>...</td>\n",
              "      <td>...</td>\n",
              "      <td>...</td>\n",
              "      <td>...</td>\n",
              "      <td>...</td>\n",
              "      <td>...</td>\n",
              "      <td>...</td>\n",
              "      <td>...</td>\n",
              "      <td>...</td>\n",
              "      <td>...</td>\n",
              "      <td>...</td>\n",
              "      <td>...</td>\n",
              "      <td>...</td>\n",
              "      <td>...</td>\n",
              "      <td>...</td>\n",
              "      <td>...</td>\n",
              "      <td>...</td>\n",
              "      <td>...</td>\n",
              "      <td>...</td>\n",
              "      <td>...</td>\n",
              "      <td>...</td>\n",
              "      <td>...</td>\n",
              "      <td>...</td>\n",
              "      <td>...</td>\n",
              "      <td>...</td>\n",
              "      <td>...</td>\n",
              "      <td>...</td>\n",
              "      <td>...</td>\n",
              "    </tr>\n",
              "    <tr>\n",
              "      <th>6690</th>\n",
              "      <td>-8.986179e-02</td>\n",
              "      <td>6.953613</td>\n",
              "      <td>4.611610</td>\n",
              "      <td>3.350757</td>\n",
              "      <td>6.521695</td>\n",
              "      <td>3.756185</td>\n",
              "      <td>3.095650</td>\n",
              "      <td>2.751833</td>\n",
              "      <td>2.974165</td>\n",
              "      <td>1.221661</td>\n",
              "      <td>0.0</td>\n",
              "      <td>1.0</td>\n",
              "      <td>0.0</td>\n",
              "      <td>0.0</td>\n",
              "      <td>1.0</td>\n",
              "      <td>0.0</td>\n",
              "      <td>1.0</td>\n",
              "      <td>0.0</td>\n",
              "      <td>0.0</td>\n",
              "      <td>0.0</td>\n",
              "      <td>0.0</td>\n",
              "      <td>1.0</td>\n",
              "      <td>0.0</td>\n",
              "      <td>0.0</td>\n",
              "      <td>0.0</td>\n",
              "      <td>1.0</td>\n",
              "      <td>1.0</td>\n",
              "      <td>1.0</td>\n",
              "      <td>0.0</td>\n",
              "      <td>1.0</td>\n",
              "      <td>0.0</td>\n",
              "      <td>0.0</td>\n",
              "      <td>1.0</td>\n",
              "      <td>0.0</td>\n",
              "      <td>1.0</td>\n",
              "      <td>0.0</td>\n",
              "      <td>0.0</td>\n",
              "      <td>1.0</td>\n",
              "      <td>1.0</td>\n",
              "      <td>0.0</td>\n",
              "      <td>...</td>\n",
              "      <td>1.0</td>\n",
              "      <td>1.0</td>\n",
              "      <td>1.0</td>\n",
              "      <td>0.0</td>\n",
              "      <td>1.0</td>\n",
              "      <td>0.0</td>\n",
              "      <td>1.0</td>\n",
              "      <td>1.0</td>\n",
              "      <td>0.0</td>\n",
              "      <td>0.0</td>\n",
              "      <td>0.0</td>\n",
              "      <td>1.0</td>\n",
              "      <td>0.0</td>\n",
              "      <td>1.0</td>\n",
              "      <td>0.0</td>\n",
              "      <td>0.0</td>\n",
              "      <td>0.0</td>\n",
              "      <td>0.0</td>\n",
              "      <td>0.0</td>\n",
              "      <td>1.0</td>\n",
              "      <td>0.0</td>\n",
              "      <td>1.0</td>\n",
              "      <td>0.0</td>\n",
              "      <td>0.0</td>\n",
              "      <td>0.0</td>\n",
              "      <td>0.0</td>\n",
              "      <td>1.0</td>\n",
              "      <td>0.0</td>\n",
              "      <td>0.0</td>\n",
              "      <td>0.0</td>\n",
              "      <td>0.0</td>\n",
              "      <td>0.0</td>\n",
              "      <td>0.0</td>\n",
              "      <td>0.0</td>\n",
              "      <td>0.0</td>\n",
              "      <td>0.0</td>\n",
              "      <td>0.0</td>\n",
              "      <td>0.0</td>\n",
              "      <td>1</td>\n",
              "      <td>1</td>\n",
              "    </tr>\n",
              "    <tr>\n",
              "      <th>2439</th>\n",
              "      <td>6.098721e-02</td>\n",
              "      <td>-0.264701</td>\n",
              "      <td>-0.270643</td>\n",
              "      <td>-0.272945</td>\n",
              "      <td>-0.282153</td>\n",
              "      <td>-0.280425</td>\n",
              "      <td>0.917850</td>\n",
              "      <td>0.619243</td>\n",
              "      <td>-0.272947</td>\n",
              "      <td>-0.746325</td>\n",
              "      <td>0.0</td>\n",
              "      <td>0.0</td>\n",
              "      <td>0.0</td>\n",
              "      <td>0.0</td>\n",
              "      <td>0.0</td>\n",
              "      <td>0.0</td>\n",
              "      <td>0.0</td>\n",
              "      <td>0.0</td>\n",
              "      <td>0.0</td>\n",
              "      <td>1.0</td>\n",
              "      <td>1.0</td>\n",
              "      <td>1.0</td>\n",
              "      <td>1.0</td>\n",
              "      <td>1.0</td>\n",
              "      <td>1.0</td>\n",
              "      <td>0.0</td>\n",
              "      <td>0.0</td>\n",
              "      <td>0.0</td>\n",
              "      <td>0.0</td>\n",
              "      <td>1.0</td>\n",
              "      <td>0.0</td>\n",
              "      <td>0.0</td>\n",
              "      <td>1.0</td>\n",
              "      <td>0.0</td>\n",
              "      <td>0.0</td>\n",
              "      <td>1.0</td>\n",
              "      <td>0.0</td>\n",
              "      <td>0.0</td>\n",
              "      <td>1.0</td>\n",
              "      <td>0.0</td>\n",
              "      <td>...</td>\n",
              "      <td>0.0</td>\n",
              "      <td>1.0</td>\n",
              "      <td>1.0</td>\n",
              "      <td>0.0</td>\n",
              "      <td>0.0</td>\n",
              "      <td>0.0</td>\n",
              "      <td>0.0</td>\n",
              "      <td>0.0</td>\n",
              "      <td>0.0</td>\n",
              "      <td>0.0</td>\n",
              "      <td>0.0</td>\n",
              "      <td>1.0</td>\n",
              "      <td>0.0</td>\n",
              "      <td>1.0</td>\n",
              "      <td>0.0</td>\n",
              "      <td>0.0</td>\n",
              "      <td>1.0</td>\n",
              "      <td>0.0</td>\n",
              "      <td>0.0</td>\n",
              "      <td>1.0</td>\n",
              "      <td>0.0</td>\n",
              "      <td>0.0</td>\n",
              "      <td>0.0</td>\n",
              "      <td>0.0</td>\n",
              "      <td>0.0</td>\n",
              "      <td>0.0</td>\n",
              "      <td>1.0</td>\n",
              "      <td>0.0</td>\n",
              "      <td>0.0</td>\n",
              "      <td>0.0</td>\n",
              "      <td>0.0</td>\n",
              "      <td>0.0</td>\n",
              "      <td>0.0</td>\n",
              "      <td>0.0</td>\n",
              "      <td>0.0</td>\n",
              "      <td>0.0</td>\n",
              "      <td>0.0</td>\n",
              "      <td>0.0</td>\n",
              "      <td>0</td>\n",
              "      <td>0</td>\n",
              "    </tr>\n",
              "    <tr>\n",
              "      <th>6330</th>\n",
              "      <td>-4.882199e-02</td>\n",
              "      <td>-0.216941</td>\n",
              "      <td>-0.119353</td>\n",
              "      <td>-0.054594</td>\n",
              "      <td>-0.235045</td>\n",
              "      <td>-0.103106</td>\n",
              "      <td>-0.826306</td>\n",
              "      <td>-0.860621</td>\n",
              "      <td>-0.131208</td>\n",
              "      <td>0.908360</td>\n",
              "      <td>0.0</td>\n",
              "      <td>1.0</td>\n",
              "      <td>0.0</td>\n",
              "      <td>0.0</td>\n",
              "      <td>0.0</td>\n",
              "      <td>1.0</td>\n",
              "      <td>0.0</td>\n",
              "      <td>0.0</td>\n",
              "      <td>0.0</td>\n",
              "      <td>0.0</td>\n",
              "      <td>0.0</td>\n",
              "      <td>0.0</td>\n",
              "      <td>1.0</td>\n",
              "      <td>1.0</td>\n",
              "      <td>1.0</td>\n",
              "      <td>0.0</td>\n",
              "      <td>0.0</td>\n",
              "      <td>0.0</td>\n",
              "      <td>0.0</td>\n",
              "      <td>0.0</td>\n",
              "      <td>0.0</td>\n",
              "      <td>0.0</td>\n",
              "      <td>1.0</td>\n",
              "      <td>1.0</td>\n",
              "      <td>1.0</td>\n",
              "      <td>0.0</td>\n",
              "      <td>0.0</td>\n",
              "      <td>0.0</td>\n",
              "      <td>0.0</td>\n",
              "      <td>0.0</td>\n",
              "      <td>...</td>\n",
              "      <td>0.0</td>\n",
              "      <td>1.0</td>\n",
              "      <td>1.0</td>\n",
              "      <td>1.0</td>\n",
              "      <td>1.0</td>\n",
              "      <td>0.0</td>\n",
              "      <td>0.0</td>\n",
              "      <td>0.0</td>\n",
              "      <td>0.0</td>\n",
              "      <td>0.0</td>\n",
              "      <td>0.0</td>\n",
              "      <td>1.0</td>\n",
              "      <td>0.0</td>\n",
              "      <td>0.0</td>\n",
              "      <td>0.0</td>\n",
              "      <td>1.0</td>\n",
              "      <td>0.0</td>\n",
              "      <td>0.0</td>\n",
              "      <td>1.0</td>\n",
              "      <td>1.0</td>\n",
              "      <td>0.0</td>\n",
              "      <td>0.0</td>\n",
              "      <td>0.0</td>\n",
              "      <td>0.0</td>\n",
              "      <td>1.0</td>\n",
              "      <td>0.0</td>\n",
              "      <td>1.0</td>\n",
              "      <td>1.0</td>\n",
              "      <td>0.0</td>\n",
              "      <td>0.0</td>\n",
              "      <td>0.0</td>\n",
              "      <td>0.0</td>\n",
              "      <td>0.0</td>\n",
              "      <td>0.0</td>\n",
              "      <td>0.0</td>\n",
              "      <td>0.0</td>\n",
              "      <td>0.0</td>\n",
              "      <td>0.0</td>\n",
              "      <td>0</td>\n",
              "      <td>1</td>\n",
              "    </tr>\n",
              "    <tr>\n",
              "      <th>3693</th>\n",
              "      <td>2.200466e-03</td>\n",
              "      <td>-0.025902</td>\n",
              "      <td>0.137525</td>\n",
              "      <td>0.173049</td>\n",
              "      <td>0.022932</td>\n",
              "      <td>0.182690</td>\n",
              "      <td>-0.616300</td>\n",
              "      <td>-0.780122</td>\n",
              "      <td>0.395481</td>\n",
              "      <td>-0.476267</td>\n",
              "      <td>0.0</td>\n",
              "      <td>0.0</td>\n",
              "      <td>0.0</td>\n",
              "      <td>0.0</td>\n",
              "      <td>0.0</td>\n",
              "      <td>0.0</td>\n",
              "      <td>0.0</td>\n",
              "      <td>0.0</td>\n",
              "      <td>0.0</td>\n",
              "      <td>0.0</td>\n",
              "      <td>0.0</td>\n",
              "      <td>0.0</td>\n",
              "      <td>0.0</td>\n",
              "      <td>0.0</td>\n",
              "      <td>0.0</td>\n",
              "      <td>0.0</td>\n",
              "      <td>0.0</td>\n",
              "      <td>0.0</td>\n",
              "      <td>0.0</td>\n",
              "      <td>0.0</td>\n",
              "      <td>0.0</td>\n",
              "      <td>0.0</td>\n",
              "      <td>0.0</td>\n",
              "      <td>0.0</td>\n",
              "      <td>0.0</td>\n",
              "      <td>0.0</td>\n",
              "      <td>0.0</td>\n",
              "      <td>0.0</td>\n",
              "      <td>0.0</td>\n",
              "      <td>0.0</td>\n",
              "      <td>...</td>\n",
              "      <td>0.0</td>\n",
              "      <td>0.0</td>\n",
              "      <td>1.0</td>\n",
              "      <td>1.0</td>\n",
              "      <td>1.0</td>\n",
              "      <td>0.0</td>\n",
              "      <td>1.0</td>\n",
              "      <td>0.0</td>\n",
              "      <td>0.0</td>\n",
              "      <td>0.0</td>\n",
              "      <td>0.0</td>\n",
              "      <td>1.0</td>\n",
              "      <td>0.0</td>\n",
              "      <td>0.0</td>\n",
              "      <td>0.0</td>\n",
              "      <td>1.0</td>\n",
              "      <td>1.0</td>\n",
              "      <td>0.0</td>\n",
              "      <td>0.0</td>\n",
              "      <td>1.0</td>\n",
              "      <td>0.0</td>\n",
              "      <td>0.0</td>\n",
              "      <td>0.0</td>\n",
              "      <td>0.0</td>\n",
              "      <td>0.0</td>\n",
              "      <td>0.0</td>\n",
              "      <td>1.0</td>\n",
              "      <td>1.0</td>\n",
              "      <td>0.0</td>\n",
              "      <td>0.0</td>\n",
              "      <td>0.0</td>\n",
              "      <td>0.0</td>\n",
              "      <td>0.0</td>\n",
              "      <td>0.0</td>\n",
              "      <td>0.0</td>\n",
              "      <td>0.0</td>\n",
              "      <td>0.0</td>\n",
              "      <td>0.0</td>\n",
              "      <td>0</td>\n",
              "      <td>1</td>\n",
              "    </tr>\n",
              "    <tr>\n",
              "      <th>4841</th>\n",
              "      <td>-1.469848e-01</td>\n",
              "      <td>-0.253172</td>\n",
              "      <td>-0.251732</td>\n",
              "      <td>-0.259008</td>\n",
              "      <td>-0.266450</td>\n",
              "      <td>-0.255392</td>\n",
              "      <td>0.535418</td>\n",
              "      <td>0.271976</td>\n",
              "      <td>-0.353480</td>\n",
              "      <td>-0.718768</td>\n",
              "      <td>0.0</td>\n",
              "      <td>0.0</td>\n",
              "      <td>0.0</td>\n",
              "      <td>0.0</td>\n",
              "      <td>0.0</td>\n",
              "      <td>0.0</td>\n",
              "      <td>0.0</td>\n",
              "      <td>0.0</td>\n",
              "      <td>0.0</td>\n",
              "      <td>0.0</td>\n",
              "      <td>0.0</td>\n",
              "      <td>0.0</td>\n",
              "      <td>0.0</td>\n",
              "      <td>0.0</td>\n",
              "      <td>1.0</td>\n",
              "      <td>0.0</td>\n",
              "      <td>0.0</td>\n",
              "      <td>1.0</td>\n",
              "      <td>0.0</td>\n",
              "      <td>0.0</td>\n",
              "      <td>0.0</td>\n",
              "      <td>0.0</td>\n",
              "      <td>0.0</td>\n",
              "      <td>0.0</td>\n",
              "      <td>0.0</td>\n",
              "      <td>0.0</td>\n",
              "      <td>0.0</td>\n",
              "      <td>1.0</td>\n",
              "      <td>0.0</td>\n",
              "      <td>0.0</td>\n",
              "      <td>...</td>\n",
              "      <td>1.0</td>\n",
              "      <td>1.0</td>\n",
              "      <td>1.0</td>\n",
              "      <td>0.0</td>\n",
              "      <td>0.0</td>\n",
              "      <td>0.0</td>\n",
              "      <td>0.0</td>\n",
              "      <td>0.0</td>\n",
              "      <td>0.0</td>\n",
              "      <td>0.0</td>\n",
              "      <td>0.0</td>\n",
              "      <td>1.0</td>\n",
              "      <td>0.0</td>\n",
              "      <td>0.0</td>\n",
              "      <td>0.0</td>\n",
              "      <td>1.0</td>\n",
              "      <td>0.0</td>\n",
              "      <td>1.0</td>\n",
              "      <td>0.0</td>\n",
              "      <td>0.0</td>\n",
              "      <td>0.0</td>\n",
              "      <td>0.0</td>\n",
              "      <td>0.0</td>\n",
              "      <td>1.0</td>\n",
              "      <td>0.0</td>\n",
              "      <td>0.0</td>\n",
              "      <td>0.0</td>\n",
              "      <td>0.0</td>\n",
              "      <td>0.0</td>\n",
              "      <td>0.0</td>\n",
              "      <td>0.0</td>\n",
              "      <td>0.0</td>\n",
              "      <td>0.0</td>\n",
              "      <td>0.0</td>\n",
              "      <td>0.0</td>\n",
              "      <td>0.0</td>\n",
              "      <td>0.0</td>\n",
              "      <td>0.0</td>\n",
              "      <td>0</td>\n",
              "      <td>1</td>\n",
              "    </tr>\n",
              "  </tbody>\n",
              "</table>\n",
              "<p>3353 rows × 107 columns</p>\n",
              "</div>"
            ],
            "text/plain": [
              "                  0         1         2  ...  var133  var134  trialOutcomes\n",
              "4097   1.160288e-16 -0.235057 -0.245428  ...     0.0       0              0\n",
              "13224  4.586296e-01 -0.146125  0.109158  ...     0.0       0              0\n",
              "1359   1.160288e-16 -0.267994 -0.281674  ...     0.0       0              0\n",
              "9655  -2.701042e-01 -0.123068  0.161164  ...     0.0       0              1\n",
              "4740  -2.956154e-01 -0.261407 -0.283250  ...     0.0       0              1\n",
              "...             ...       ...       ...  ...     ...     ...            ...\n",
              "6690  -8.986179e-02  6.953613  4.611610  ...     0.0       1              1\n",
              "2439   6.098721e-02 -0.264701 -0.270643  ...     0.0       0              0\n",
              "6330  -4.882199e-02 -0.216941 -0.119353  ...     0.0       0              1\n",
              "3693   2.200466e-03 -0.025902  0.137525  ...     0.0       0              1\n",
              "4841  -1.469848e-01 -0.253172 -0.251732  ...     0.0       0              1\n",
              "\n",
              "[3353 rows x 107 columns]"
            ]
          },
          "metadata": {
            "tags": []
          },
          "execution_count": 50
        }
      ]
    },
    {
      "cell_type": "code",
      "metadata": {
        "colab": {
          "base_uri": "https://localhost:8080/"
        },
        "id": "E3O6NEHaAmkT",
        "outputId": "29a2829d-8f32-4a76-eb17-21414e15e35a"
      },
      "source": [
        "# % of instances of each class\r\n",
        "strat_train_set[\"trialOutcomes\"].value_counts() / len(strat_train_set)"
      ],
      "execution_count": 51,
      "outputs": [
        {
          "output_type": "execute_result",
          "data": {
            "text/plain": [
              "1    0.639726\n",
              "0    0.360274\n",
              "Name: trialOutcomes, dtype: float64"
            ]
          },
          "metadata": {
            "tags": []
          },
          "execution_count": 51
        }
      ]
    },
    {
      "cell_type": "code",
      "metadata": {
        "colab": {
          "base_uri": "https://localhost:8080/"
        },
        "id": "DJEN2rA8DFv_",
        "outputId": "02ab0db9-6ad0-4bad-d030-e768f36d29ae"
      },
      "source": [
        "# % of instances of each class\r\n",
        "strat_test_set[\"trialOutcomes\"].value_counts() / len(strat_test_set)"
      ],
      "execution_count": 52,
      "outputs": [
        {
          "output_type": "execute_result",
          "data": {
            "text/plain": [
              "1    0.640048\n",
              "0    0.359952\n",
              "Name: trialOutcomes, dtype: float64"
            ]
          },
          "metadata": {
            "tags": []
          },
          "execution_count": 52
        }
      ]
    },
    {
      "cell_type": "code",
      "metadata": {
        "id": "HhSLmOlfDNSA"
      },
      "source": [
        "X_train = strat_train_set.copy()\r\n",
        "X_test = strat_test_set.copy()\r\n",
        "del X_train['trialOutcomes']\r\n",
        "del X_test['trialOutcomes']"
      ],
      "execution_count": 53,
      "outputs": []
    },
    {
      "cell_type": "code",
      "metadata": {
        "id": "yiTjEXPyFXdJ"
      },
      "source": [
        "y_train = strat_train_set[['trialOutcomes']].copy()\r\n",
        "y_test = strat_test_set[['trialOutcomes']].copy()"
      ],
      "execution_count": 54,
      "outputs": []
    },
    {
      "cell_type": "markdown",
      "metadata": {
        "id": "v1pzadme8c5E"
      },
      "source": [
        "# Model Fitting"
      ]
    },
    {
      "cell_type": "markdown",
      "metadata": {
        "id": "AdnlguTcF9fe"
      },
      "source": [
        "**Logistic Regression**"
      ]
    },
    {
      "cell_type": "code",
      "metadata": {
        "colab": {
          "base_uri": "https://localhost:8080/"
        },
        "id": "oISpuQj8F8tZ",
        "outputId": "65dca1e7-17bd-4330-ca98-388a2f1805a8"
      },
      "source": [
        "from sklearn.linear_model import LogisticRegression\r\n",
        "\r\n",
        "log_clf = LogisticRegression(solver='saga', random_state=42)\r\n",
        "log_clf.fit(X_train, y_train.values.ravel())"
      ],
      "execution_count": 55,
      "outputs": [
        {
          "output_type": "stream",
          "text": [
            "/usr/local/lib/python3.6/dist-packages/sklearn/linear_model/_sag.py:330: ConvergenceWarning: The max_iter was reached which means the coef_ did not converge\n",
            "  \"the coef_ did not converge\", ConvergenceWarning)\n"
          ],
          "name": "stderr"
        },
        {
          "output_type": "execute_result",
          "data": {
            "text/plain": [
              "LogisticRegression(C=1.0, class_weight=None, dual=False, fit_intercept=True,\n",
              "                   intercept_scaling=1, l1_ratio=None, max_iter=100,\n",
              "                   multi_class='auto', n_jobs=None, penalty='l2',\n",
              "                   random_state=42, solver='saga', tol=0.0001, verbose=0,\n",
              "                   warm_start=False)"
            ]
          },
          "metadata": {
            "tags": []
          },
          "execution_count": 55
        }
      ]
    },
    {
      "cell_type": "code",
      "metadata": {
        "id": "_l8oMvUHF8k0"
      },
      "source": [
        "y_pred = log_clf.predict(X_test)"
      ],
      "execution_count": 56,
      "outputs": []
    },
    {
      "cell_type": "code",
      "metadata": {
        "colab": {
          "base_uri": "https://localhost:8080/"
        },
        "id": "PNtil_9WF8V4",
        "outputId": "7e2990ae-757a-47b7-8c88-25f702900535"
      },
      "source": [
        "from sklearn.metrics import f1_score\r\n",
        "\r\n",
        "f1_score(y_test, y_pred)"
      ],
      "execution_count": 57,
      "outputs": [
        {
          "output_type": "execute_result",
          "data": {
            "text/plain": [
              "0.7744165946413137"
            ]
          },
          "metadata": {
            "tags": []
          },
          "execution_count": 57
        }
      ]
    },
    {
      "cell_type": "code",
      "metadata": {
        "colab": {
          "base_uri": "https://localhost:8080/"
        },
        "id": "PI_o52znNREz",
        "outputId": "c7e850a1-4d23-48b3-aa2f-367b399b0e00"
      },
      "source": [
        "from sklearn.metrics import precision_score\r\n",
        "\r\n",
        "precision_score(y_test, y_pred)"
      ],
      "execution_count": 58,
      "outputs": [
        {
          "output_type": "execute_result",
          "data": {
            "text/plain": [
              "0.7225806451612903"
            ]
          },
          "metadata": {
            "tags": []
          },
          "execution_count": 58
        }
      ]
    },
    {
      "cell_type": "markdown",
      "metadata": {
        "id": "0xFyHgfITqcF"
      },
      "source": [
        "**KNN Classifier**"
      ]
    },
    {
      "cell_type": "code",
      "metadata": {
        "colab": {
          "base_uri": "https://localhost:8080/"
        },
        "id": "xxzrKNDvTps4",
        "outputId": "ea6b42da-b2e3-42b9-da85-2ae7eee05c81"
      },
      "source": [
        "from sklearn.neighbors import KNeighborsClassifier\r\n",
        "\r\n",
        "knn_clf = KNeighborsClassifier(weights='distance', n_neighbors=30)\r\n",
        "knn_clf.fit(X_train, y_train.values.ravel())"
      ],
      "execution_count": 59,
      "outputs": [
        {
          "output_type": "execute_result",
          "data": {
            "text/plain": [
              "KNeighborsClassifier(algorithm='auto', leaf_size=30, metric='minkowski',\n",
              "                     metric_params=None, n_jobs=None, n_neighbors=30, p=2,\n",
              "                     weights='distance')"
            ]
          },
          "metadata": {
            "tags": []
          },
          "execution_count": 59
        }
      ]
    },
    {
      "cell_type": "code",
      "metadata": {
        "id": "ovUx9njLTpg9"
      },
      "source": [
        "y_pred = knn_clf.predict(X_test)"
      ],
      "execution_count": 60,
      "outputs": []
    },
    {
      "cell_type": "code",
      "metadata": {
        "colab": {
          "base_uri": "https://localhost:8080/"
        },
        "id": "luMDiBWHTpRX",
        "outputId": "b7c2ab1a-06f1-4bee-aace-51285484f3f5"
      },
      "source": [
        "f1_score(y_test, y_pred)"
      ],
      "execution_count": 61,
      "outputs": [
        {
          "output_type": "execute_result",
          "data": {
            "text/plain": [
              "0.7815333882934872"
            ]
          },
          "metadata": {
            "tags": []
          },
          "execution_count": 61
        }
      ]
    },
    {
      "cell_type": "code",
      "metadata": {
        "colab": {
          "base_uri": "https://localhost:8080/"
        },
        "id": "FgileehYTpDx",
        "outputId": "1a24425c-ceba-48db-d6d0-7b7179cd994f"
      },
      "source": [
        "precision_score(y_test, y_pred)"
      ],
      "execution_count": 62,
      "outputs": [
        {
          "output_type": "execute_result",
          "data": {
            "text/plain": [
              "0.7011834319526628"
            ]
          },
          "metadata": {
            "tags": []
          },
          "execution_count": 62
        }
      ]
    },
    {
      "cell_type": "markdown",
      "metadata": {
        "id": "ygk4R1UbVStd"
      },
      "source": [
        "**SVC**"
      ]
    },
    {
      "cell_type": "code",
      "metadata": {
        "colab": {
          "base_uri": "https://localhost:8080/"
        },
        "id": "EtIz7_xqVWq8",
        "outputId": "4250c095-05f1-47a5-e281-9a0416835142"
      },
      "source": [
        "from sklearn.svm import LinearSVC\r\n",
        "\r\n",
        "svc = LinearSVC(C=0.1, max_iter=10000)\r\n",
        "svc.fit(X_train, y_train.values.ravel())"
      ],
      "execution_count": 63,
      "outputs": [
        {
          "output_type": "execute_result",
          "data": {
            "text/plain": [
              "LinearSVC(C=0.1, class_weight=None, dual=True, fit_intercept=True,\n",
              "          intercept_scaling=1, loss='squared_hinge', max_iter=10000,\n",
              "          multi_class='ovr', penalty='l2', random_state=None, tol=0.0001,\n",
              "          verbose=0)"
            ]
          },
          "metadata": {
            "tags": []
          },
          "execution_count": 63
        }
      ]
    },
    {
      "cell_type": "code",
      "metadata": {
        "id": "qMkve_H6VWnU"
      },
      "source": [
        "y_pred = svc.predict(X_test)"
      ],
      "execution_count": 64,
      "outputs": []
    },
    {
      "cell_type": "code",
      "metadata": {
        "colab": {
          "base_uri": "https://localhost:8080/"
        },
        "id": "c5eZJ93oVWfg",
        "outputId": "733bfe3e-89ee-4475-d661-6ca890fd67be"
      },
      "source": [
        "f1_score(y_test, y_pred)"
      ],
      "execution_count": 65,
      "outputs": [
        {
          "output_type": "execute_result",
          "data": {
            "text/plain": [
              "0.778063410454156"
            ]
          },
          "metadata": {
            "tags": []
          },
          "execution_count": 65
        }
      ]
    },
    {
      "cell_type": "code",
      "metadata": {
        "colab": {
          "base_uri": "https://localhost:8080/"
        },
        "id": "bRTCP2gxVWZ2",
        "outputId": "e27fc06e-a028-48e8-8e5b-a8af5a84c862"
      },
      "source": [
        "precision_score(y_test, y_pred)"
      ],
      "execution_count": 66,
      "outputs": [
        {
          "output_type": "execute_result",
          "data": {
            "text/plain": [
              "0.7206349206349206"
            ]
          },
          "metadata": {
            "tags": []
          },
          "execution_count": 66
        }
      ]
    },
    {
      "cell_type": "markdown",
      "metadata": {
        "id": "YIugUH9Rfhu-"
      },
      "source": [
        "**Multi-layer Perceptron**"
      ]
    },
    {
      "cell_type": "code",
      "metadata": {
        "id": "CjJvCKGyfrAs"
      },
      "source": [
        "param_space = {\r\n",
        "    'activation': ['logistic'],\r\n",
        "    'solver': ['sgd'],\r\n",
        "    'random_state': [1],\r\n",
        "    'max_iter': [5000],\r\n",
        "    'learning_rate_init': [0.4, 0.1, 0.01],\r\n",
        "    'hidden_layer_sizes': [(128,64), (64), (64,32), (32)]\r\n",
        "}"
      ],
      "execution_count": 67,
      "outputs": []
    },
    {
      "cell_type": "code",
      "metadata": {
        "id": "UXwfcYv5fq23",
        "colab": {
          "base_uri": "https://localhost:8080/"
        },
        "outputId": "c5dcb1ab-acba-4dcb-a485-7c65a97b8897"
      },
      "source": [
        "# Multi-layer Perceptron\r\n",
        "from sklearn.neural_network import MLPClassifier\r\n",
        "from sklearn.model_selection import GridSearchCV\r\n",
        "\r\n",
        "mlp = MLPClassifier()\r\n",
        "mlp_clf = GridSearchCV(mlp, param_space, n_jobs=-1, cv=3)\r\n",
        "mlp_clf.fit(X_train, y_train.values.ravel())"
      ],
      "execution_count": 68,
      "outputs": [
        {
          "output_type": "execute_result",
          "data": {
            "text/plain": [
              "GridSearchCV(cv=3, error_score=nan,\n",
              "             estimator=MLPClassifier(activation='relu', alpha=0.0001,\n",
              "                                     batch_size='auto', beta_1=0.9,\n",
              "                                     beta_2=0.999, early_stopping=False,\n",
              "                                     epsilon=1e-08, hidden_layer_sizes=(100,),\n",
              "                                     learning_rate='constant',\n",
              "                                     learning_rate_init=0.001, max_fun=15000,\n",
              "                                     max_iter=200, momentum=0.9,\n",
              "                                     n_iter_no_change=10,\n",
              "                                     nesterovs_momentum=True, power_t=0.5,\n",
              "                                     random_state...\n",
              "                                     solver='adam', tol=0.0001,\n",
              "                                     validation_fraction=0.1, verbose=False,\n",
              "                                     warm_start=False),\n",
              "             iid='deprecated', n_jobs=-1,\n",
              "             param_grid={'activation': ['logistic'],\n",
              "                         'hidden_layer_sizes': [(128, 64), 64, (64, 32), 32],\n",
              "                         'learning_rate_init': [0.4, 0.1, 0.01],\n",
              "                         'max_iter': [5000], 'random_state': [1],\n",
              "                         'solver': ['sgd']},\n",
              "             pre_dispatch='2*n_jobs', refit=True, return_train_score=False,\n",
              "             scoring=None, verbose=0)"
            ]
          },
          "metadata": {
            "tags": []
          },
          "execution_count": 68
        }
      ]
    },
    {
      "cell_type": "code",
      "metadata": {
        "id": "Z-bPvrkHfqtm"
      },
      "source": [
        "y_pred = mlp_clf.predict(X_test)"
      ],
      "execution_count": 69,
      "outputs": []
    },
    {
      "cell_type": "code",
      "metadata": {
        "id": "GQArXnrwfqls",
        "colab": {
          "base_uri": "https://localhost:8080/"
        },
        "outputId": "4be6ff71-4b29-4e84-c983-d6bfd0939053"
      },
      "source": [
        "f1_score(y_test, y_pred)"
      ],
      "execution_count": 70,
      "outputs": [
        {
          "output_type": "execute_result",
          "data": {
            "text/plain": [
              "0.7669990933816864"
            ]
          },
          "metadata": {
            "tags": []
          },
          "execution_count": 70
        }
      ]
    },
    {
      "cell_type": "code",
      "metadata": {
        "id": "vu4xir_mfqfH",
        "colab": {
          "base_uri": "https://localhost:8080/"
        },
        "outputId": "7c0c5b3c-2404-4332-c7bc-f261e17775bf"
      },
      "source": [
        "precision_score(y_test, y_pred)"
      ],
      "execution_count": 71,
      "outputs": [
        {
          "output_type": "execute_result",
          "data": {
            "text/plain": [
              "0.7473498233215548"
            ]
          },
          "metadata": {
            "tags": []
          },
          "execution_count": 71
        }
      ]
    },
    {
      "cell_type": "markdown",
      "metadata": {
        "id": "i9hYNFdITk_W"
      },
      "source": [
        "**Random Forest**"
      ]
    },
    {
      "cell_type": "code",
      "metadata": {
        "colab": {
          "base_uri": "https://localhost:8080/"
        },
        "id": "JW_BRXs0Fk1w",
        "outputId": "312bfe0d-9360-43d9-ecea-c23481ff1249"
      },
      "source": [
        "from sklearn.ensemble import RandomForestClassifier\r\n",
        "\r\n",
        "rf = RandomForestClassifier(random_state=42)\r\n",
        "rf.fit(X_train, y_train.values.ravel())"
      ],
      "execution_count": 72,
      "outputs": [
        {
          "output_type": "execute_result",
          "data": {
            "text/plain": [
              "RandomForestClassifier(bootstrap=True, ccp_alpha=0.0, class_weight=None,\n",
              "                       criterion='gini', max_depth=None, max_features='auto',\n",
              "                       max_leaf_nodes=None, max_samples=None,\n",
              "                       min_impurity_decrease=0.0, min_impurity_split=None,\n",
              "                       min_samples_leaf=1, min_samples_split=2,\n",
              "                       min_weight_fraction_leaf=0.0, n_estimators=100,\n",
              "                       n_jobs=None, oob_score=False, random_state=42, verbose=0,\n",
              "                       warm_start=False)"
            ]
          },
          "metadata": {
            "tags": []
          },
          "execution_count": 72
        }
      ]
    },
    {
      "cell_type": "code",
      "metadata": {
        "id": "ibqnAbr5GWQG"
      },
      "source": [
        "y_pred = rf.predict(X_test)"
      ],
      "execution_count": 73,
      "outputs": []
    },
    {
      "cell_type": "code",
      "metadata": {
        "colab": {
          "base_uri": "https://localhost:8080/"
        },
        "id": "BbQ9l18MGpC0",
        "outputId": "05253dde-0c94-4b91-cd34-53371dd86afe"
      },
      "source": [
        "f1_score(y_test, y_pred)"
      ],
      "execution_count": 74,
      "outputs": [
        {
          "output_type": "execute_result",
          "data": {
            "text/plain": [
              "0.7986050566695728"
            ]
          },
          "metadata": {
            "tags": []
          },
          "execution_count": 74
        }
      ]
    },
    {
      "cell_type": "code",
      "metadata": {
        "id": "C7D3h0FaGydI",
        "colab": {
          "base_uri": "https://localhost:8080/"
        },
        "outputId": "fb1737b1-97ec-4d6d-d0f5-d6d7ff3f0101"
      },
      "source": [
        "precision_score(y_test, y_pred)"
      ],
      "execution_count": 75,
      "outputs": [
        {
          "output_type": "execute_result",
          "data": {
            "text/plain": [
              "0.7508196721311475"
            ]
          },
          "metadata": {
            "tags": []
          },
          "execution_count": 75
        }
      ]
    },
    {
      "cell_type": "code",
      "metadata": {
        "colab": {
          "base_uri": "https://localhost:8080/"
        },
        "id": "U7DAU7Ws9OmD",
        "outputId": "81408b87-e601-4070-b275-59806cade0c0"
      },
      "source": [
        "# % of instances of each class\r\n",
        "y_pred_df = pd.DataFrame(y_pred, columns = [\"trialOutcomes\"])\r\n",
        "y_pred_df[\"trialOutcomes\"].value_counts() / len(strat_test_set)"
      ],
      "execution_count": 76,
      "outputs": [
        {
          "output_type": "execute_result",
          "data": {
            "text/plain": [
              "1    0.727056\n",
              "0    0.272944\n",
              "Name: trialOutcomes, dtype: float64"
            ]
          },
          "metadata": {
            "tags": []
          },
          "execution_count": 76
        }
      ]
    },
    {
      "cell_type": "markdown",
      "metadata": {
        "id": "s7YcROn6I3ij"
      },
      "source": [
        "**Random Forest using Grid Search**"
      ]
    },
    {
      "cell_type": "code",
      "metadata": {
        "id": "EezqzFhAI7W4"
      },
      "source": [
        "rfc = RandomForestClassifier(random_state=42)"
      ],
      "execution_count": 77,
      "outputs": []
    },
    {
      "cell_type": "code",
      "metadata": {
        "id": "zZUMczfwI7TR"
      },
      "source": [
        "param_grid = { \r\n",
        "    'n_estimators': [200, 500],\r\n",
        "    'max_features': ['auto', 'sqrt', 'log2'],\r\n",
        "    'max_depth' : [4,5,6,7,8, 20],\r\n",
        "    'criterion' : ['gini', 'entropy']\r\n",
        "}"
      ],
      "execution_count": 78,
      "outputs": []
    },
    {
      "cell_type": "code",
      "metadata": {
        "colab": {
          "base_uri": "https://localhost:8080/"
        },
        "id": "WjpmOsK4I7Fu",
        "outputId": "2b23d754-5c6c-4dbf-c0bc-a6793b02b664"
      },
      "source": [
        "from sklearn.model_selection import GridSearchCV\r\n",
        "\r\n",
        "CV_rfc = GridSearchCV(estimator=rfc, param_grid=param_grid, cv = 5)\r\n",
        "CV_rfc.fit(X_train, y_train.values.ravel())"
      ],
      "execution_count": 79,
      "outputs": [
        {
          "output_type": "execute_result",
          "data": {
            "text/plain": [
              "GridSearchCV(cv=5, error_score=nan,\n",
              "             estimator=RandomForestClassifier(bootstrap=True, ccp_alpha=0.0,\n",
              "                                              class_weight=None,\n",
              "                                              criterion='gini', max_depth=None,\n",
              "                                              max_features='auto',\n",
              "                                              max_leaf_nodes=None,\n",
              "                                              max_samples=None,\n",
              "                                              min_impurity_decrease=0.0,\n",
              "                                              min_impurity_split=None,\n",
              "                                              min_samples_leaf=1,\n",
              "                                              min_samples_split=2,\n",
              "                                              min_weight_fraction_leaf=0.0,\n",
              "                                              n_estimators=100, n_jobs=None,\n",
              "                                              oob_score=False, random_state=42,\n",
              "                                              verbose=0, warm_start=False),\n",
              "             iid='deprecated', n_jobs=None,\n",
              "             param_grid={'criterion': ['gini', 'entropy'],\n",
              "                         'max_depth': [4, 5, 6, 7, 8, 20],\n",
              "                         'max_features': ['auto', 'sqrt', 'log2'],\n",
              "                         'n_estimators': [200, 500]},\n",
              "             pre_dispatch='2*n_jobs', refit=True, return_train_score=False,\n",
              "             scoring=None, verbose=0)"
            ]
          },
          "metadata": {
            "tags": []
          },
          "execution_count": 79
        }
      ]
    },
    {
      "cell_type": "code",
      "metadata": {
        "colab": {
          "base_uri": "https://localhost:8080/"
        },
        "id": "QARvct-pI7CV",
        "outputId": "0c42ca18-94ea-4e0e-b4b4-a3704b2038e2"
      },
      "source": [
        "CV_rfc.best_params_"
      ],
      "execution_count": 80,
      "outputs": [
        {
          "output_type": "execute_result",
          "data": {
            "text/plain": [
              "{'criterion': 'entropy',\n",
              " 'max_depth': 20,\n",
              " 'max_features': 'auto',\n",
              " 'n_estimators': 200}"
            ]
          },
          "metadata": {
            "tags": []
          },
          "execution_count": 80
        }
      ]
    },
    {
      "cell_type": "code",
      "metadata": {
        "id": "lNmgaTi1I6_f"
      },
      "source": [
        "y_pred = rf.predict(X_test)"
      ],
      "execution_count": 81,
      "outputs": []
    },
    {
      "cell_type": "code",
      "metadata": {
        "colab": {
          "base_uri": "https://localhost:8080/"
        },
        "id": "649PPH6zJjHd",
        "outputId": "3b7c1db9-f9f1-4c7e-cb30-be84bf291047"
      },
      "source": [
        "f1_score(y_test, y_pred)"
      ],
      "execution_count": 82,
      "outputs": [
        {
          "output_type": "execute_result",
          "data": {
            "text/plain": [
              "0.7986050566695728"
            ]
          },
          "metadata": {
            "tags": []
          },
          "execution_count": 82
        }
      ]
    },
    {
      "cell_type": "code",
      "metadata": {
        "colab": {
          "base_uri": "https://localhost:8080/"
        },
        "id": "bJicHotvJl6V",
        "outputId": "ed7f16e6-c5e6-4c2e-db80-d92596360306"
      },
      "source": [
        "precision_score(y_test, y_pred)"
      ],
      "execution_count": 83,
      "outputs": [
        {
          "output_type": "execute_result",
          "data": {
            "text/plain": [
              "0.7508196721311475"
            ]
          },
          "metadata": {
            "tags": []
          },
          "execution_count": 83
        }
      ]
    },
    {
      "cell_type": "markdown",
      "metadata": {
        "id": "xx5NgRHLka8u"
      },
      "source": [
        "**Ada Boost Classifier**"
      ]
    },
    {
      "cell_type": "code",
      "metadata": {
        "colab": {
          "base_uri": "https://localhost:8080/"
        },
        "id": "h5Ll6mmDkfEX",
        "outputId": "0e25390d-822b-4368-d91c-4f131227e8f9"
      },
      "source": [
        "from sklearn.ensemble import AdaBoostClassifier\r\n",
        "\r\n",
        "ada = AdaBoostClassifier(n_estimators=100, random_state=0)\r\n",
        "ada.fit(X_train, y_train.values.ravel())"
      ],
      "execution_count": 84,
      "outputs": [
        {
          "output_type": "execute_result",
          "data": {
            "text/plain": [
              "AdaBoostClassifier(algorithm='SAMME.R', base_estimator=None, learning_rate=1.0,\n",
              "                   n_estimators=100, random_state=0)"
            ]
          },
          "metadata": {
            "tags": []
          },
          "execution_count": 84
        }
      ]
    },
    {
      "cell_type": "code",
      "metadata": {
        "id": "xBrSqVPZke9d"
      },
      "source": [
        "y_pred = ada.predict(X_test)"
      ],
      "execution_count": 85,
      "outputs": []
    },
    {
      "cell_type": "code",
      "metadata": {
        "colab": {
          "base_uri": "https://localhost:8080/"
        },
        "id": "N8hL6mPZke3A",
        "outputId": "6ed8efa6-9ad2-45bd-9ed0-ad0c2935dc61"
      },
      "source": [
        "f1_score(y_test, y_pred)"
      ],
      "execution_count": 86,
      "outputs": [
        {
          "output_type": "execute_result",
          "data": {
            "text/plain": [
              "0.8013816925734024"
            ]
          },
          "metadata": {
            "tags": []
          },
          "execution_count": 86
        }
      ]
    },
    {
      "cell_type": "code",
      "metadata": {
        "colab": {
          "base_uri": "https://localhost:8080/"
        },
        "id": "fr4i_95Wk1RZ",
        "outputId": "624e2b97-7142-4bc4-f7ab-2536b2eed71b"
      },
      "source": [
        "precision_score(y_test, y_pred)"
      ],
      "execution_count": 87,
      "outputs": [
        {
          "output_type": "execute_result",
          "data": {
            "text/plain": [
              "0.7471819645732689"
            ]
          },
          "metadata": {
            "tags": []
          },
          "execution_count": 87
        }
      ]
    },
    {
      "cell_type": "code",
      "metadata": {
        "colab": {
          "base_uri": "https://localhost:8080/"
        },
        "id": "odTkkU4jCyRq",
        "outputId": "83acd6cf-859e-4f4d-d68c-123ec314b21e"
      },
      "source": [
        "# % of instances of each class\r\n",
        "y_pred_df = pd.DataFrame(y_pred, columns = [\"trialOutcomes\"])\r\n",
        "y_pred_df[\"trialOutcomes\"].value_counts() / len(strat_test_set)"
      ],
      "execution_count": 88,
      "outputs": [
        {
          "output_type": "execute_result",
          "data": {
            "text/plain": [
              "1    0.740167\n",
              "0    0.259833\n",
              "Name: trialOutcomes, dtype: float64"
            ]
          },
          "metadata": {
            "tags": []
          },
          "execution_count": 88
        }
      ]
    },
    {
      "cell_type": "markdown",
      "metadata": {
        "id": "Q2JWuXcQj3pN"
      },
      "source": [
        "**QuadraticDiscriminantAnalysis**"
      ]
    },
    {
      "cell_type": "code",
      "metadata": {
        "id": "NG7NdlJjj9Nv"
      },
      "source": [
        "# from sklearn.discriminant_analysis import QuadraticDiscriminantAnalysis\r\n",
        "\r\n",
        "# clf = QuadraticDiscriminantAnalysis()\r\n",
        "# clf.fit(X_train, y_train.values.ravel())"
      ],
      "execution_count": 89,
      "outputs": []
    },
    {
      "cell_type": "code",
      "metadata": {
        "id": "IIMWqeDWj9I6"
      },
      "source": [
        "# y_pred = clf.predict(X_test)"
      ],
      "execution_count": 90,
      "outputs": []
    },
    {
      "cell_type": "code",
      "metadata": {
        "id": "ir6p_vfnj9Ds"
      },
      "source": [
        "# f1_score(y_test, y_pred)"
      ],
      "execution_count": 91,
      "outputs": []
    },
    {
      "cell_type": "code",
      "metadata": {
        "id": "Uqxe2ONgj8-q"
      },
      "source": [
        "# precision_score(y_test, y_pred)"
      ],
      "execution_count": 92,
      "outputs": []
    },
    {
      "cell_type": "code",
      "metadata": {
        "id": "4KYTPZQqLHWs"
      },
      "source": [
        ""
      ],
      "execution_count": 92,
      "outputs": []
    },
    {
      "cell_type": "markdown",
      "metadata": {
        "id": "bp29FIfmU2Pf"
      },
      "source": [
        "**Playing with Probabilities**"
      ]
    },
    {
      "cell_type": "code",
      "metadata": {
        "id": "62pG0oWyXeGd"
      },
      "source": [
        "y_pred_proba = rf.predict_proba(X_test)"
      ],
      "execution_count": 93,
      "outputs": []
    },
    {
      "cell_type": "code",
      "metadata": {
        "id": "d4Y67IWZYRqO"
      },
      "source": [
        "# y_pred_proba[:10]"
      ],
      "execution_count": 94,
      "outputs": []
    },
    {
      "cell_type": "code",
      "metadata": {
        "id": "-ijAEmGcYXz6"
      },
      "source": [
        "# y_pred[:10]"
      ],
      "execution_count": 95,
      "outputs": []
    },
    {
      "cell_type": "markdown",
      "metadata": {
        "id": "y72hdK11zlKd"
      },
      "source": [
        "**custom function for classifying according my threshold**  \r\n",
        "if prob of class 1 is > 0.7, it is positive  \r\n",
        "                      > 0.5, it is unknown  \r\n",
        "                      < 0.5, it is negative"
      ]
    },
    {
      "cell_type": "code",
      "metadata": {
        "id": "HaKBOp5Ezk38"
      },
      "source": [
        "# y_pred_proba[:10,1]"
      ],
      "execution_count": 96,
      "outputs": []
    },
    {
      "cell_type": "code",
      "metadata": {
        "id": "i3wrji3Fzkrz"
      },
      "source": [
        "# len(y_pred_proba[:,1])"
      ],
      "execution_count": 97,
      "outputs": []
    },
    {
      "cell_type": "code",
      "metadata": {
        "id": "s1GoWho4zkgm"
      },
      "source": [
        "def assignClass(probs, r1, r2):\r\n",
        "  y_class = []\r\n",
        "  for i in range(len(probs[:,1])):\r\n",
        "    if probs[i,1] >= r1:\r\n",
        "      y_class.append(1)\r\n",
        "    elif probs[i,1] < r1 and probs[i,1] >= r2:\r\n",
        "      y_class.append('UNKNOWN')\r\n",
        "    else:\r\n",
        "      y_class.append(0)\r\n",
        "  return y_class"
      ],
      "execution_count": 98,
      "outputs": []
    },
    {
      "cell_type": "code",
      "metadata": {
        "id": "7of7OLOkYdQD"
      },
      "source": [
        "def calcPositives(y_hat, y_true):\r\n",
        "  tp = 0\r\n",
        "  fp = 0\r\n",
        "  fn = 0\r\n",
        "  for i in range(len(y_true)):\r\n",
        "    if (y_hat[i] == 1) & (y_true.iloc[i,0] == 1):\r\n",
        "      tp += 1\r\n",
        "    elif (y_hat[i] == 1) & (y_true.iloc[i,0] == 0):\r\n",
        "      fp += 1\r\n",
        "    elif (y_hat[i] == 0) & (y_true.iloc[i,0] == 1):\r\n",
        "      fn += 1\r\n",
        "  return tp, fp, fn"
      ],
      "execution_count": 99,
      "outputs": []
    },
    {
      "cell_type": "code",
      "metadata": {
        "id": "t5L-OJU58q1H"
      },
      "source": [
        "def calcPrecision(tp, fp):\r\n",
        "  return tp / (tp + fp)"
      ],
      "execution_count": 100,
      "outputs": []
    },
    {
      "cell_type": "code",
      "metadata": {
        "id": "5S942TqM80dg"
      },
      "source": [
        "def calcAccuracy(y_hat):\r\n",
        "  unknown = 0 \r\n",
        "  for i in range(len(y_hat)):\r\n",
        "    if y_hat[i] != 1 and y_hat[i] != 0:\r\n",
        "      unknown += 1\r\n",
        "  return (1 - (unknown / len(y_hat))), unknown"
      ],
      "execution_count": 101,
      "outputs": []
    },
    {
      "cell_type": "code",
      "metadata": {
        "id": "cBuWXE0YzkU3"
      },
      "source": [
        "y_pred_class = []\r\n",
        "y_pred_class = assignClass(y_pred_proba, 0.81, 0.69)"
      ],
      "execution_count": 178,
      "outputs": []
    },
    {
      "cell_type": "code",
      "metadata": {
        "colab": {
          "base_uri": "https://localhost:8080/"
        },
        "id": "YTjNRAMZ9TQz",
        "outputId": "c57c3be0-eb92-4e00-8da2-1d48d5ae6eaa"
      },
      "source": [
        "accuracy, unknowns = calcAccuracy(y_pred_class)\r\n",
        "print(\"Accuracy: \", accuracy)"
      ],
      "execution_count": 179,
      "outputs": [
        {
          "output_type": "stream",
          "text": [
            "Accuracy:  0.802145411203814\n"
          ],
          "name": "stdout"
        }
      ]
    },
    {
      "cell_type": "code",
      "metadata": {
        "colab": {
          "base_uri": "https://localhost:8080/"
        },
        "id": "UDCTb5hI9S5D",
        "outputId": "cf518074-3f66-47e1-8b01-5101823cb689"
      },
      "source": [
        "unknowns"
      ],
      "execution_count": 180,
      "outputs": [
        {
          "output_type": "execute_result",
          "data": {
            "text/plain": [
              "166"
            ]
          },
          "metadata": {
            "tags": []
          },
          "execution_count": 180
        }
      ]
    },
    {
      "cell_type": "code",
      "metadata": {
        "id": "Qf9fioE84LTP"
      },
      "source": [
        "tp, fp, fn = calcPositives(y_pred_class, y_test)"
      ],
      "execution_count": 181,
      "outputs": []
    },
    {
      "cell_type": "code",
      "metadata": {
        "colab": {
          "base_uri": "https://localhost:8080/"
        },
        "id": "fDq6Us8bDIBM",
        "outputId": "c9aad2a1-74a5-4562-8891-c5c9ca1d8ca3"
      },
      "source": [
        "tp"
      ],
      "execution_count": 182,
      "outputs": [
        {
          "output_type": "execute_result",
          "data": {
            "text/plain": [
              "211"
            ]
          },
          "metadata": {
            "tags": []
          },
          "execution_count": 182
        }
      ]
    },
    {
      "cell_type": "code",
      "metadata": {
        "colab": {
          "base_uri": "https://localhost:8080/"
        },
        "id": "KwKsc4fTDL5X",
        "outputId": "ca51af44-6fc4-4034-e9fa-afd8d844d7b2"
      },
      "source": [
        "fp"
      ],
      "execution_count": 183,
      "outputs": [
        {
          "output_type": "execute_result",
          "data": {
            "text/plain": [
              "23"
            ]
          },
          "metadata": {
            "tags": []
          },
          "execution_count": 183
        }
      ]
    },
    {
      "cell_type": "code",
      "metadata": {
        "colab": {
          "base_uri": "https://localhost:8080/"
        },
        "id": "FogM7S8s4LP1",
        "outputId": "5935b748-5c6a-4ccf-b333-56ec4f441390"
      },
      "source": [
        "precision = calcPrecision(tp, fp)\r\n",
        "print(\"Precision: \", precision)"
      ],
      "execution_count": 184,
      "outputs": [
        {
          "output_type": "stream",
          "text": [
            "Precision:  0.9017094017094017\n"
          ],
          "name": "stdout"
        }
      ]
    },
    {
      "cell_type": "code",
      "metadata": {
        "colab": {
          "base_uri": "https://localhost:8080/"
        },
        "id": "wwkWv1gK_b8j",
        "outputId": "d204352f-01ca-452a-e927-107e035fb33f"
      },
      "source": [
        "f1 = tp / (tp + (0.5 * (fp + fn)))\r\n",
        "print(\"f1-score: \", f1)"
      ],
      "execution_count": 185,
      "outputs": [
        {
          "output_type": "stream",
          "text": [
            "f1-score:  0.653250773993808\n"
          ],
          "name": "stdout"
        }
      ]
    },
    {
      "cell_type": "code",
      "metadata": {
        "colab": {
          "base_uri": "https://localhost:8080/"
        },
        "id": "1jF5ISAuG3Uo",
        "outputId": "a986bc86-4806-40f6-d82f-57d6ed0f9d31"
      },
      "source": [
        "# % of instances of each class\r\n",
        "y_pred_df = pd.DataFrame(y_pred_class, columns = [\"trialOutcomes\"])\r\n",
        "y_pred_df[\"trialOutcomes\"].value_counts() / len(strat_test_set)"
      ],
      "execution_count": 186,
      "outputs": [
        {
          "output_type": "execute_result",
          "data": {
            "text/plain": [
              "0          0.523242\n",
              "1          0.278903\n",
              "UNKNOWN    0.197855\n",
              "Name: trialOutcomes, dtype: float64"
            ]
          },
          "metadata": {
            "tags": []
          },
          "execution_count": 186
        }
      ]
    },
    {
      "cell_type": "markdown",
      "metadata": {
        "id": "2Ap_gR-oyN3-"
      },
      "source": [
        "**how about we drop the categorical variable cols with missing values**  \r\n",
        "or impute them with mode"
      ]
    },
    {
      "cell_type": "code",
      "metadata": {
        "id": "yz4Pm3EXyYvr"
      },
      "source": [
        ""
      ],
      "execution_count": 110,
      "outputs": []
    }
  ]
}